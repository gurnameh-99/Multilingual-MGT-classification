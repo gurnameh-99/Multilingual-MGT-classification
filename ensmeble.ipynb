{
  "cells": [
    {
      "cell_type": "markdown",
      "metadata": {
        "id": "KEK-kMtKxR3f"
      },
      "source": [
        "# Importing library"
      ]
    },
    {
      "cell_type": "code",
      "execution_count": 1,
      "metadata": {
        "execution": {
          "iopub.execute_input": "2023-11-09T19:31:33.691741Z",
          "iopub.status.busy": "2023-11-09T19:31:33.691374Z",
          "iopub.status.idle": "2023-11-09T19:31:36.029798Z",
          "shell.execute_reply": "2023-11-09T19:31:36.028676Z",
          "shell.execute_reply.started": "2023-11-09T19:31:33.691712Z"
        },
        "id": "5JPzB--DxR3f",
        "trusted": true
      },
      "outputs": [],
      "source": [
        "import pandas as pd\n",
        "from sklearn.model_selection import train_test_split\n",
        "from sklearn.feature_extraction.text import TfidfVectorizer\n",
        "from sklearn.linear_model import SGDClassifier, LogisticRegression\n",
        "from sklearn.ensemble import VotingClassifier\n",
        "from sklearn.metrics import classification_report, accuracy_score\n"
      ]
    },
    {
      "cell_type": "markdown",
      "metadata": {
        "id": "-MuPCnP2xR3g"
      },
      "source": [
        "# Importing files and Feature Engineering"
      ]
    },
    {
      "cell_type": "code",
      "execution_count": 2,
      "metadata": {
        "colab": {
          "base_uri": "https://localhost:8080/"
        },
        "execution": {
          "iopub.execute_input": "2023-11-09T19:31:36.032923Z",
          "iopub.status.busy": "2023-11-09T19:31:36.032064Z",
          "iopub.status.idle": "2023-11-09T19:31:36.351145Z",
          "shell.execute_reply": "2023-11-09T19:31:36.350329Z",
          "shell.execute_reply.started": "2023-11-09T19:31:36.032884Z"
        },
        "id": "rGfP3TT-xR3g",
        "outputId": "e1537dac-ca21-4dfd-b93a-d5773fa64361",
        "trusted": true
      },
      "outputs": [
        {
          "name": "stdout",
          "output_type": "stream",
          "text": [
            "Drive already mounted at /content/drive; to attempt to forcibly remount, call drive.mount(\"/content/drive\", force_remount=True).\n"
          ]
        }
      ],
      "source": [
        "from google.colab import drive\n",
        "drive.mount('/content/drive')"
      ]
    },
    {
      "cell_type": "code",
      "execution_count": 3,
      "metadata": {
        "id": "BcmPTQo4ZaPH"
      },
      "outputs": [],
      "source": [
        "train_prompts = pd.read_csv('/content/drive/MyDrive/dataset/train_prompts.csv')\n",
        "train_essays = pd.read_csv('/content/drive/MyDrive/dataset/train_essays.csv')\n",
        "test_essays = pd.read_csv('/content/drive/MyDrive/dataset/test_essays.csv')\n",
        "df_train_extra = pd.read_csv('/content/drive/MyDrive/dataset/train_v4_drcat_01.csv')"
      ]
    },
    {
      "cell_type": "code",
      "execution_count": 4,
      "metadata": {
        "execution": {
          "iopub.execute_input": "2023-11-09T19:31:36.35308Z",
          "iopub.status.busy": "2023-11-09T19:31:36.352248Z",
          "iopub.status.idle": "2023-11-09T19:31:43.979601Z",
          "shell.execute_reply": "2023-11-09T19:31:43.978683Z",
          "shell.execute_reply.started": "2023-11-09T19:31:36.35305Z"
        },
        "id": "Y9pWjTwAxR3g",
        "trusted": true
      },
      "outputs": [],
      "source": [
        "# Assuming df_train_extra and train_essays are already defined\n",
        "df_train_extra.rename(columns={\"label\": \"generated\"}, inplace=True)\n",
        "df_train_essays_final = pd.concat([df_train_extra[[\"text\", \"generated\"]], train_essays[[\"text\", \"generated\"]]])\n",
        "\n",
        "# Splitting the data into training and testing sets\n",
        "X_train, X_test, y_train, y_test = train_test_split(\n",
        "    df_train_essays_final[\"text\"],\n",
        "    df_train_essays_final[\"generated\"],\n",
        "    test_size=0.2,  # 80% training, 20% testing\n",
        "    random_state=42  # For reproducibility\n",
        ")\n"
      ]
    },
    {
      "cell_type": "code",
      "execution_count": 36,
      "metadata": {
        "id": "O9tJ4ZJidy_W"
      },
      "outputs": [],
      "source": [
        "# Sample 5% of the training data\n",
        "X_train_sampled, _, y_train_sampled, _ = train_test_split(\n",
        "    X_train,\n",
        "    y_train,\n",
        "    test_size=0.96,  # Keep only 5% for training\n",
        "    random_state=42\n",
        ")\n"
      ]
    },
    {
      "cell_type": "code",
      "execution_count": 37,
      "metadata": {
        "colab": {
          "base_uri": "https://localhost:8080/"
        },
        "id": "4K8MHJETbae8",
        "outputId": "563e7528-b1ef-4ab7-9e25-27b12f7e668d"
      },
      "outputs": [
        {
          "name": "stdout",
          "output_type": "stream",
          "text": [
            "Vectorization complete.\n"
          ]
        }
      ],
      "source": [
        "# Initialize the vectorizer\n",
        "vectorizer = TfidfVectorizer(ngram_range=(1, 3), sublinear_tf=True)\n",
        "\n",
        "# Vectorize the sampled training data and the full test data\n",
        "X_train_tfidf = vectorizer.fit_transform(X_train_sampled)\n",
        "X_test_tfidf = vectorizer.transform(X_test)\n",
        "\n",
        "print(\"Vectorization complete.\")"
      ]
    },
    {
      "cell_type": "code",
      "execution_count": 38,
      "metadata": {
        "colab": {
          "base_uri": "https://localhost:8080/",
          "height": 110
        },
        "id": "kDj8xOj2b2nu",
        "outputId": "cbd7d002-bd4a-44ef-b47e-f177bf2a0e56"
      },
      "outputs": [
        {
          "data": {
            "text/html": [
              "<style>#sk-container-id-8 {color: black;background-color: white;}#sk-container-id-8 pre{padding: 0;}#sk-container-id-8 div.sk-toggleable {background-color: white;}#sk-container-id-8 label.sk-toggleable__label {cursor: pointer;display: block;width: 100%;margin-bottom: 0;padding: 0.3em;box-sizing: border-box;text-align: center;}#sk-container-id-8 label.sk-toggleable__label-arrow:before {content: \"▸\";float: left;margin-right: 0.25em;color: #696969;}#sk-container-id-8 label.sk-toggleable__label-arrow:hover:before {color: black;}#sk-container-id-8 div.sk-estimator:hover label.sk-toggleable__label-arrow:before {color: black;}#sk-container-id-8 div.sk-toggleable__content {max-height: 0;max-width: 0;overflow: hidden;text-align: left;background-color: #f0f8ff;}#sk-container-id-8 div.sk-toggleable__content pre {margin: 0.2em;color: black;border-radius: 0.25em;background-color: #f0f8ff;}#sk-container-id-8 input.sk-toggleable__control:checked~div.sk-toggleable__content {max-height: 200px;max-width: 100%;overflow: auto;}#sk-container-id-8 input.sk-toggleable__control:checked~label.sk-toggleable__label-arrow:before {content: \"▾\";}#sk-container-id-8 div.sk-estimator input.sk-toggleable__control:checked~label.sk-toggleable__label {background-color: #d4ebff;}#sk-container-id-8 div.sk-label input.sk-toggleable__control:checked~label.sk-toggleable__label {background-color: #d4ebff;}#sk-container-id-8 input.sk-hidden--visually {border: 0;clip: rect(1px 1px 1px 1px);clip: rect(1px, 1px, 1px, 1px);height: 1px;margin: -1px;overflow: hidden;padding: 0;position: absolute;width: 1px;}#sk-container-id-8 div.sk-estimator {font-family: monospace;background-color: #f0f8ff;border: 1px dotted black;border-radius: 0.25em;box-sizing: border-box;margin-bottom: 0.5em;}#sk-container-id-8 div.sk-estimator:hover {background-color: #d4ebff;}#sk-container-id-8 div.sk-parallel-item::after {content: \"\";width: 100%;border-bottom: 1px solid gray;flex-grow: 1;}#sk-container-id-8 div.sk-label:hover label.sk-toggleable__label {background-color: #d4ebff;}#sk-container-id-8 div.sk-serial::before {content: \"\";position: absolute;border-left: 1px solid gray;box-sizing: border-box;top: 0;bottom: 0;left: 50%;z-index: 0;}#sk-container-id-8 div.sk-serial {display: flex;flex-direction: column;align-items: center;background-color: white;padding-right: 0.2em;padding-left: 0.2em;position: relative;}#sk-container-id-8 div.sk-item {position: relative;z-index: 1;}#sk-container-id-8 div.sk-parallel {display: flex;align-items: stretch;justify-content: center;background-color: white;position: relative;}#sk-container-id-8 div.sk-item::before, #sk-container-id-8 div.sk-parallel-item::before {content: \"\";position: absolute;border-left: 1px solid gray;box-sizing: border-box;top: 0;bottom: 0;left: 50%;z-index: -1;}#sk-container-id-8 div.sk-parallel-item {display: flex;flex-direction: column;z-index: 1;position: relative;background-color: white;}#sk-container-id-8 div.sk-parallel-item:first-child::after {align-self: flex-end;width: 50%;}#sk-container-id-8 div.sk-parallel-item:last-child::after {align-self: flex-start;width: 50%;}#sk-container-id-8 div.sk-parallel-item:only-child::after {width: 0;}#sk-container-id-8 div.sk-dashed-wrapped {border: 1px dashed gray;margin: 0 0.4em 0.5em 0.4em;box-sizing: border-box;padding-bottom: 0.4em;background-color: white;}#sk-container-id-8 div.sk-label label {font-family: monospace;font-weight: bold;display: inline-block;line-height: 1.2em;}#sk-container-id-8 div.sk-label-container {text-align: center;}#sk-container-id-8 div.sk-container {/* jupyter's `normalize.less` sets `[hidden] { display: none; }` but bootstrap.min.css set `[hidden] { display: none !important; }` so we also need the `!important` here to be able to override the default hidden behavior on the sphinx rendered scikit-learn.org. See: https://github.com/scikit-learn/scikit-learn/issues/21755 */display: inline-block !important;position: relative;}#sk-container-id-8 div.sk-text-repr-fallback {display: none;}</style><div id=\"sk-container-id-8\" class=\"sk-top-container\"><div class=\"sk-text-repr-fallback\"><pre>VotingClassifier(estimators=[(&#x27;sgd&#x27;, SGDClassifier(loss=&#x27;modified_huber&#x27;)),\n",
              "                             (&#x27;lr&#x27;, LogisticRegression(solver=&#x27;liblinear&#x27;))],\n",
              "                 voting=&#x27;soft&#x27;)</pre><b>In a Jupyter environment, please rerun this cell to show the HTML representation or trust the notebook. <br />On GitHub, the HTML representation is unable to render, please try loading this page with nbviewer.org.</b></div><div class=\"sk-container\" hidden><div class=\"sk-item sk-dashed-wrapped\"><div class=\"sk-label-container\"><div class=\"sk-label sk-toggleable\"><input class=\"sk-toggleable__control sk-hidden--visually\" id=\"sk-estimator-id-22\" type=\"checkbox\" ><label for=\"sk-estimator-id-22\" class=\"sk-toggleable__label sk-toggleable__label-arrow\">VotingClassifier</label><div class=\"sk-toggleable__content\"><pre>VotingClassifier(estimators=[(&#x27;sgd&#x27;, SGDClassifier(loss=&#x27;modified_huber&#x27;)),\n",
              "                             (&#x27;lr&#x27;, LogisticRegression(solver=&#x27;liblinear&#x27;))],\n",
              "                 voting=&#x27;soft&#x27;)</pre></div></div></div><div class=\"sk-parallel\"><div class=\"sk-parallel-item\"><div class=\"sk-item\"><div class=\"sk-label-container\"><div class=\"sk-label sk-toggleable\"><label>sgd</label></div></div><div class=\"sk-serial\"><div class=\"sk-item\"><div class=\"sk-estimator sk-toggleable\"><input class=\"sk-toggleable__control sk-hidden--visually\" id=\"sk-estimator-id-23\" type=\"checkbox\" ><label for=\"sk-estimator-id-23\" class=\"sk-toggleable__label sk-toggleable__label-arrow\">SGDClassifier</label><div class=\"sk-toggleable__content\"><pre>SGDClassifier(loss=&#x27;modified_huber&#x27;)</pre></div></div></div></div></div></div><div class=\"sk-parallel-item\"><div class=\"sk-item\"><div class=\"sk-label-container\"><div class=\"sk-label sk-toggleable\"><label>lr</label></div></div><div class=\"sk-serial\"><div class=\"sk-item\"><div class=\"sk-estimator sk-toggleable\"><input class=\"sk-toggleable__control sk-hidden--visually\" id=\"sk-estimator-id-24\" type=\"checkbox\" ><label for=\"sk-estimator-id-24\" class=\"sk-toggleable__label sk-toggleable__label-arrow\">LogisticRegression</label><div class=\"sk-toggleable__content\"><pre>LogisticRegression(solver=&#x27;liblinear&#x27;)</pre></div></div></div></div></div></div></div></div></div></div>"
            ],
            "text/plain": [
              "VotingClassifier(estimators=[('sgd', SGDClassifier(loss='modified_huber')),\n",
              "                             ('lr', LogisticRegression(solver='liblinear'))],\n",
              "                 voting='soft')"
            ]
          },
          "execution_count": 38,
          "metadata": {},
          "output_type": "execute_result"
        }
      ],
      "source": [
        "# Creating a voting classifier with SGD and Logistic Regression\n",
        "sgd_clf = SGDClassifier(max_iter=1000, tol=1e-3, loss=\"modified_huber\")\n",
        "lr_clf = LogisticRegression(solver=\"liblinear\")\n",
        "voting_clf = VotingClassifier(\n",
        "    estimators=[('sgd', sgd_clf), ('lr', lr_clf)],\n",
        "    voting='soft'\n",
        ")\n",
        "\n",
        "# Training the classifier on the sampled data\n",
        "voting_clf.fit(X_train_tfidf, y_train_sampled)"
      ]
    },
    {
      "cell_type": "code",
      "execution_count": 39,
      "metadata": {
        "colab": {
          "base_uri": "https://localhost:8080/"
        },
        "id": "dadAyIAKc1mq",
        "outputId": "fd91c484-b45a-4b60-c394-4a97f1cd9840"
      },
      "outputs": [
        {
          "name": "stdout",
          "output_type": "stream",
          "text": [
            "Accuracy: 0.9471015942899073\n",
            "              precision    recall  f1-score   support\n",
            "\n",
            "           0       0.89      0.99      0.93      5727\n",
            "           1       0.99      0.92      0.96      9264\n",
            "\n",
            "    accuracy                           0.95     14991\n",
            "   macro avg       0.94      0.95      0.95     14991\n",
            "weighted avg       0.95      0.95      0.95     14991\n",
            "\n"
          ]
        }
      ],
      "source": [
        "#Predicting and evaluating the classifier\n",
        "y_pred = voting_clf.predict(X_test_tfidf)\n",
        "print(f\"Accuracy: {accuracy_score(y_test, y_pred)}\")\n",
        "print(classification_report(y_test, y_pred))"
      ]
    },
    {
      "cell_type": "code",
      "execution_count": 40,
      "metadata": {
        "colab": {
          "base_uri": "https://localhost:8080/"
        },
        "id": "DTDGe-UaeE9x",
        "outputId": "19ef3b0b-c120-45da-c66d-e48fca80aa32"
      },
      "outputs": [
        {
          "name": "stdout",
          "output_type": "stream",
          "text": [
            "Accuracy: 0.9471015942899073\n",
            "Precision: 0.9906173983551488\n",
            "Recall: 0.9231433506044905\n",
            "F1 Score: 0.9556908979158518\n",
            "ROC AUC: 0.987566433037097\n",
            "Confusion Matrix:\n",
            "[[5646   81]\n",
            " [ 712 8552]]\n",
            "Matthews Correlation Coefficient: 0.8936871835193595\n",
            "Log Loss: 0.23463988708783584\n",
            "Cohen's Kappa: 0.8902743572343514\n",
            "Average Precision-Recall Score: 0.993569483036042\n"
          ]
        }
      ],
      "source": [
        "from sklearn.metrics import (\n",
        "    accuracy_score, precision_score, recall_score, f1_score,\n",
        "    roc_auc_score, confusion_matrix, matthews_corrcoef, log_loss,\n",
        "    cohen_kappa_score, average_precision_score\n",
        ")\n",
        "y_pred_proba = voting_clf.predict_proba(X_test_tfidf)[:, 1]  # Get probability scores\n",
        "\n",
        "# Evaluation\n",
        "accuracy = accuracy_score(y_test, y_pred)\n",
        "precision = precision_score(y_test, y_pred)\n",
        "recall = recall_score(y_test, y_pred)\n",
        "f1 = f1_score(y_test, y_pred)\n",
        "roc_auc = roc_auc_score(y_test, y_pred_proba)\n",
        "conf_matrix = confusion_matrix(y_test, y_pred)\n",
        "mcc = matthews_corrcoef(y_test, y_pred)\n",
        "logloss = log_loss(y_test, y_pred_proba)\n",
        "kappa = cohen_kappa_score(y_test, y_pred)\n",
        "average_precision = average_precision_score(y_test, y_pred_proba)\n",
        "\n",
        "# Displaying the metrics\n",
        "print(f\"Accuracy: {accuracy}\")\n",
        "print(f\"Precision: {precision}\")\n",
        "print(f\"Recall: {recall}\")\n",
        "print(f\"F1 Score: {f1}\")\n",
        "print(f\"ROC AUC: {roc_auc}\")\n",
        "print(f\"Confusion Matrix:\\n{conf_matrix}\")\n",
        "print(f\"Matthews Correlation Coefficient: {mcc}\")\n",
        "print(f\"Log Loss: {logloss}\")\n",
        "print(f\"Cohen's Kappa: {kappa}\")\n",
        "print(f\"Average Precision-Recall Score: {average_precision}\")"
      ]
    },
    {
      "cell_type": "code",
      "execution_count": 43,
      "metadata": {
        "colab": {
          "base_uri": "https://localhost:8080/"
        },
        "id": "Bi6Ef-U3rr7e",
        "outputId": "c7e74b3f-c135-4fd7-ab7e-25ed5e3f0004"
      },
      "outputs": [
        {
          "data": {
            "text/plain": [
              "['/content/drive/MyDrive/dataset/model_y_pred_proba.pkl']"
            ]
          },
          "execution_count": 43,
          "metadata": {},
          "output_type": "execute_result"
        }
      ],
      "source": [
        "import joblib\n",
        "\n",
        "# After training and evaluation, save the metrics and probabilities\n",
        "model_metrics = {\n",
        "    'accuracy': accuracy_score(y_test, y_pred),\n",
        "    'precision': precision_score(y_test, y_pred),\n",
        "    'recall': recall_score(y_test, y_pred),\n",
        "    'f1': f1_score(y_test, y_pred),\n",
        "    'roc_auc': roc_auc_score(y_test, y_pred_proba),\n",
        "    'log_loss': log_loss(y_test, y_pred_proba),\n",
        "    'mcc': matthews_corrcoef(y_test, y_pred)\n",
        "}\n",
        "\n",
        "# Save the metrics and probabilities\n",
        "joblib.dump(model_metrics, '/content/drive/MyDrive/dataset/model_metrics.pkl')\n",
        "joblib.dump(y_pred_proba, '/content/drive/MyDrive/dataset/model_y_pred_proba.pkl')\n"
      ]
    },
    {
      "cell_type": "code",
      "execution_count": null,
      "metadata": {
        "id": "gpOBtP3ssYfG"
      },
      "outputs": [],
      "source": []
    }
  ],
  "metadata": {
    "colab": {
      "name": "AI Generated Text Detection - Quick Baseline",
      "provenance": []
    },
    "kaggle": {
      "accelerator": "none",
      "dataSources": [
        {
          "databundleVersionId": 7516023,
          "sourceId": 61542,
          "sourceType": "competition"
        },
        {
          "datasetId": 3936750,
          "sourceId": 6847931,
          "sourceType": "datasetVersion"
        },
        {
          "datasetId": 3961875,
          "sourceId": 6971638,
          "sourceType": "datasetVersion"
        }
      ],
      "dockerImageVersionId": 30558,
      "isGpuEnabled": false,
      "isInternetEnabled": false,
      "language": "python",
      "sourceType": "notebook"
    },
    "kernelspec": {
      "display_name": "Python 3",
      "language": "python",
      "name": "python3"
    },
    "language_info": {
      "codemirror_mode": {
        "name": "ipython",
        "version": 3
      },
      "file_extension": ".py",
      "mimetype": "text/x-python",
      "name": "python",
      "nbconvert_exporter": "python",
      "pygments_lexer": "ipython3",
      "version": "3.8.19"
    }
  },
  "nbformat": 4,
  "nbformat_minor": 0
}
