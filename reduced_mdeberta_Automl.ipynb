{
  "cells": [
    {
      "cell_type": "markdown",
      "metadata": {},
      "source": [
        "Here the embeddings are extracted from the mdeberta finetuned on the reduced dataset."
      ]
    },
    {
      "cell_type": "code",
      "execution_count": null,
      "metadata": {
        "colab": {
          "base_uri": "https://localhost:8080/"
        },
        "id": "IO90y1VmeRBa",
        "outputId": "c8977fe3-7c4c-42c5-d25a-fb400119e745"
      },
      "outputs": [
        {
          "name": "stdout",
          "output_type": "stream",
          "text": [
            "Requirement already satisfied: autogluon in /usr/local/lib/python3.10/dist-packages (1.1.1)\n",
            "Requirement already satisfied: autogluon.core[all]==1.1.1 in /usr/local/lib/python3.10/dist-packages (from autogluon) (1.1.1)\n",
            "Requirement already satisfied: autogluon.features==1.1.1 in /usr/local/lib/python3.10/dist-packages (from autogluon) (1.1.1)\n",
            "Requirement already satisfied: autogluon.tabular[all]==1.1.1 in /usr/local/lib/python3.10/dist-packages (from autogluon) (1.1.1)\n",
            "Requirement already satisfied: autogluon.multimodal==1.1.1 in /usr/local/lib/python3.10/dist-packages (from autogluon) (1.1.1)\n",
            "Requirement already satisfied: autogluon.timeseries[all]==1.1.1 in /usr/local/lib/python3.10/dist-packages (from autogluon) (1.1.1)\n",
            "Requirement already satisfied: numpy<1.29,>=1.21 in /usr/local/lib/python3.10/dist-packages (from autogluon.core[all]==1.1.1->autogluon) (1.25.2)\n",
            "Requirement already satisfied: scipy<1.13,>=1.5.4 in /usr/local/lib/python3.10/dist-packages (from autogluon.core[all]==1.1.1->autogluon) (1.11.4)\n",
            "Requirement already satisfied: scikit-learn<1.4.1,>=1.3.0 in /usr/local/lib/python3.10/dist-packages (from autogluon.core[all]==1.1.1->autogluon) (1.4.0)\n",
            "Requirement already satisfied: networkx<4,>=3.0 in /usr/local/lib/python3.10/dist-packages (from autogluon.core[all]==1.1.1->autogluon) (3.3)\n",
            "Requirement already satisfied: pandas<2.3.0,>=2.0.0 in /usr/local/lib/python3.10/dist-packages (from autogluon.core[all]==1.1.1->autogluon) (2.0.3)\n",
            "Requirement already satisfied: tqdm<5,>=4.38 in /usr/local/lib/python3.10/dist-packages (from autogluon.core[all]==1.1.1->autogluon) (4.66.4)\n",
            "Requirement already satisfied: requests in /usr/local/lib/python3.10/dist-packages (from autogluon.core[all]==1.1.1->autogluon) (2.32.3)\n",
            "Requirement already satisfied: matplotlib in /usr/local/lib/python3.10/dist-packages (from autogluon.core[all]==1.1.1->autogluon) (3.7.1)\n",
            "Requirement already satisfied: boto3<2,>=1.10 in /usr/local/lib/python3.10/dist-packages (from autogluon.core[all]==1.1.1->autogluon) (1.34.136)\n",
            "Requirement already satisfied: autogluon.common==1.1.1 in /usr/local/lib/python3.10/dist-packages (from autogluon.core[all]==1.1.1->autogluon) (1.1.1)\n",
            "Requirement already satisfied: ray[default,tune]<2.11,>=2.10.0 in /usr/local/lib/python3.10/dist-packages (from autogluon.core[all]==1.1.1->autogluon) (2.10.0)\n",
            "Requirement already satisfied: hyperopt<0.2.8,>=0.2.7 in /usr/local/lib/python3.10/dist-packages (from autogluon.core[all]==1.1.1->autogluon) (0.2.7)\n",
            "Requirement already satisfied: Pillow<11,>=10.0.1 in /usr/local/lib/python3.10/dist-packages (from autogluon.multimodal==1.1.1->autogluon) (10.0.1)\n",
            "Requirement already satisfied: torch<2.4,>=2.2 in /usr/local/lib/python3.10/dist-packages (from autogluon.multimodal==1.1.1->autogluon) (2.3.0+cu121)\n",
            "Requirement already satisfied: lightning<2.4,>=2.2 in /usr/local/lib/python3.10/dist-packages (from autogluon.multimodal==1.1.1->autogluon) (2.3.1)\n",
            "Requirement already satisfied: transformers[sentencepiece]<4.41.0,>=4.38.0 in /usr/local/lib/python3.10/dist-packages (from autogluon.multimodal==1.1.1->autogluon) (4.39.3)\n",
            "Requirement already satisfied: accelerate<0.22.0,>=0.21.0 in /usr/local/lib/python3.10/dist-packages (from autogluon.multimodal==1.1.1->autogluon) (0.21.0)\n",
            "Requirement already satisfied: jsonschema<4.22,>=4.18 in /usr/local/lib/python3.10/dist-packages (from autogluon.multimodal==1.1.1->autogluon) (4.19.2)\n",
            "Requirement already satisfied: seqeval<1.3.0,>=1.2.2 in /usr/local/lib/python3.10/dist-packages (from autogluon.multimodal==1.1.1->autogluon) (1.2.2)\n",
            "Requirement already satisfied: evaluate<0.5.0,>=0.4.0 in /usr/local/lib/python3.10/dist-packages (from autogluon.multimodal==1.1.1->autogluon) (0.4.2)\n",
            "Requirement already satisfied: timm<0.10.0,>=0.9.5 in /usr/local/lib/python3.10/dist-packages (from autogluon.multimodal==1.1.1->autogluon) (0.9.16)\n",
            "Requirement already satisfied: torchvision<0.19.0,>=0.16.0 in /usr/local/lib/python3.10/dist-packages (from autogluon.multimodal==1.1.1->autogluon) (0.18.0+cu121)\n",
            "Requirement already satisfied: scikit-image<0.21.0,>=0.19.1 in /usr/local/lib/python3.10/dist-packages (from autogluon.multimodal==1.1.1->autogluon) (0.19.3)\n",
            "Requirement already satisfied: text-unidecode<1.4,>=1.3 in /usr/local/lib/python3.10/dist-packages (from autogluon.multimodal==1.1.1->autogluon) (1.3)\n",
            "Requirement already satisfied: torchmetrics<1.3.0,>=1.2.0 in /usr/local/lib/python3.10/dist-packages (from autogluon.multimodal==1.1.1->autogluon) (1.2.1)\n",
            "Requirement already satisfied: nptyping<2.5.0,>=1.4.4 in /usr/local/lib/python3.10/dist-packages (from autogluon.multimodal==1.1.1->autogluon) (2.4.1)\n",
            "Requirement already satisfied: omegaconf<2.3.0,>=2.1.1 in /usr/local/lib/python3.10/dist-packages (from autogluon.multimodal==1.1.1->autogluon) (2.2.3)\n",
            "Requirement already satisfied: pytorch-metric-learning<2.4,>=1.3.0 in /usr/local/lib/python3.10/dist-packages (from autogluon.multimodal==1.1.1->autogluon) (2.3.0)\n",
            "Requirement already satisfied: nlpaug<1.2.0,>=1.1.10 in /usr/local/lib/python3.10/dist-packages (from autogluon.multimodal==1.1.1->autogluon) (1.1.11)\n",
            "Requirement already satisfied: nltk<4.0.0,>=3.4.5 in /usr/local/lib/python3.10/dist-packages (from autogluon.multimodal==1.1.1->autogluon) (3.8.1)\n",
            "Requirement already satisfied: openmim<0.4.0,>=0.3.7 in /usr/local/lib/python3.10/dist-packages (from autogluon.multimodal==1.1.1->autogluon) (0.3.9)\n",
            "Requirement already satisfied: defusedxml<0.7.2,>=0.7.1 in /usr/local/lib/python3.10/dist-packages (from autogluon.multimodal==1.1.1->autogluon) (0.7.1)\n",
            "Requirement already satisfied: jinja2<3.2,>=3.0.3 in /usr/local/lib/python3.10/dist-packages (from autogluon.multimodal==1.1.1->autogluon) (3.1.4)\n",
            "Requirement already satisfied: tensorboard<3,>=2.9 in /usr/local/lib/python3.10/dist-packages (from autogluon.multimodal==1.1.1->autogluon) (2.15.2)\n",
            "Requirement already satisfied: pytesseract<0.3.11,>=0.3.9 in /usr/local/lib/python3.10/dist-packages (from autogluon.multimodal==1.1.1->autogluon) (0.3.10)\n",
            "Requirement already satisfied: nvidia-ml-py3==7.352.0 in /usr/local/lib/python3.10/dist-packages (from autogluon.multimodal==1.1.1->autogluon) (7.352.0)\n",
            "Requirement already satisfied: pdf2image<1.19,>=1.17.0 in /usr/local/lib/python3.10/dist-packages (from autogluon.multimodal==1.1.1->autogluon) (1.17.0)\n",
            "Requirement already satisfied: xgboost<2.1,>=1.6 in /usr/local/lib/python3.10/dist-packages (from autogluon.tabular[all]==1.1.1->autogluon) (2.0.3)\n",
            "Requirement already satisfied: fastai<2.8,>=2.3.1 in /usr/local/lib/python3.10/dist-packages (from autogluon.tabular[all]==1.1.1->autogluon) (2.7.15)\n",
            "Requirement already satisfied: lightgbm<4.4,>=3.3 in /usr/local/lib/python3.10/dist-packages (from autogluon.tabular[all]==1.1.1->autogluon) (4.1.0)\n",
            "Requirement already satisfied: catboost<1.3,>=1.1 in /usr/local/lib/python3.10/dist-packages (from autogluon.tabular[all]==1.1.1->autogluon) (1.2.5)\n",
            "Requirement already satisfied: joblib<2,>=1.1 in /usr/local/lib/python3.10/dist-packages (from autogluon.timeseries[all]==1.1.1->autogluon) (1.4.2)\n",
            "Requirement already satisfied: pytorch-lightning<2.4,>=2.2 in /usr/local/lib/python3.10/dist-packages (from autogluon.timeseries[all]==1.1.1->autogluon) (2.3.1)\n",
            "Requirement already satisfied: gluonts==0.15.1 in /usr/local/lib/python3.10/dist-packages (from autogluon.timeseries[all]==1.1.1->autogluon) (0.15.1)\n",
            "Requirement already satisfied: statsforecast<1.5,>=1.4.0 in /usr/local/lib/python3.10/dist-packages (from autogluon.timeseries[all]==1.1.1->autogluon) (1.4.0)\n",
            "Requirement already satisfied: mlforecast<0.10.1,>=0.10.0 in /usr/local/lib/python3.10/dist-packages (from autogluon.timeseries[all]==1.1.1->autogluon) (0.10.0)\n",
            "Requirement already satisfied: utilsforecast<0.0.11,>=0.0.10 in /usr/local/lib/python3.10/dist-packages (from autogluon.timeseries[all]==1.1.1->autogluon) (0.0.10)\n",
            "Requirement already satisfied: orjson~=3.9 in /usr/local/lib/python3.10/dist-packages (from autogluon.timeseries[all]==1.1.1->autogluon) (3.10.5)\n",
            "Requirement already satisfied: optimum[onnxruntime]<1.19,>=1.17 in /usr/local/lib/python3.10/dist-packages (from autogluon.timeseries[all]==1.1.1->autogluon) (1.18.1)\n",
            "Requirement already satisfied: psutil<6,>=5.7.3 in /usr/local/lib/python3.10/dist-packages (from autogluon.common==1.1.1->autogluon.core[all]==1.1.1->autogluon) (5.9.5)\n",
            "Requirement already satisfied: setuptools in /usr/local/lib/python3.10/dist-packages (from autogluon.common==1.1.1->autogluon.core[all]==1.1.1->autogluon) (67.7.2)\n",
            "Requirement already satisfied: pydantic<3,>=1.7 in /usr/local/lib/python3.10/dist-packages (from gluonts==0.15.1->autogluon.timeseries[all]==1.1.1->autogluon) (2.7.4)\n",
            "Requirement already satisfied: toolz~=0.10 in /usr/local/lib/python3.10/dist-packages (from gluonts==0.15.1->autogluon.timeseries[all]==1.1.1->autogluon) (0.12.1)\n",
            "Requirement already satisfied: typing-extensions~=4.0 in /usr/local/lib/python3.10/dist-packages (from gluonts==0.15.1->autogluon.timeseries[all]==1.1.1->autogluon) (4.12.2)\n",
            "Requirement already satisfied: packaging>=20.0 in /usr/local/lib/python3.10/dist-packages (from accelerate<0.22.0,>=0.21.0->autogluon.multimodal==1.1.1->autogluon) (24.1)\n",
            "Requirement already satisfied: pyyaml in /usr/local/lib/python3.10/dist-packages (from accelerate<0.22.0,>=0.21.0->autogluon.multimodal==1.1.1->autogluon) (6.0.1)\n",
            "Requirement already satisfied: botocore<1.35.0,>=1.34.136 in /usr/local/lib/python3.10/dist-packages (from boto3<2,>=1.10->autogluon.core[all]==1.1.1->autogluon) (1.34.136)\n",
            "Requirement already satisfied: jmespath<2.0.0,>=0.7.1 in /usr/local/lib/python3.10/dist-packages (from boto3<2,>=1.10->autogluon.core[all]==1.1.1->autogluon) (1.0.1)\n",
            "Requirement already satisfied: s3transfer<0.11.0,>=0.10.0 in /usr/local/lib/python3.10/dist-packages (from boto3<2,>=1.10->autogluon.core[all]==1.1.1->autogluon) (0.10.2)\n",
            "Requirement already satisfied: graphviz in /usr/local/lib/python3.10/dist-packages (from catboost<1.3,>=1.1->autogluon.tabular[all]==1.1.1->autogluon) (0.20.3)\n",
            "Requirement already satisfied: plotly in /usr/local/lib/python3.10/dist-packages (from catboost<1.3,>=1.1->autogluon.tabular[all]==1.1.1->autogluon) (5.15.0)\n",
            "Requirement already satisfied: six in /usr/local/lib/python3.10/dist-packages (from catboost<1.3,>=1.1->autogluon.tabular[all]==1.1.1->autogluon) (1.16.0)\n",
            "Requirement already satisfied: datasets>=2.0.0 in /usr/local/lib/python3.10/dist-packages (from evaluate<0.5.0,>=0.4.0->autogluon.multimodal==1.1.1->autogluon) (2.20.0)\n",
            "Requirement already satisfied: dill in /usr/local/lib/python3.10/dist-packages (from evaluate<0.5.0,>=0.4.0->autogluon.multimodal==1.1.1->autogluon) (0.3.8)\n",
            "Requirement already satisfied: xxhash in /usr/local/lib/python3.10/dist-packages (from evaluate<0.5.0,>=0.4.0->autogluon.multimodal==1.1.1->autogluon) (3.4.1)\n",
            "Requirement already satisfied: multiprocess in /usr/local/lib/python3.10/dist-packages (from evaluate<0.5.0,>=0.4.0->autogluon.multimodal==1.1.1->autogluon) (0.70.16)\n",
            "Requirement already satisfied: fsspec[http]>=2021.05.0 in /usr/local/lib/python3.10/dist-packages (from evaluate<0.5.0,>=0.4.0->autogluon.multimodal==1.1.1->autogluon) (2023.6.0)\n",
            "Requirement already satisfied: huggingface-hub>=0.7.0 in /usr/local/lib/python3.10/dist-packages (from evaluate<0.5.0,>=0.4.0->autogluon.multimodal==1.1.1->autogluon) (0.23.4)\n",
            "Requirement already satisfied: pip in /usr/local/lib/python3.10/dist-packages (from fastai<2.8,>=2.3.1->autogluon.tabular[all]==1.1.1->autogluon) (23.1.2)\n",
            "Requirement already satisfied: fastdownload<2,>=0.0.5 in /usr/local/lib/python3.10/dist-packages (from fastai<2.8,>=2.3.1->autogluon.tabular[all]==1.1.1->autogluon) (0.0.7)\n",
            "Requirement already satisfied: fastcore<1.6,>=1.5.29 in /usr/local/lib/python3.10/dist-packages (from fastai<2.8,>=2.3.1->autogluon.tabular[all]==1.1.1->autogluon) (1.5.46)\n",
            "Requirement already satisfied: fastprogress>=0.2.4 in /usr/local/lib/python3.10/dist-packages (from fastai<2.8,>=2.3.1->autogluon.tabular[all]==1.1.1->autogluon) (1.0.3)\n",
            "Requirement already satisfied: spacy<4 in /usr/local/lib/python3.10/dist-packages (from fastai<2.8,>=2.3.1->autogluon.tabular[all]==1.1.1->autogluon) (3.7.5)\n",
            "Requirement already satisfied: future in /usr/local/lib/python3.10/dist-packages (from hyperopt<0.2.8,>=0.2.7->autogluon.core[all]==1.1.1->autogluon) (0.18.3)\n",
            "Requirement already satisfied: cloudpickle in /usr/local/lib/python3.10/dist-packages (from hyperopt<0.2.8,>=0.2.7->autogluon.core[all]==1.1.1->autogluon) (2.2.1)\n",
            "Requirement already satisfied: py4j in /usr/local/lib/python3.10/dist-packages (from hyperopt<0.2.8,>=0.2.7->autogluon.core[all]==1.1.1->autogluon) (0.10.9.7)\n",
            "Requirement already satisfied: MarkupSafe>=2.0 in /usr/local/lib/python3.10/dist-packages (from jinja2<3.2,>=3.0.3->autogluon.multimodal==1.1.1->autogluon) (2.1.5)\n",
            "Requirement already satisfied: attrs>=22.2.0 in /usr/local/lib/python3.10/dist-packages (from jsonschema<4.22,>=4.18->autogluon.multimodal==1.1.1->autogluon) (23.2.0)\n",
            "Requirement already satisfied: jsonschema-specifications>=2023.03.6 in /usr/local/lib/python3.10/dist-packages (from jsonschema<4.22,>=4.18->autogluon.multimodal==1.1.1->autogluon) (2023.12.1)\n",
            "Requirement already satisfied: referencing>=0.28.4 in /usr/local/lib/python3.10/dist-packages (from jsonschema<4.22,>=4.18->autogluon.multimodal==1.1.1->autogluon) (0.35.1)\n",
            "Requirement already satisfied: rpds-py>=0.7.1 in /usr/local/lib/python3.10/dist-packages (from jsonschema<4.22,>=4.18->autogluon.multimodal==1.1.1->autogluon) (0.18.1)\n",
            "Requirement already satisfied: lightning-utilities<2.0,>=0.10.0 in /usr/local/lib/python3.10/dist-packages (from lightning<2.4,>=2.2->autogluon.multimodal==1.1.1->autogluon) (0.11.3.post0)\n",
            "Requirement already satisfied: numba in /usr/local/lib/python3.10/dist-packages (from mlforecast<0.10.1,>=0.10.0->autogluon.timeseries[all]==1.1.1->autogluon) (0.58.1)\n",
            "Requirement already satisfied: window-ops in /usr/local/lib/python3.10/dist-packages (from mlforecast<0.10.1,>=0.10.0->autogluon.timeseries[all]==1.1.1->autogluon) (0.0.15)\n",
            "Requirement already satisfied: gdown>=4.0.0 in /usr/local/lib/python3.10/dist-packages (from nlpaug<1.2.0,>=1.1.10->autogluon.multimodal==1.1.1->autogluon) (5.1.0)\n",
            "Requirement already satisfied: click in /usr/local/lib/python3.10/dist-packages (from nltk<4.0.0,>=3.4.5->autogluon.multimodal==1.1.1->autogluon) (8.1.7)\n",
            "Requirement already satisfied: regex>=2021.8.3 in /usr/local/lib/python3.10/dist-packages (from nltk<4.0.0,>=3.4.5->autogluon.multimodal==1.1.1->autogluon) (2024.5.15)\n",
            "Requirement already satisfied: antlr4-python3-runtime==4.9.* in /usr/local/lib/python3.10/dist-packages (from omegaconf<2.3.0,>=2.1.1->autogluon.multimodal==1.1.1->autogluon) (4.9.3)\n",
            "Requirement already satisfied: colorama in /usr/local/lib/python3.10/dist-packages (from openmim<0.4.0,>=0.3.7->autogluon.multimodal==1.1.1->autogluon) (0.4.6)\n",
            "Requirement already satisfied: model-index in /usr/local/lib/python3.10/dist-packages (from openmim<0.4.0,>=0.3.7->autogluon.multimodal==1.1.1->autogluon) (0.1.11)\n",
            "Requirement already satisfied: opendatalab in /usr/local/lib/python3.10/dist-packages (from openmim<0.4.0,>=0.3.7->autogluon.multimodal==1.1.1->autogluon) (0.0.10)\n",
            "Requirement already satisfied: rich in /usr/local/lib/python3.10/dist-packages (from openmim<0.4.0,>=0.3.7->autogluon.multimodal==1.1.1->autogluon) (13.7.1)\n",
            "Requirement already satisfied: tabulate in /usr/local/lib/python3.10/dist-packages (from openmim<0.4.0,>=0.3.7->autogluon.multimodal==1.1.1->autogluon) (0.9.0)\n",
            "Requirement already satisfied: coloredlogs in /usr/local/lib/python3.10/dist-packages (from optimum[onnxruntime]<1.19,>=1.17->autogluon.timeseries[all]==1.1.1->autogluon) (15.0.1)\n",
            "Requirement already satisfied: sympy in /usr/local/lib/python3.10/dist-packages (from optimum[onnxruntime]<1.19,>=1.17->autogluon.timeseries[all]==1.1.1->autogluon) (1.12.1)\n",
            "Requirement already satisfied: onnx in /usr/local/lib/python3.10/dist-packages (from optimum[onnxruntime]<1.19,>=1.17->autogluon.timeseries[all]==1.1.1->autogluon) (1.16.1)\n",
            "Requirement already satisfied: onnxruntime>=1.11.0 in /usr/local/lib/python3.10/dist-packages (from optimum[onnxruntime]<1.19,>=1.17->autogluon.timeseries[all]==1.1.1->autogluon) (1.18.1)\n",
            "Requirement already satisfied: protobuf>=3.20.1 in /usr/local/lib/python3.10/dist-packages (from optimum[onnxruntime]<1.19,>=1.17->autogluon.timeseries[all]==1.1.1->autogluon) (3.20.3)\n",
            "Requirement already satisfied: python-dateutil>=2.8.2 in /usr/local/lib/python3.10/dist-packages (from pandas<2.3.0,>=2.0.0->autogluon.core[all]==1.1.1->autogluon) (2.8.2)\n",
            "Requirement already satisfied: pytz>=2020.1 in /usr/local/lib/python3.10/dist-packages (from pandas<2.3.0,>=2.0.0->autogluon.core[all]==1.1.1->autogluon) (2023.4)\n",
            "Requirement already satisfied: tzdata>=2022.1 in /usr/local/lib/python3.10/dist-packages (from pandas<2.3.0,>=2.0.0->autogluon.core[all]==1.1.1->autogluon) (2024.1)\n",
            "Requirement already satisfied: filelock in /usr/local/lib/python3.10/dist-packages (from ray[default,tune]<2.11,>=2.10.0->autogluon.core[all]==1.1.1->autogluon) (3.15.3)\n",
            "Requirement already satisfied: msgpack<2.0.0,>=1.0.0 in /usr/local/lib/python3.10/dist-packages (from ray[default,tune]<2.11,>=2.10.0->autogluon.core[all]==1.1.1->autogluon) (1.0.8)\n",
            "Requirement already satisfied: aiosignal in /usr/local/lib/python3.10/dist-packages (from ray[default,tune]<2.11,>=2.10.0->autogluon.core[all]==1.1.1->autogluon) (1.3.1)\n",
            "Requirement already satisfied: frozenlist in /usr/local/lib/python3.10/dist-packages (from ray[default,tune]<2.11,>=2.10.0->autogluon.core[all]==1.1.1->autogluon) (1.4.1)\n",
            "Requirement already satisfied: aiohttp>=3.7 in /usr/local/lib/python3.10/dist-packages (from ray[default,tune]<2.11,>=2.10.0->autogluon.core[all]==1.1.1->autogluon) (3.9.5)\n",
            "Requirement already satisfied: aiohttp-cors in /usr/local/lib/python3.10/dist-packages (from ray[default,tune]<2.11,>=2.10.0->autogluon.core[all]==1.1.1->autogluon) (0.7.0)\n",
            "Requirement already satisfied: colorful in /usr/local/lib/python3.10/dist-packages (from ray[default,tune]<2.11,>=2.10.0->autogluon.core[all]==1.1.1->autogluon) (0.5.6)\n",
            "Requirement already satisfied: py-spy>=0.2.0 in /usr/local/lib/python3.10/dist-packages (from ray[default,tune]<2.11,>=2.10.0->autogluon.core[all]==1.1.1->autogluon) (0.3.14)\n",
            "Requirement already satisfied: opencensus in /usr/local/lib/python3.10/dist-packages (from ray[default,tune]<2.11,>=2.10.0->autogluon.core[all]==1.1.1->autogluon) (0.11.4)\n",
            "Requirement already satisfied: prometheus-client>=0.7.1 in /usr/local/lib/python3.10/dist-packages (from ray[default,tune]<2.11,>=2.10.0->autogluon.core[all]==1.1.1->autogluon) (0.20.0)\n",
            "Requirement already satisfied: smart-open in /usr/local/lib/python3.10/dist-packages (from ray[default,tune]<2.11,>=2.10.0->autogluon.core[all]==1.1.1->autogluon) (7.0.4)\n",
            "Requirement already satisfied: virtualenv!=20.21.1,>=20.0.24 in /usr/local/lib/python3.10/dist-packages (from ray[default,tune]<2.11,>=2.10.0->autogluon.core[all]==1.1.1->autogluon) (20.26.3)\n",
            "Requirement already satisfied: grpcio>=1.42.0 in /usr/local/lib/python3.10/dist-packages (from ray[default,tune]<2.11,>=2.10.0->autogluon.core[all]==1.1.1->autogluon) (1.64.1)\n",
            "Requirement already satisfied: tensorboardX>=1.9 in /usr/local/lib/python3.10/dist-packages (from ray[default,tune]<2.11,>=2.10.0->autogluon.core[all]==1.1.1->autogluon) (2.6.2.2)\n",
            "Requirement already satisfied: pyarrow>=6.0.1 in /usr/local/lib/python3.10/dist-packages (from ray[default,tune]<2.11,>=2.10.0->autogluon.core[all]==1.1.1->autogluon) (16.1.0)\n",
            "Requirement already satisfied: charset-normalizer<4,>=2 in /usr/local/lib/python3.10/dist-packages (from requests->autogluon.core[all]==1.1.1->autogluon) (3.3.2)\n",
            "Requirement already satisfied: idna<4,>=2.5 in /usr/local/lib/python3.10/dist-packages (from requests->autogluon.core[all]==1.1.1->autogluon) (3.7)\n",
            "Requirement already satisfied: urllib3<3,>=1.21.1 in /usr/local/lib/python3.10/dist-packages (from requests->autogluon.core[all]==1.1.1->autogluon) (2.0.7)\n",
            "Requirement already satisfied: certifi>=2017.4.17 in /usr/local/lib/python3.10/dist-packages (from requests->autogluon.core[all]==1.1.1->autogluon) (2024.6.2)\n",
            "Requirement already satisfied: imageio>=2.4.1 in /usr/local/lib/python3.10/dist-packages (from scikit-image<0.21.0,>=0.19.1->autogluon.multimodal==1.1.1->autogluon) (2.31.6)\n",
            "Requirement already satisfied: tifffile>=2019.7.26 in /usr/local/lib/python3.10/dist-packages (from scikit-image<0.21.0,>=0.19.1->autogluon.multimodal==1.1.1->autogluon) (2024.6.18)\n",
            "Requirement already satisfied: PyWavelets>=1.1.1 in /usr/local/lib/python3.10/dist-packages (from scikit-image<0.21.0,>=0.19.1->autogluon.multimodal==1.1.1->autogluon) (1.6.0)\n",
            "Requirement already satisfied: threadpoolctl>=2.0.0 in /usr/local/lib/python3.10/dist-packages (from scikit-learn<1.4.1,>=1.3.0->autogluon.core[all]==1.1.1->autogluon) (3.5.0)\n",
            "Requirement already satisfied: statsmodels>=0.13.2 in /usr/local/lib/python3.10/dist-packages (from statsforecast<1.5,>=1.4.0->autogluon.timeseries[all]==1.1.1->autogluon) (0.14.2)\n",
            "Requirement already satisfied: absl-py>=0.4 in /usr/local/lib/python3.10/dist-packages (from tensorboard<3,>=2.9->autogluon.multimodal==1.1.1->autogluon) (1.4.0)\n",
            "Requirement already satisfied: google-auth<3,>=1.6.3 in /usr/local/lib/python3.10/dist-packages (from tensorboard<3,>=2.9->autogluon.multimodal==1.1.1->autogluon) (2.27.0)\n",
            "Requirement already satisfied: google-auth-oauthlib<2,>=0.5 in /usr/local/lib/python3.10/dist-packages (from tensorboard<3,>=2.9->autogluon.multimodal==1.1.1->autogluon) (1.2.0)\n",
            "Requirement already satisfied: markdown>=2.6.8 in /usr/local/lib/python3.10/dist-packages (from tensorboard<3,>=2.9->autogluon.multimodal==1.1.1->autogluon) (3.6)\n",
            "Requirement already satisfied: tensorboard-data-server<0.8.0,>=0.7.0 in /usr/local/lib/python3.10/dist-packages (from tensorboard<3,>=2.9->autogluon.multimodal==1.1.1->autogluon) (0.7.2)\n",
            "Requirement already satisfied: werkzeug>=1.0.1 in /usr/local/lib/python3.10/dist-packages (from tensorboard<3,>=2.9->autogluon.multimodal==1.1.1->autogluon) (3.0.3)\n",
            "Requirement already satisfied: safetensors in /usr/local/lib/python3.10/dist-packages (from timm<0.10.0,>=0.9.5->autogluon.multimodal==1.1.1->autogluon) (0.4.3)\n",
            "Requirement already satisfied: nvidia-cuda-nvrtc-cu12==12.1.105 in /usr/local/lib/python3.10/dist-packages (from torch<2.4,>=2.2->autogluon.multimodal==1.1.1->autogluon) (12.1.105)\n",
            "Requirement already satisfied: nvidia-cuda-runtime-cu12==12.1.105 in /usr/local/lib/python3.10/dist-packages (from torch<2.4,>=2.2->autogluon.multimodal==1.1.1->autogluon) (12.1.105)\n",
            "Requirement already satisfied: nvidia-cuda-cupti-cu12==12.1.105 in /usr/local/lib/python3.10/dist-packages (from torch<2.4,>=2.2->autogluon.multimodal==1.1.1->autogluon) (12.1.105)\n",
            "Requirement already satisfied: nvidia-cudnn-cu12==8.9.2.26 in /usr/local/lib/python3.10/dist-packages (from torch<2.4,>=2.2->autogluon.multimodal==1.1.1->autogluon) (8.9.2.26)\n",
            "Requirement already satisfied: nvidia-cublas-cu12==12.1.3.1 in /usr/local/lib/python3.10/dist-packages (from torch<2.4,>=2.2->autogluon.multimodal==1.1.1->autogluon) (12.1.3.1)\n",
            "Requirement already satisfied: nvidia-cufft-cu12==11.0.2.54 in /usr/local/lib/python3.10/dist-packages (from torch<2.4,>=2.2->autogluon.multimodal==1.1.1->autogluon) (11.0.2.54)\n",
            "Requirement already satisfied: nvidia-curand-cu12==10.3.2.106 in /usr/local/lib/python3.10/dist-packages (from torch<2.4,>=2.2->autogluon.multimodal==1.1.1->autogluon) (10.3.2.106)\n",
            "Requirement already satisfied: nvidia-cusolver-cu12==11.4.5.107 in /usr/local/lib/python3.10/dist-packages (from torch<2.4,>=2.2->autogluon.multimodal==1.1.1->autogluon) (11.4.5.107)\n",
            "Requirement already satisfied: nvidia-cusparse-cu12==12.1.0.106 in /usr/local/lib/python3.10/dist-packages (from torch<2.4,>=2.2->autogluon.multimodal==1.1.1->autogluon) (12.1.0.106)\n",
            "Requirement already satisfied: nvidia-nccl-cu12==2.20.5 in /usr/local/lib/python3.10/dist-packages (from torch<2.4,>=2.2->autogluon.multimodal==1.1.1->autogluon) (2.20.5)\n",
            "Requirement already satisfied: nvidia-nvtx-cu12==12.1.105 in /usr/local/lib/python3.10/dist-packages (from torch<2.4,>=2.2->autogluon.multimodal==1.1.1->autogluon) (12.1.105)\n",
            "Requirement already satisfied: triton==2.3.0 in /usr/local/lib/python3.10/dist-packages (from torch<2.4,>=2.2->autogluon.multimodal==1.1.1->autogluon) (2.3.0)\n",
            "Requirement already satisfied: nvidia-nvjitlink-cu12 in /usr/local/lib/python3.10/dist-packages (from nvidia-cusolver-cu12==11.4.5.107->torch<2.4,>=2.2->autogluon.multimodal==1.1.1->autogluon) (12.5.40)\n",
            "Requirement already satisfied: tokenizers<0.19,>=0.14 in /usr/local/lib/python3.10/dist-packages (from transformers[sentencepiece]<4.41.0,>=4.38.0->autogluon.multimodal==1.1.1->autogluon) (0.15.2)\n",
            "Requirement already satisfied: sentencepiece!=0.1.92,>=0.1.91 in /usr/local/lib/python3.10/dist-packages (from transformers[sentencepiece]<4.41.0,>=4.38.0->autogluon.multimodal==1.1.1->autogluon) (0.1.99)\n",
            "Requirement already satisfied: contourpy>=1.0.1 in /usr/local/lib/python3.10/dist-packages (from matplotlib->autogluon.core[all]==1.1.1->autogluon) (1.2.1)\n",
            "Requirement already satisfied: cycler>=0.10 in /usr/local/lib/python3.10/dist-packages (from matplotlib->autogluon.core[all]==1.1.1->autogluon) (0.12.1)\n",
            "Requirement already satisfied: fonttools>=4.22.0 in /usr/local/lib/python3.10/dist-packages (from matplotlib->autogluon.core[all]==1.1.1->autogluon) (4.53.0)\n",
            "Requirement already satisfied: kiwisolver>=1.0.1 in /usr/local/lib/python3.10/dist-packages (from matplotlib->autogluon.core[all]==1.1.1->autogluon) (1.4.5)\n",
            "Requirement already satisfied: pyparsing>=2.3.1 in /usr/local/lib/python3.10/dist-packages (from matplotlib->autogluon.core[all]==1.1.1->autogluon) (3.1.2)\n",
            "Requirement already satisfied: multidict<7.0,>=4.5 in /usr/local/lib/python3.10/dist-packages (from aiohttp>=3.7->ray[default,tune]<2.11,>=2.10.0->autogluon.core[all]==1.1.1->autogluon) (6.0.5)\n",
            "Requirement already satisfied: yarl<2.0,>=1.0 in /usr/local/lib/python3.10/dist-packages (from aiohttp>=3.7->ray[default,tune]<2.11,>=2.10.0->autogluon.core[all]==1.1.1->autogluon) (1.9.4)\n",
            "Requirement already satisfied: async-timeout<5.0,>=4.0 in /usr/local/lib/python3.10/dist-packages (from aiohttp>=3.7->ray[default,tune]<2.11,>=2.10.0->autogluon.core[all]==1.1.1->autogluon) (4.0.3)\n",
            "Requirement already satisfied: pyarrow-hotfix in /usr/local/lib/python3.10/dist-packages (from datasets>=2.0.0->evaluate<0.5.0,>=0.4.0->autogluon.multimodal==1.1.1->autogluon) (0.6)\n",
            "Requirement already satisfied: beautifulsoup4 in /usr/local/lib/python3.10/dist-packages (from gdown>=4.0.0->nlpaug<1.2.0,>=1.1.10->autogluon.multimodal==1.1.1->autogluon) (4.12.3)\n",
            "Requirement already satisfied: cachetools<6.0,>=2.0.0 in /usr/local/lib/python3.10/dist-packages (from google-auth<3,>=1.6.3->tensorboard<3,>=2.9->autogluon.multimodal==1.1.1->autogluon) (5.3.3)\n",
            "Requirement already satisfied: pyasn1-modules>=0.2.1 in /usr/local/lib/python3.10/dist-packages (from google-auth<3,>=1.6.3->tensorboard<3,>=2.9->autogluon.multimodal==1.1.1->autogluon) (0.4.0)\n",
            "Requirement already satisfied: rsa<5,>=3.1.4 in /usr/local/lib/python3.10/dist-packages (from google-auth<3,>=1.6.3->tensorboard<3,>=2.9->autogluon.multimodal==1.1.1->autogluon) (4.9)\n",
            "Requirement already satisfied: requests-oauthlib>=0.7.0 in /usr/local/lib/python3.10/dist-packages (from google-auth-oauthlib<2,>=0.5->tensorboard<3,>=2.9->autogluon.multimodal==1.1.1->autogluon) (1.3.1)\n",
            "Requirement already satisfied: llvmlite<0.42,>=0.41.0dev0 in /usr/local/lib/python3.10/dist-packages (from numba->mlforecast<0.10.1,>=0.10.0->autogluon.timeseries[all]==1.1.1->autogluon) (0.41.1)\n",
            "Requirement already satisfied: flatbuffers in /usr/local/lib/python3.10/dist-packages (from onnxruntime>=1.11.0->optimum[onnxruntime]<1.19,>=1.17->autogluon.timeseries[all]==1.1.1->autogluon) (24.3.25)\n",
            "Requirement already satisfied: annotated-types>=0.4.0 in /usr/local/lib/python3.10/dist-packages (from pydantic<3,>=1.7->gluonts==0.15.1->autogluon.timeseries[all]==1.1.1->autogluon) (0.7.0)\n",
            "Requirement already satisfied: pydantic-core==2.18.4 in /usr/local/lib/python3.10/dist-packages (from pydantic<3,>=1.7->gluonts==0.15.1->autogluon.timeseries[all]==1.1.1->autogluon) (2.18.4)\n",
            "Requirement already satisfied: spacy-legacy<3.1.0,>=3.0.11 in /usr/local/lib/python3.10/dist-packages (from spacy<4->fastai<2.8,>=2.3.1->autogluon.tabular[all]==1.1.1->autogluon) (3.0.12)\n",
            "Requirement already satisfied: spacy-loggers<2.0.0,>=1.0.0 in /usr/local/lib/python3.10/dist-packages (from spacy<4->fastai<2.8,>=2.3.1->autogluon.tabular[all]==1.1.1->autogluon) (1.0.5)\n",
            "Requirement already satisfied: murmurhash<1.1.0,>=0.28.0 in /usr/local/lib/python3.10/dist-packages (from spacy<4->fastai<2.8,>=2.3.1->autogluon.tabular[all]==1.1.1->autogluon) (1.0.10)\n",
            "Requirement already satisfied: cymem<2.1.0,>=2.0.2 in /usr/local/lib/python3.10/dist-packages (from spacy<4->fastai<2.8,>=2.3.1->autogluon.tabular[all]==1.1.1->autogluon) (2.0.8)\n",
            "Requirement already satisfied: preshed<3.1.0,>=3.0.2 in /usr/local/lib/python3.10/dist-packages (from spacy<4->fastai<2.8,>=2.3.1->autogluon.tabular[all]==1.1.1->autogluon) (3.0.9)\n",
            "Requirement already satisfied: thinc<8.3.0,>=8.2.2 in /usr/local/lib/python3.10/dist-packages (from spacy<4->fastai<2.8,>=2.3.1->autogluon.tabular[all]==1.1.1->autogluon) (8.2.5)\n",
            "Requirement already satisfied: wasabi<1.2.0,>=0.9.1 in /usr/local/lib/python3.10/dist-packages (from spacy<4->fastai<2.8,>=2.3.1->autogluon.tabular[all]==1.1.1->autogluon) (1.1.3)\n",
            "Requirement already satisfied: srsly<3.0.0,>=2.4.3 in /usr/local/lib/python3.10/dist-packages (from spacy<4->fastai<2.8,>=2.3.1->autogluon.tabular[all]==1.1.1->autogluon) (2.4.8)\n",
            "Requirement already satisfied: catalogue<2.1.0,>=2.0.6 in /usr/local/lib/python3.10/dist-packages (from spacy<4->fastai<2.8,>=2.3.1->autogluon.tabular[all]==1.1.1->autogluon) (2.0.10)\n",
            "Requirement already satisfied: weasel<0.5.0,>=0.1.0 in /usr/local/lib/python3.10/dist-packages (from spacy<4->fastai<2.8,>=2.3.1->autogluon.tabular[all]==1.1.1->autogluon) (0.4.1)\n",
            "Requirement already satisfied: typer<1.0.0,>=0.3.0 in /usr/local/lib/python3.10/dist-packages (from spacy<4->fastai<2.8,>=2.3.1->autogluon.tabular[all]==1.1.1->autogluon) (0.12.3)\n",
            "Requirement already satisfied: langcodes<4.0.0,>=3.2.0 in /usr/local/lib/python3.10/dist-packages (from spacy<4->fastai<2.8,>=2.3.1->autogluon.tabular[all]==1.1.1->autogluon) (3.4.0)\n",
            "Requirement already satisfied: patsy>=0.5.6 in /usr/local/lib/python3.10/dist-packages (from statsmodels>=0.13.2->statsforecast<1.5,>=1.4.0->autogluon.timeseries[all]==1.1.1->autogluon) (0.5.6)\n",
            "Requirement already satisfied: distlib<1,>=0.3.7 in /usr/local/lib/python3.10/dist-packages (from virtualenv!=20.21.1,>=20.0.24->ray[default,tune]<2.11,>=2.10.0->autogluon.core[all]==1.1.1->autogluon) (0.3.8)\n",
            "Requirement already satisfied: platformdirs<5,>=3.9.1 in /usr/local/lib/python3.10/dist-packages (from virtualenv!=20.21.1,>=20.0.24->ray[default,tune]<2.11,>=2.10.0->autogluon.core[all]==1.1.1->autogluon) (4.2.2)\n",
            "Requirement already satisfied: humanfriendly>=9.1 in /usr/local/lib/python3.10/dist-packages (from coloredlogs->optimum[onnxruntime]<1.19,>=1.17->autogluon.timeseries[all]==1.1.1->autogluon) (10.0)\n",
            "Requirement already satisfied: ordered-set in /usr/local/lib/python3.10/dist-packages (from model-index->openmim<0.4.0,>=0.3.7->autogluon.multimodal==1.1.1->autogluon) (4.1.0)\n",
            "Requirement already satisfied: opencensus-context>=0.1.3 in /usr/local/lib/python3.10/dist-packages (from opencensus->ray[default,tune]<2.11,>=2.10.0->autogluon.core[all]==1.1.1->autogluon) (0.1.3)\n",
            "Requirement already satisfied: google-api-core<3.0.0,>=1.0.0 in /usr/local/lib/python3.10/dist-packages (from opencensus->ray[default,tune]<2.11,>=2.10.0->autogluon.core[all]==1.1.1->autogluon) (2.11.1)\n",
            "Requirement already satisfied: pycryptodome in /usr/local/lib/python3.10/dist-packages (from opendatalab->openmim<0.4.0,>=0.3.7->autogluon.multimodal==1.1.1->autogluon) (3.20.0)\n",
            "Requirement already satisfied: openxlab in /usr/local/lib/python3.10/dist-packages (from opendatalab->openmim<0.4.0,>=0.3.7->autogluon.multimodal==1.1.1->autogluon) (0.0.11)\n",
            "Requirement already satisfied: tenacity>=6.2.0 in /usr/local/lib/python3.10/dist-packages (from plotly->catboost<1.3,>=1.1->autogluon.tabular[all]==1.1.1->autogluon) (8.4.1)\n",
            "Requirement already satisfied: markdown-it-py>=2.2.0 in /usr/local/lib/python3.10/dist-packages (from rich->openmim<0.4.0,>=0.3.7->autogluon.multimodal==1.1.1->autogluon) (3.0.0)\n",
            "Requirement already satisfied: pygments<3.0.0,>=2.13.0 in /usr/local/lib/python3.10/dist-packages (from rich->openmim<0.4.0,>=0.3.7->autogluon.multimodal==1.1.1->autogluon) (2.16.1)\n",
            "Requirement already satisfied: wrapt in /usr/local/lib/python3.10/dist-packages (from smart-open->ray[default,tune]<2.11,>=2.10.0->autogluon.core[all]==1.1.1->autogluon) (1.14.1)\n",
            "Requirement already satisfied: mpmath<1.4.0,>=1.1.0 in /usr/local/lib/python3.10/dist-packages (from sympy->optimum[onnxruntime]<1.19,>=1.17->autogluon.timeseries[all]==1.1.1->autogluon) (1.3.0)\n",
            "Requirement already satisfied: googleapis-common-protos<2.0.dev0,>=1.56.2 in /usr/local/lib/python3.10/dist-packages (from google-api-core<3.0.0,>=1.0.0->opencensus->ray[default,tune]<2.11,>=2.10.0->autogluon.core[all]==1.1.1->autogluon) (1.63.1)\n",
            "Requirement already satisfied: language-data>=1.2 in /usr/local/lib/python3.10/dist-packages (from langcodes<4.0.0,>=3.2.0->spacy<4->fastai<2.8,>=2.3.1->autogluon.tabular[all]==1.1.1->autogluon) (1.2.0)\n",
            "Requirement already satisfied: mdurl~=0.1 in /usr/local/lib/python3.10/dist-packages (from markdown-it-py>=2.2.0->rich->openmim<0.4.0,>=0.3.7->autogluon.multimodal==1.1.1->autogluon) (0.1.2)\n",
            "Requirement already satisfied: pyasn1<0.7.0,>=0.4.6 in /usr/local/lib/python3.10/dist-packages (from pyasn1-modules>=0.2.1->google-auth<3,>=1.6.3->tensorboard<3,>=2.9->autogluon.multimodal==1.1.1->autogluon) (0.6.0)\n",
            "Requirement already satisfied: oauthlib>=3.0.0 in /usr/local/lib/python3.10/dist-packages (from requests-oauthlib>=0.7.0->google-auth-oauthlib<2,>=0.5->tensorboard<3,>=2.9->autogluon.multimodal==1.1.1->autogluon) (3.2.2)\n",
            "Requirement already satisfied: blis<0.8.0,>=0.7.8 in /usr/local/lib/python3.10/dist-packages (from thinc<8.3.0,>=8.2.2->spacy<4->fastai<2.8,>=2.3.1->autogluon.tabular[all]==1.1.1->autogluon) (0.7.11)\n",
            "Requirement already satisfied: confection<1.0.0,>=0.0.1 in /usr/local/lib/python3.10/dist-packages (from thinc<8.3.0,>=8.2.2->spacy<4->fastai<2.8,>=2.3.1->autogluon.tabular[all]==1.1.1->autogluon) (0.1.5)\n",
            "Requirement already satisfied: shellingham>=1.3.0 in /usr/local/lib/python3.10/dist-packages (from typer<1.0.0,>=0.3.0->spacy<4->fastai<2.8,>=2.3.1->autogluon.tabular[all]==1.1.1->autogluon) (1.5.4)\n",
            "Requirement already satisfied: cloudpathlib<1.0.0,>=0.7.0 in /usr/local/lib/python3.10/dist-packages (from weasel<0.5.0,>=0.1.0->spacy<4->fastai<2.8,>=2.3.1->autogluon.tabular[all]==1.1.1->autogluon) (0.18.1)\n",
            "Requirement already satisfied: soupsieve>1.2 in /usr/local/lib/python3.10/dist-packages (from beautifulsoup4->gdown>=4.0.0->nlpaug<1.2.0,>=1.1.10->autogluon.multimodal==1.1.1->autogluon) (2.5)\n",
            "Requirement already satisfied: PySocks!=1.5.7,>=1.5.6 in /usr/local/lib/python3.10/dist-packages (from requests->autogluon.core[all]==1.1.1->autogluon) (1.7.1)\n",
            "Requirement already satisfied: marisa-trie>=0.7.7 in /usr/local/lib/python3.10/dist-packages (from language-data>=1.2->langcodes<4.0.0,>=3.2.0->spacy<4->fastai<2.8,>=2.3.1->autogluon.tabular[all]==1.1.1->autogluon) (1.2.0)\n",
            "Requirement already satisfied: lightgbm in /usr/local/lib/python3.10/dist-packages (4.1.0)\n",
            "Requirement already satisfied: numpy in /usr/local/lib/python3.10/dist-packages (from lightgbm) (1.25.2)\n",
            "Requirement already satisfied: scipy in /usr/local/lib/python3.10/dist-packages (from lightgbm) (1.11.4)\n",
            "Collecting pygraphviz\n",
            "  Using cached pygraphviz-1.13.tar.gz (104 kB)\n",
            "  Installing build dependencies ... \u001b[?25l\u001b[?25hdone\n",
            "  Getting requirements to build wheel ... \u001b[?25l\u001b[?25hdone\n",
            "  Preparing metadata (pyproject.toml) ... \u001b[?25l\u001b[?25hdone\n",
            "Building wheels for collected packages: pygraphviz\n",
            "  Building wheel for pygraphviz (pyproject.toml) ... \u001b[?25l\u001b[?25hdone\n",
            "  Created wheel for pygraphviz: filename=pygraphviz-1.13-cp310-cp310-linux_x86_64.whl size=168495 sha256=a4cf37a2a7da99eb75ec267fa2e9a2a3255462a852708619ef6fa6fad5f00c66\n",
            "  Stored in directory: /root/.cache/pip/wheels/c5/96/10/6c25add1fffc368b1927252bf73b63fcb938de8f4486e23691\n",
            "Successfully built pygraphviz\n",
            "Installing collected packages: pygraphviz\n",
            "Successfully installed pygraphviz-1.13\n"
          ]
        }
      ],
      "source": [
        "!pip install autogluon\n",
        "!pip install lightgbm\n",
        "!pip install pygraphviz"
      ]
    },
    {
      "cell_type": "code",
      "execution_count": null,
      "metadata": {
        "colab": {
          "base_uri": "https://localhost:8080/"
        },
        "id": "txLdcY4VbVOg",
        "outputId": "3ff6f53d-3b34-4d41-d44f-b4509ccecd9d"
      },
      "outputs": [
        {
          "name": "stdout",
          "output_type": "stream",
          "text": [
            "Found existing installation: autokeras 2.0.0\n",
            "Uninstalling autokeras-2.0.0:\n",
            "  Would remove:\n",
            "    /usr/local/lib/python3.10/dist-packages/autokeras-2.0.0.dist-info/*\n",
            "    /usr/local/lib/python3.10/dist-packages/autokeras/*\n",
            "    /usr/local/lib/python3.10/dist-packages/benchmark/*\n",
            "Proceed (Y/n)? Traceback (most recent call last):\n",
            "  File \"/usr/local/lib/python3.10/dist-packages/pip/_internal/cli/base_command.py\", line 179, in exc_logging_wrapper\n",
            "    status = run_func(*args)\n",
            "  File \"/usr/local/lib/python3.10/dist-packages/pip/_internal/commands/uninstall.py\", line 106, in run\n",
            "    uninstall_pathset = req.uninstall(\n",
            "  File \"/usr/local/lib/python3.10/dist-packages/pip/_internal/req/req_install.py\", line 722, in uninstall\n",
            "    uninstalled_pathset.remove(auto_confirm, verbose)\n",
            "  File \"/usr/local/lib/python3.10/dist-packages/pip/_internal/req/req_uninstall.py\", line 364, in remove\n",
            "    if auto_confirm or self._allowed_to_proceed(verbose):\n",
            "  File \"/usr/local/lib/python3.10/dist-packages/pip/_internal/req/req_uninstall.py\", line 404, in _allowed_to_proceed\n",
            "    return ask(\"Proceed (Y/n)? \", (\"y\", \"n\", \"\")) != \"n\"\n",
            "  File \"/usr/local/lib/python3.10/dist-packages/pip/_internal/utils/misc.py\", line 235, in ask\n",
            "    response = input(message)\n",
            "KeyboardInterrupt\n",
            "\n",
            "During handling of the above exception, another exception occurred:\n",
            "\n",
            "Traceback (most recent call last):\n",
            "  File \"/usr/local/bin/pip\", line 8, in <module>\n",
            "    sys.exit(main())\n",
            "  File \"/usr/local/lib/python3.10/dist-packages/pip/_internal/cli/main.py\", line 80, in main\n",
            "    return command.main(cmd_args)\n",
            "  File \"/usr/local/lib/python3.10/dist-packages/pip/_internal/cli/base_command.py\", line 100, in main\n",
            "    return self._main(args)\n",
            "  File \"/usr/local/lib/python3.10/dist-packages/pip/_internal/cli/base_command.py\", line 232, in _main\n",
            "    return run(options, args)\n",
            "  File \"/usr/local/lib/python3.10/dist-packages/pip/_internal/cli/base_command.py\", line 179, in exc_logging_wrapper\n",
            "    status = run_func(*args)\n",
            "KeyboardInterrupt\n",
            "^C\n"
          ]
        }
      ],
      "source": [
        "# uninstall autokeras\n",
        "!pip uninstall autokeras"
      ]
    },
    {
      "cell_type": "code",
      "execution_count": null,
      "metadata": {
        "id": "zvKm3tONtrqX"
      },
      "outputs": [],
      "source": [
        "from transformers import AutoModel, AutoTokenizer\n",
        "import torch\n",
        "import pandas as pd\n",
        "from autogluon.tabular import TabularPredictor\n",
        "from tqdm import tqdm"
      ]
    },
    {
      "cell_type": "code",
      "execution_count": null,
      "metadata": {
        "colab": {
          "base_uri": "https://localhost:8080/"
        },
        "id": "92nlof_bt6ln",
        "outputId": "c86c7d54-a886-4dc6-b9e1-28dfd0d98ef4"
      },
      "outputs": [
        {
          "name": "stdout",
          "output_type": "stream",
          "text": [
            "Drive already mounted at /content/drive; to attempt to forcibly remount, call drive.mount(\"/content/drive\", force_remount=True).\n"
          ]
        }
      ],
      "source": [
        "# Ensure your model is on the right device (CPU or GPU)\n",
        "# device = \"cuda\" if torch.cuda.is_available() else \"cpu\"\n",
        "from google.colab import drive\n",
        "drive.mount('/content/drive')\n",
        "# Load tokenizer and model\n",
        "# This should be the path or model identifier you've fine-tuned\n",
        "model_name = '/content/drive/MyDrive/multitude_split/mdeberta-reduced-2'\n",
        "tokenizer = AutoTokenizer.from_pretrained('microsoft/mdeberta-v3-base')\n",
        "model = AutoModel.from_pretrained(model_name)\n",
        "model.to(device)\n",
        "\n",
        "model.eval()"
      ]
    },
    {
      "cell_type": "code",
      "execution_count": null,
      "metadata": {
        "id": "gv7uz9hoaCun"
      },
      "outputs": [],
      "source": [
        "\n",
        "import pandas as pd\n",
        "data = pd.read_csv('/content/drive/MyDrive/multitude_split/dataset_all.csv')"
      ]
    },
    {
      "cell_type": "code",
      "execution_count": null,
      "metadata": {
        "id": "rqzb7dGScoqk"
      },
      "outputs": [],
      "source": [
        "import numpy as np\n",
        "import torch\n",
        "def extract_embeddings(df, text_column='text', batch_size=32):\n",
        "    embeddings = []\n",
        "    dataset = tokenizer(df[text_column].tolist(), padding=True, truncation=True, max_length=512, return_tensors=\"pt\")\n",
        "    dataset = torch.utils.data.TensorDataset(dataset['input_ids'], dataset['attention_mask'])\n",
        "    data_loader = torch.utils.data.DataLoader(dataset, batch_size=batch_size)\n",
        "\n",
        "    with torch.no_grad():\n",
        "        for input_ids, attention_mask in tqdm(data_loader, desc=\"Extracting embeddings\"):\n",
        "            input_ids = input_ids.to(device)\n",
        "            attention_mask = attention_mask.to(device)\n",
        "            outputs = model(input_ids, attention_mask=attention_mask)\n",
        "            hidden_states = outputs.last_hidden_state\n",
        "            # Mean pooling\n",
        "            mean_pooling = torch.mean(hidden_states, dim=1)\n",
        "            embeddings.append(mean_pooling.cpu().numpy())\n",
        "\n",
        "    # Concatenate all batch embeddings\n",
        "    embeddings = np.vstack(embeddings)\n",
        "    return embeddings\n"
      ]
    },
    {
      "cell_type": "code",
      "execution_count": null,
      "metadata": {
        "id": "OetLxv9AdWOa"
      },
      "outputs": [],
      "source": [
        "train = data[data.split == \"train\"]\n",
        "test = data[data.split == \"test\"]"
      ]
    },
    {
      "cell_type": "code",
      "execution_count": null,
      "metadata": {
        "colab": {
          "base_uri": "https://localhost:8080/"
        },
        "id": "RxiELpjQc0QL",
        "outputId": "4f539007-1384-4653-ea49-b2f9aae289c3"
      },
      "outputs": [
        {
          "name": "stderr",
          "output_type": "stream",
          "text": [
            "Extracting embeddings: 100%|██████████| 1400/1400 [33:57<00:00,  1.46s/it]\n",
            "Extracting embeddings: 100%|██████████| 916/916 [22:06<00:00,  1.45s/it]\n"
          ]
        }
      ],
      "source": [
        "train_embeddings = extract_embeddings(train, 'text')\n",
        "test_embeddings = extract_embeddings(test, 'text')"
      ]
    },
    {
      "cell_type": "code",
      "execution_count": null,
      "metadata": {
        "colab": {
          "base_uri": "https://localhost:8080/"
        },
        "id": "qlUXJEIY3di-",
        "outputId": "d6fad00e-4a95-4453-f237-00e86334215e"
      },
      "outputs": [
        {
          "name": "stdout",
          "output_type": "stream",
          "text": [
            "(44786, 768)\n",
            "(29295, 768)\n",
            "float32\n",
            "float32\n"
          ]
        }
      ],
      "source": [
        "print(train_embeddings.shape)\n",
        "print(test_embeddings.shape)\n",
        "print(train_embeddings.dtype)\n",
        "print(test_embeddings.dtype)"
      ]
    },
    {
      "cell_type": "code",
      "execution_count": null,
      "metadata": {
        "id": "ZCggwiLexxbI"
      },
      "outputs": [],
      "source": [
        "# save the embeddings\n",
        "import pickle\n",
        "with open('/content/drive/MyDrive/multitude_split/train_embeddingsmdeberta-2.pkl', 'wb') as f:\n",
        "    pickle.dump(train_embeddings, f)\n",
        "with open('/content/drive/MyDrive/multitude_split/test_embeddingsmdeberta-2.pkl', 'wb') as f:\n",
        "    pickle.dump(test_embeddings, f)"
      ]
    },
    {
      "cell_type": "code",
      "execution_count": null,
      "metadata": {
        "id": "Bjtz3Z-zt1E_"
      },
      "outputs": [],
      "source": [
        "# load embeddings\n",
        "# load the embeddings from saved file\n",
        "import pickle\n",
        "with open('/content/drive/MyDrive/multitude_split/train_embeddingsmdeberta-2.pkl', 'rb') as f:\n",
        "    train_embeddings = pickle.load(f)\n",
        "\n",
        "with open('/content/drive/MyDrive/multitude_split/test_embeddingsmdeberta-2.pkl', 'rb') as f:\n",
        "    test_embeddings = pickle.load(f)"
      ]
    },
    {
      "cell_type": "code",
      "execution_count": null,
      "metadata": {
        "id": "EJkUQzqVdfGF"
      },
      "outputs": [],
      "source": [
        "# Convert embeddings into DataFrame\n",
        "train_embeddings_df = pd.DataFrame(train_embeddings).reset_index(drop=True)\n",
        "test_embeddings_df = pd.DataFrame(test_embeddings).reset_index(drop=True)"
      ]
    },
    {
      "cell_type": "code",
      "execution_count": null,
      "metadata": {
        "id": "in_sawCZuDg_"
      },
      "outputs": [],
      "source": [
        "train.reset_index(drop=True, inplace=True)\n",
        "test.reset_index(drop=True, inplace=True)"
      ]
    },
    {
      "cell_type": "code",
      "execution_count": null,
      "metadata": {
        "id": "MMfcZk2ye0dO"
      },
      "outputs": [],
      "source": [
        "# Add labels to the embeddings DataFrame\n",
        "train_embeddings_df['label'] = train['label']\n",
        "test_embeddings_df['label'] = test['label']"
      ]
    },
    {
      "cell_type": "code",
      "execution_count": null,
      "metadata": {
        "colab": {
          "base_uri": "https://localhost:8080/"
        },
        "id": "lWvG0wGNuoHL",
        "outputId": "adb89c0e-4aff-42be-e3b2-9b1e1ec17487"
      },
      "outputs": [
        {
          "name": "stdout",
          "output_type": "stream",
          "text": [
            "label\n",
            "1    40030\n",
            "0     4756\n",
            "Name: count, dtype: int64\n"
          ]
        }
      ],
      "source": [
        "# count the number of values on each label\n",
        "label_counts = train_embeddings_df['label'].value_counts()\n",
        "print(label_counts)"
      ]
    },
    {
      "cell_type": "code",
      "execution_count": null,
      "metadata": {
        "id": "V3nsDUKWgHt0"
      },
      "outputs": [],
      "source": [
        "# Save path for the AutoGluon models\n",
        "save_path = '/content/drive/MyDrive/multitude_split/autogluon_models'\n",
        "\n",
        "# AutoGluon Tabular Predictor\n",
        "label_column = 'label'"
      ]
    },
    {
      "cell_type": "code",
      "execution_count": null,
      "metadata": {
        "id": "rhcnPFnqe7K8"
      },
      "outputs": [],
      "source": [
        "\n",
        "predictor = TabularPredictor(label='label', path=save_path, eval_metric='f1_macro',\n",
        "                             problem_type='binary',  # Adjust according to your specific problem, e.g., 'binary', 'multiclass'\n",
        "                             verbosity=2)\n"
      ]
    },
    {
      "cell_type": "code",
      "execution_count": null,
      "metadata": {
        "colab": {
          "base_uri": "https://localhost:8080/"
        },
        "id": "p3X2eYYvtv0i",
        "outputId": "77c7ecec-4e20-49ed-82b3-62570f9e74b6"
      },
      "outputs": [
        {
          "name": "stdout",
          "output_type": "stream",
          "text": [
            "<class 'pandas.core.frame.DataFrame'>\n",
            "RangeIndex: 44786 entries, 0 to 44785\n",
            "Columns: 769 entries, 0 to label\n",
            "dtypes: float32(768), int64(1)\n",
            "memory usage: 131.6 MB\n"
          ]
        }
      ],
      "source": [
        "train_embeddings_df.info()"
      ]
    },
    {
      "cell_type": "markdown",
      "metadata": {},
      "source": [
        "Train the Automl predictor on the embeddings."
      ]
    },
    {
      "cell_type": "code",
      "execution_count": null,
      "metadata": {
        "colab": {
          "base_uri": "https://localhost:8080/"
        },
        "id": "AJpGyHM-fD-P",
        "outputId": "97df87b9-1325-48f2-df4c-27d36bfd780a"
      },
      "outputs": [
        {
          "name": "stderr",
          "output_type": "stream",
          "text": [
            "Verbosity: 2 (Standard Logging)\n",
            "=================== System Info ===================\n",
            "AutoGluon Version:  1.1.1\n",
            "Python Version:     3.10.12\n",
            "Operating System:   Linux\n",
            "Platform Machine:   x86_64\n",
            "Platform Version:   #1 SMP PREEMPT_DYNAMIC Sun Apr 28 14:29:16 UTC 2024\n",
            "CPU Count:          8\n",
            "Memory Avail:       46.12 GB / 50.99 GB (90.5%)\n",
            "Disk Space Avail:   56.29 GB / 100.00 GB (56.3%)\n",
            "===================================================\n",
            "Presets specified: ['best_quality']\n",
            "Setting dynamic_stacking from 'auto' to True. Reason: Enable dynamic_stacking when use_bag_holdout is disabled. (use_bag_holdout=False)\n",
            "Stack configuration (auto_stack=True): num_stack_levels=1, num_bag_folds=8, num_bag_sets=1\n",
            "DyStack is enabled (dynamic_stacking=True). AutoGluon will try to determine whether the input data is affected by stacked overfitting and enable or disable stacking as a consequence.\n",
            "\tThis is used to identify the optimal `num_stack_levels` value. Copies of AutoGluon will be fit on subsets of the data. Then holdout validation data is used to detect stacked overfitting.\n",
            "\tRunning DyStack for up to 900s of the 3600s of remaining time (25%).\n",
            "\t\tContext path: \"/content/drive/MyDrive/multitude_split/autogluon_models/ds_sub_fit/sub_fit_ho\"\n",
            "\u001b[36m(_dystack pid=8534)\u001b[0m Running DyStack sub-fit ...\n",
            "\u001b[36m(_dystack pid=8534)\u001b[0m Beginning AutoGluon training ... Time limit = 900s\n",
            "\u001b[36m(_dystack pid=8534)\u001b[0m AutoGluon will save models to \"/content/drive/MyDrive/multitude_split/autogluon_models/ds_sub_fit/sub_fit_ho\"\n",
            "\u001b[36m(_dystack pid=8534)\u001b[0m Train Data Rows:    39809\n",
            "\u001b[36m(_dystack pid=8534)\u001b[0m Train Data Columns: 768\n",
            "\u001b[36m(_dystack pid=8534)\u001b[0m Label Column:       label\n",
            "\u001b[36m(_dystack pid=8534)\u001b[0m Problem Type:       binary\n",
            "\u001b[36m(_dystack pid=8534)\u001b[0m Preprocessing data ...\n",
            "\u001b[36m(_dystack pid=8534)\u001b[0m Selected class <--> label mapping:  class 1 = 1, class 0 = 0\n",
            "\u001b[36m(_dystack pid=8534)\u001b[0m Using Feature Generators to preprocess the data ...\n",
            "\u001b[36m(_dystack pid=8534)\u001b[0m Fitting AutoMLPipelineFeatureGenerator...\n",
            "\u001b[36m(_dystack pid=8534)\u001b[0m \tAvailable Memory:                    47564.87 MB\n",
            "\u001b[36m(_dystack pid=8534)\u001b[0m \tTrain Data (Original)  Memory Usage: 116.63 MB (0.2% of available memory)\n",
            "\u001b[36m(_dystack pid=8534)\u001b[0m \tInferring data type of each feature based on column values. Set feature_metadata_in to manually specify special dtypes of the features.\n",
            "\u001b[36m(_dystack pid=8534)\u001b[0m \tStage 1 Generators:\n",
            "\u001b[36m(_dystack pid=8534)\u001b[0m \t\tFitting AsTypeFeatureGenerator...\n",
            "\u001b[36m(_dystack pid=8534)\u001b[0m \tStage 2 Generators:\n",
            "\u001b[36m(_dystack pid=8534)\u001b[0m \t\tFitting FillNaFeatureGenerator...\n",
            "\u001b[36m(_dystack pid=8534)\u001b[0m \tStage 3 Generators:\n",
            "\u001b[36m(_dystack pid=8534)\u001b[0m \t\tFitting IdentityFeatureGenerator...\n",
            "\u001b[36m(_dystack pid=8534)\u001b[0m \tStage 4 Generators:\n",
            "\u001b[36m(_dystack pid=8534)\u001b[0m \t\tFitting DropUniqueFeatureGenerator...\n",
            "\u001b[36m(_dystack pid=8534)\u001b[0m \tStage 5 Generators:\n",
            "\u001b[36m(_dystack pid=8534)\u001b[0m \t\tFitting DropDuplicatesFeatureGenerator...\n",
            "\u001b[36m(_dystack pid=8534)\u001b[0m \tTypes of features in original data (raw dtype, special dtypes):\n",
            "\u001b[36m(_dystack pid=8534)\u001b[0m \t\t('float', []) : 768 | ['0', '1', '2', '3', '4', ...]\n",
            "\u001b[36m(_dystack pid=8534)\u001b[0m \tTypes of features in processed data (raw dtype, special dtypes):\n",
            "\u001b[36m(_dystack pid=8534)\u001b[0m \t\t('float', []) : 768 | ['0', '1', '2', '3', '4', ...]\n",
            "\u001b[36m(_dystack pid=8534)\u001b[0m \t3.2s = Fit runtime\n",
            "\u001b[36m(_dystack pid=8534)\u001b[0m \t768 features in original data used to generate 768 features in processed data.\n",
            "\u001b[36m(_dystack pid=8534)\u001b[0m \tTrain Data (Processed) Memory Usage: 116.63 MB (0.2% of available memory)\n",
            "\u001b[36m(_dystack pid=8534)\u001b[0m Data preprocessing and feature engineering runtime = 3.39s ...\n",
            "\u001b[36m(_dystack pid=8534)\u001b[0m AutoGluon will gauge predictive performance using evaluation metric: 'accuracy'\n",
            "\u001b[36m(_dystack pid=8534)\u001b[0m \tTo change this, specify the eval_metric parameter of Predictor()\n",
            "\u001b[36m(_dystack pid=8534)\u001b[0m Large model count detected (112 configs) ... Only displaying the first 3 models of each family. To see all, set `verbosity=3`.\n",
            "\u001b[36m(_dystack pid=8534)\u001b[0m User-specified model hyperparameters to be fit:\n",
            "\u001b[36m(_dystack pid=8534)\u001b[0m {\n",
            "\u001b[36m(_dystack pid=8534)\u001b[0m \t'NN_TORCH': [{}, {'activation': 'elu', 'dropout_prob': 0.10077639529843717, 'hidden_size': 108, 'learning_rate': 0.002735937344002146, 'num_layers': 4, 'use_batchnorm': True, 'weight_decay': 1.356433327634438e-12, 'ag_args': {'name_suffix': '_r79', 'priority': -2}}, {'activation': 'elu', 'dropout_prob': 0.11897478034205347, 'hidden_size': 213, 'learning_rate': 0.0010474382260641949, 'num_layers': 4, 'use_batchnorm': False, 'weight_decay': 5.594471067786272e-10, 'ag_args': {'name_suffix': '_r22', 'priority': -7}}],\n",
            "\u001b[36m(_dystack pid=8534)\u001b[0m \t'GBM': [{'extra_trees': True, 'ag_args': {'name_suffix': 'XT'}}, {}, 'GBMLarge'],\n",
            "\u001b[36m(_dystack pid=8534)\u001b[0m \t'CAT': [{}, {'depth': 6, 'grow_policy': 'SymmetricTree', 'l2_leaf_reg': 2.1542798306067823, 'learning_rate': 0.06864209415792857, 'max_ctr_complexity': 4, 'one_hot_max_size': 10, 'ag_args': {'name_suffix': '_r177', 'priority': -1}}, {'depth': 8, 'grow_policy': 'Depthwise', 'l2_leaf_reg': 2.7997999596449104, 'learning_rate': 0.031375015734637225, 'max_ctr_complexity': 2, 'one_hot_max_size': 3, 'ag_args': {'name_suffix': '_r9', 'priority': -5}}],\n",
            "\u001b[36m(_dystack pid=8534)\u001b[0m \t'XGB': [{}, {'colsample_bytree': 0.6917311125174739, 'enable_categorical': False, 'learning_rate': 0.018063876087523967, 'max_depth': 10, 'min_child_weight': 0.6028633586934382, 'ag_args': {'name_suffix': '_r33', 'priority': -8}}, {'colsample_bytree': 0.6628423832084077, 'enable_categorical': False, 'learning_rate': 0.08775715546881824, 'max_depth': 5, 'min_child_weight': 0.6294123374222513, 'ag_args': {'name_suffix': '_r89', 'priority': -16}}],\n",
            "\u001b[36m(_dystack pid=8534)\u001b[0m \t'FASTAI': [{}, {'bs': 256, 'emb_drop': 0.5411770367537934, 'epochs': 43, 'layers': [800, 400], 'lr': 0.01519848858318159, 'ps': 0.23782946566604385, 'ag_args': {'name_suffix': '_r191', 'priority': -4}}, {'bs': 2048, 'emb_drop': 0.05070411322605811, 'epochs': 29, 'layers': [200, 100], 'lr': 0.08974235041576624, 'ps': 0.10393466140748028, 'ag_args': {'name_suffix': '_r102', 'priority': -11}}],\n",
            "\u001b[36m(_dystack pid=8534)\u001b[0m \t'RF': [{'criterion': 'gini', 'ag_args': {'name_suffix': 'Gini', 'problem_types': ['binary', 'multiclass']}}, {'criterion': 'entropy', 'ag_args': {'name_suffix': 'Entr', 'problem_types': ['binary', 'multiclass']}}, {'criterion': 'squared_error', 'ag_args': {'name_suffix': 'MSE', 'problem_types': ['regression', 'quantile']}}],\n",
            "\u001b[36m(_dystack pid=8534)\u001b[0m \t'XT': [{'criterion': 'gini', 'ag_args': {'name_suffix': 'Gini', 'problem_types': ['binary', 'multiclass']}}, {'criterion': 'entropy', 'ag_args': {'name_suffix': 'Entr', 'problem_types': ['binary', 'multiclass']}}, {'criterion': 'squared_error', 'ag_args': {'name_suffix': 'MSE', 'problem_types': ['regression', 'quantile']}}],\n",
            "\u001b[36m(_dystack pid=8534)\u001b[0m \t'KNN': [{'weights': 'uniform', 'ag_args': {'name_suffix': 'Unif'}}, {'weights': 'distance', 'ag_args': {'name_suffix': 'Dist'}}],\n",
            "\u001b[36m(_dystack pid=8534)\u001b[0m }\n",
            "\u001b[36m(_dystack pid=8534)\u001b[0m AutoGluon will fit 2 stack levels (L1 to L2) ...\n",
            "\u001b[36m(_dystack pid=8534)\u001b[0m Fitting 110 L1 models ...\n",
            "\u001b[36m(_dystack pid=8534)\u001b[0m Fitting model: KNeighborsUnif_BAG_L1 ... Training model for up to 597.59s of the 896.59s of remaining time.\n",
            "\u001b[36m(_dystack pid=8534)\u001b[0m \t0.9688\t = Validation score   (accuracy)\n",
            "\u001b[36m(_dystack pid=8534)\u001b[0m \t1.3s\t = Training   runtime\n",
            "\u001b[36m(_dystack pid=8534)\u001b[0m \t19.55s\t = Validation runtime\n",
            "\u001b[36m(_dystack pid=8534)\u001b[0m Fitting model: KNeighborsDist_BAG_L1 ... Training model for up to 575.08s of the 874.09s of remaining time.\n",
            "\u001b[36m(_dystack pid=8534)\u001b[0m \t0.9688\t = Validation score   (accuracy)\n",
            "\u001b[36m(_dystack pid=8534)\u001b[0m \t1.28s\t = Training   runtime\n",
            "\u001b[36m(_dystack pid=8534)\u001b[0m \t19.79s\t = Validation runtime\n",
            "\u001b[36m(_dystack pid=8534)\u001b[0m Fitting model: LightGBMXT_BAG_L1 ... Training model for up to 551.96s of the 850.96s of remaining time.\n",
            "\u001b[36m(_dystack pid=8534)\u001b[0m \tFitting 8 child models (S1F1 - S1F8) | Fitting with ParallelLocalFoldFittingStrategy (1.0 workers, per: cpus=1, gpus=1, memory=1.90%)\n",
            "\u001b[36m(_ray_fit pid=8943)\u001b[0m Warning: GPU mode might not be installed for LightGBM, GPU training raised an exception. Falling back to CPU training...Refer to LightGBM GPU documentation: https://github.com/Microsoft/LightGBM/tree/master/python-package#build-gpu-versionOne possible method is:\tpip uninstall lightgbm -y\tpip install lightgbm --install-option=--gpu\n",
            "\u001b[36m(_ray_fit pid=9224)\u001b[0m Warning: GPU mode might not be installed for LightGBM, GPU training raised an exception. Falling back to CPU training...Refer to LightGBM GPU documentation: https://github.com/Microsoft/LightGBM/tree/master/python-package#build-gpu-versionOne possible method is:\tpip uninstall lightgbm -y\tpip install lightgbm --install-option=--gpu\n",
            "\u001b[36m(_ray_fit pid=9488)\u001b[0m Warning: GPU mode might not be installed for LightGBM, GPU training raised an exception. Falling back to CPU training...Refer to LightGBM GPU documentation: https://github.com/Microsoft/LightGBM/tree/master/python-package#build-gpu-versionOne possible method is:\tpip uninstall lightgbm -y\tpip install lightgbm --install-option=--gpu\n",
            "\u001b[36m(_ray_fit pid=9694)\u001b[0m Warning: GPU mode might not be installed for LightGBM, GPU training raised an exception. Falling back to CPU training...Refer to LightGBM GPU documentation: https://github.com/Microsoft/LightGBM/tree/master/python-package#build-gpu-versionOne possible method is:\tpip uninstall lightgbm -y\tpip install lightgbm --install-option=--gpu\n",
            "\u001b[36m(_dystack pid=7076)\u001b[0m \t0.9758\t = Validation score   (accuracy)\n",
            "\u001b[36m(_dystack pid=7076)\u001b[0m \t427.46s\t = Training   runtime\n",
            "\u001b[36m(_dystack pid=7076)\u001b[0m \t0.63s\t = Validation runtime\n",
            "\u001b[36m(_dystack pid=7076)\u001b[0m Fitting model: LightGBM_BAG_L1 ... Training model for up to 117.06s of the 414.81s of remaining time.\n",
            "\u001b[36m(_dystack pid=7076)\u001b[0m \tFitting 8 child models (S1F1 - S1F8) | Fitting with ParallelLocalFoldFittingStrategy (1.0 workers, per: cpus=1, gpus=1, memory=1.88%)\n",
            "\u001b[36m(_ray_fit pid=9904)\u001b[0m Warning: GPU mode might not be installed for LightGBM, GPU training raised an exception. Falling back to CPU training...Refer to LightGBM GPU documentation: https://github.com/Microsoft/LightGBM/tree/master/python-package#build-gpu-versionOne possible method is:\tpip uninstall lightgbm -y\tpip install lightgbm --install-option=--gpu\n",
            "\u001b[36m(_ray_fit pid=10000)\u001b[0m Warning: GPU mode might not be installed for LightGBM, GPU training raised an exception. Falling back to CPU training...Refer to LightGBM GPU documentation: https://github.com/Microsoft/LightGBM/tree/master/python-package#build-gpu-versionOne possible method is:\tpip uninstall lightgbm -y\tpip install lightgbm --install-option=--gpu\n",
            "\u001b[36m(_ray_fit pid=10096)\u001b[0m Warning: GPU mode might not be installed for LightGBM, GPU training raised an exception. Falling back to CPU training...Refer to LightGBM GPU documentation: https://github.com/Microsoft/LightGBM/tree/master/python-package#build-gpu-versionOne possible method is:\tpip uninstall lightgbm -y\tpip install lightgbm --install-option=--gpu\n",
            "\u001b[36m(_ray_fit pid=10194)\u001b[0m Warning: GPU mode might not be installed for LightGBM, GPU training raised an exception. Falling back to CPU training...Refer to LightGBM GPU documentation: https://github.com/Microsoft/LightGBM/tree/master/python-package#build-gpu-versionOne possible method is:\tpip uninstall lightgbm -y\tpip install lightgbm --install-option=--gpu\n",
            "\u001b[36m(_ray_fit pid=10290)\u001b[0m Warning: GPU mode might not be installed for LightGBM, GPU training raised an exception. Falling back to CPU training...Refer to LightGBM GPU documentation: https://github.com/Microsoft/LightGBM/tree/master/python-package#build-gpu-versionOne possible method is:\tpip uninstall lightgbm -y\tpip install lightgbm --install-option=--gpu\n",
            "\u001b[36m(_ray_fit pid=10388)\u001b[0m Warning: GPU mode might not be installed for LightGBM, GPU training raised an exception. Falling back to CPU training...Refer to LightGBM GPU documentation: https://github.com/Microsoft/LightGBM/tree/master/python-package#build-gpu-versionOne possible method is:\tpip uninstall lightgbm -y\tpip install lightgbm --install-option=--gpu\n",
            "\u001b[36m(_ray_fit pid=10484)\u001b[0m Warning: GPU mode might not be installed for LightGBM, GPU training raised an exception. Falling back to CPU training...Refer to LightGBM GPU documentation: https://github.com/Microsoft/LightGBM/tree/master/python-package#build-gpu-versionOne possible method is:\tpip uninstall lightgbm -y\tpip install lightgbm --install-option=--gpu\n",
            "\u001b[36m(_ray_fit pid=10582)\u001b[0m Warning: GPU mode might not be installed for LightGBM, GPU training raised an exception. Falling back to CPU training...Refer to LightGBM GPU documentation: https://github.com/Microsoft/LightGBM/tree/master/python-package#build-gpu-versionOne possible method is:\tpip uninstall lightgbm -y\tpip install lightgbm --install-option=--gpu\n",
            "\u001b[36m(_dystack pid=7076)\u001b[0m \t0.9653\t = Validation score   (accuracy)\n",
            "\u001b[36m(_dystack pid=7076)\u001b[0m \t118.53s\t = Training   runtime\n",
            "\u001b[36m(_dystack pid=7076)\u001b[0m \t0.18s\t = Validation runtime\n",
            "\u001b[36m(_dystack pid=7076)\u001b[0m Fitting model: WeightedEnsemble_L2 ... Training model for up to 360.0s of the 291.71s of remaining time.\n",
            "\u001b[36m(_dystack pid=7076)\u001b[0m \tEnsemble Weights: {'LightGBMXT_BAG_L1': 1.0}\n",
            "\u001b[36m(_dystack pid=7076)\u001b[0m \t0.9758\t = Validation score   (accuracy)\n",
            "\u001b[36m(_dystack pid=7076)\u001b[0m \t0.32s\t = Training   runtime\n",
            "\u001b[36m(_dystack pid=7076)\u001b[0m \t0.0s\t = Validation runtime\n",
            "\u001b[36m(_dystack pid=7076)\u001b[0m Fitting 108 L2 models ...\n",
            "\u001b[36m(_dystack pid=7076)\u001b[0m Fitting model: LightGBMXT_BAG_L2 ... Training model for up to 291.34s of the 291.25s of remaining time.\n",
            "\u001b[36m(_dystack pid=7076)\u001b[0m \tFitting 8 child models (S1F1 - S1F8) | Fitting with ParallelLocalFoldFittingStrategy (1.0 workers, per: cpus=1, gpus=1, memory=1.90%)\n",
            "\u001b[36m(_ray_fit pid=10698)\u001b[0m Warning: GPU mode might not be installed for LightGBM, GPU training raised an exception. Falling back to CPU training...Refer to LightGBM GPU documentation: https://github.com/Microsoft/LightGBM/tree/master/python-package#build-gpu-versionOne possible method is:\tpip uninstall lightgbm -y\tpip install lightgbm --install-option=--gpu\n",
            "\u001b[36m(_ray_fit pid=10896)\u001b[0m Warning: GPU mode might not be installed for LightGBM, GPU training raised an exception. Falling back to CPU training...Refer to LightGBM GPU documentation: https://github.com/Microsoft/LightGBM/tree/master/python-package#build-gpu-versionOne possible method is:\tpip uninstall lightgbm -y\tpip install lightgbm --install-option=--gpu\n",
            "\u001b[36m(_ray_fit pid=11080)\u001b[0m Warning: GPU mode might not be installed for LightGBM, GPU training raised an exception. Falling back to CPU training...Refer to LightGBM GPU documentation: https://github.com/Microsoft/LightGBM/tree/master/python-package#build-gpu-versionOne possible method is:\tpip uninstall lightgbm -y\tpip install lightgbm --install-option=--gpu\n",
            "\u001b[36m(_ray_fit pid=11316)\u001b[0m Warning: GPU mode might not be installed for LightGBM, GPU training raised an exception. Falling back to CPU training...Refer to LightGBM GPU documentation: https://github.com/Microsoft/LightGBM/tree/master/python-package#build-gpu-versionOne possible method is:\tpip uninstall lightgbm -y\tpip install lightgbm --install-option=--gpu\n",
            "\u001b[36m(_ray_fit pid=11566)\u001b[0m Warning: GPU mode might not be installed for LightGBM, GPU training raised an exception. Falling back to CPU training...Refer to LightGBM GPU documentation: https://github.com/Microsoft/LightGBM/tree/master/python-package#build-gpu-versionOne possible method is:\tpip uninstall lightgbm -y\tpip install lightgbm --install-option=--gpu\n",
            "\u001b[36m(_ray_fit pid=11838)\u001b[0m Warning: GPU mode might not be installed for LightGBM, GPU training raised an exception. Falling back to CPU training...Refer to LightGBM GPU documentation: https://github.com/Microsoft/LightGBM/tree/master/python-package#build-gpu-versionOne possible method is:\tpip uninstall lightgbm -y\tpip install lightgbm --install-option=--gpu\n",
            "\u001b[36m(_ray_fit pid=12114)\u001b[0m Warning: GPU mode might not be installed for LightGBM, GPU training raised an exception. Falling back to CPU training...Refer to LightGBM GPU documentation: https://github.com/Microsoft/LightGBM/tree/master/python-package#build-gpu-versionOne possible method is:\tpip uninstall lightgbm -y\tpip install lightgbm --install-option=--gpu\n",
            "\u001b[36m(_ray_fit pid=12326)\u001b[0m Warning: GPU mode might not be installed for LightGBM, GPU training raised an exception. Falling back to CPU training...Refer to LightGBM GPU documentation: https://github.com/Microsoft/LightGBM/tree/master/python-package#build-gpu-versionOne possible method is:\tpip uninstall lightgbm -y\tpip install lightgbm --install-option=--gpu\n",
            "\u001b[36m(_dystack pid=8534)\u001b[0m \t0.9758\t = Validation score   (accuracy)\n",
            "\u001b[36m(_dystack pid=8534)\u001b[0m \t376.5s\t = Training   runtime\n",
            "\u001b[36m(_dystack pid=8534)\u001b[0m \t0.63s\t = Validation runtime\n",
            "\u001b[36m(_dystack pid=8534)\u001b[0m Fitting model: WeightedEnsemble_L2 ... Training model for up to 360.0s of the 147.04s of remaining time.\n",
            "\u001b[36m(_dystack pid=8534)\u001b[0m \tEnsemble Weights: {'LightGBMXT_BAG_L1': 1.0}\n",
            "\u001b[36m(_dystack pid=8534)\u001b[0m \t0.9758\t = Validation score   (accuracy)\n",
            "\u001b[36m(_dystack pid=8534)\u001b[0m \t0.24s\t = Training   runtime\n",
            "\u001b[36m(_dystack pid=8534)\u001b[0m \t0.0s\t = Validation runtime\n",
            "\u001b[36m(_dystack pid=8534)\u001b[0m Fitting 108 L2 models ...\n",
            "\u001b[36m(_dystack pid=8534)\u001b[0m Fitting model: LightGBMXT_BAG_L2 ... Training model for up to 146.76s of the 146.67s of remaining time.\n",
            "\u001b[36m(_dystack pid=8534)\u001b[0m \tFitting 8 child models (S1F1 - S1F8) | Fitting with ParallelLocalFoldFittingStrategy (1.0 workers, per: cpus=1, gpus=1, memory=1.90%)\n",
            "\u001b[36m(_ray_fit pid=12538)\u001b[0m Warning: GPU mode might not be installed for LightGBM, GPU training raised an exception. Falling back to CPU training...Refer to LightGBM GPU documentation: https://github.com/Microsoft/LightGBM/tree/master/python-package#build-gpu-versionOne possible method is:\tpip uninstall lightgbm -y\tpip install lightgbm --install-option=--gpu\n",
            "\u001b[36m(_ray_fit pid=12649)\u001b[0m Warning: GPU mode might not be installed for LightGBM, GPU training raised an exception. Falling back to CPU training...Refer to LightGBM GPU documentation: https://github.com/Microsoft/LightGBM/tree/master/python-package#build-gpu-versionOne possible method is:\tpip uninstall lightgbm -y\tpip install lightgbm --install-option=--gpu\n",
            "\u001b[36m(_ray_fit pid=12757)\u001b[0m Warning: GPU mode might not be installed for LightGBM, GPU training raised an exception. Falling back to CPU training...Refer to LightGBM GPU documentation: https://github.com/Microsoft/LightGBM/tree/master/python-package#build-gpu-versionOne possible method is:\tpip uninstall lightgbm -y\tpip install lightgbm --install-option=--gpu\n",
            "\u001b[36m(_ray_fit pid=12867)\u001b[0m Warning: GPU mode might not be installed for LightGBM, GPU training raised an exception. Falling back to CPU training...Refer to LightGBM GPU documentation: https://github.com/Microsoft/LightGBM/tree/master/python-package#build-gpu-versionOne possible method is:\tpip uninstall lightgbm -y\tpip install lightgbm --install-option=--gpu\n",
            "\u001b[36m(_ray_fit pid=12977)\u001b[0m Warning: GPU mode might not be installed for LightGBM, GPU training raised an exception. Falling back to CPU training...Refer to LightGBM GPU documentation: https://github.com/Microsoft/LightGBM/tree/master/python-package#build-gpu-versionOne possible method is:\tpip uninstall lightgbm -y\tpip install lightgbm --install-option=--gpu\n",
            "\u001b[36m(_ray_fit pid=13085)\u001b[0m Warning: GPU mode might not be installed for LightGBM, GPU training raised an exception. Falling back to CPU training...Refer to LightGBM GPU documentation: https://github.com/Microsoft/LightGBM/tree/master/python-package#build-gpu-versionOne possible method is:\tpip uninstall lightgbm -y\tpip install lightgbm --install-option=--gpu\n",
            "\u001b[36m(_ray_fit pid=13195)\u001b[0m Warning: GPU mode might not be installed for LightGBM, GPU training raised an exception. Falling back to CPU training...Refer to LightGBM GPU documentation: https://github.com/Microsoft/LightGBM/tree/master/python-package#build-gpu-versionOne possible method is:\tpip uninstall lightgbm -y\tpip install lightgbm --install-option=--gpu\n",
            "\u001b[36m(_ray_fit pid=13303)\u001b[0m Warning: GPU mode might not be installed for LightGBM, GPU training raised an exception. Falling back to CPU training...Refer to LightGBM GPU documentation: https://github.com/Microsoft/LightGBM/tree/master/python-package#build-gpu-versionOne possible method is:\tpip uninstall lightgbm -y\tpip install lightgbm --install-option=--gpu\n",
            "\u001b[36m(_dystack pid=8534)\u001b[0m \t0.9737\t = Validation score   (accuracy)\n",
            "\u001b[36m(_dystack pid=8534)\u001b[0m \t142.39s\t = Training   runtime\n",
            "\u001b[36m(_dystack pid=8534)\u001b[0m \t0.25s\t = Validation runtime\n",
            "\u001b[36m(_dystack pid=8534)\u001b[0m Fitting model: WeightedEnsemble_L3 ... Training model for up to 360.0s of the -2.05s of remaining time.\n",
            "\u001b[36m(_dystack pid=8534)\u001b[0m \tEnsemble Weights: {'LightGBMXT_BAG_L1': 1.0}\n",
            "\u001b[36m(_dystack pid=8534)\u001b[0m \t0.9758\t = Validation score   (accuracy)\n",
            "\u001b[36m(_dystack pid=8534)\u001b[0m \t0.32s\t = Training   runtime\n",
            "\u001b[36m(_dystack pid=8534)\u001b[0m \t0.0s\t = Validation runtime\n",
            "\u001b[36m(_dystack pid=8534)\u001b[0m AutoGluon training complete, total runtime = 902.82s ... Best model: WeightedEnsemble_L2 | Estimated inference throughput: 7936.1 rows/s (4977 batch size)\n",
            "\u001b[36m(_dystack pid=8534)\u001b[0m TabularPredictor saved. To load, use: predictor = TabularPredictor.load(\"/content/drive/MyDrive/multitude_split/autogluon_models/ds_sub_fit/sub_fit_ho\")\n",
            "\u001b[36m(_dystack pid=8534)\u001b[0m Deleting DyStack predictor artifacts (clean_up_fits=True) ...\n",
            "Leaderboard on holdout data (DyStack):\n",
            "                   model  score_holdout  score_val eval_metric  pred_time_test  pred_time_val    fit_time  pred_time_test_marginal  pred_time_val_marginal  fit_time_marginal  stack_level  can_infer  fit_order\n",
            "0      LightGBMXT_BAG_L1       0.977095   0.975835    accuracy        0.260743       0.626698  376.495198                 0.260743                0.626698         376.495198            1       True          3\n",
            "1    WeightedEnsemble_L2       0.977095   0.975835    accuracy        0.264034       0.630159  376.734272                 0.003291                0.003461           0.239074            2       True          4\n",
            "2    WeightedEnsemble_L3       0.977095   0.975835    accuracy        0.264238       0.630338  376.820151                 0.003496                0.003640           0.324953            3       True          6\n",
            "3      LightGBMXT_BAG_L2       0.973076   0.973725    accuracy        5.868500      40.214581  521.459688                 0.203285                0.254473         142.391813            2       True          5\n",
            "4  KNeighborsDist_BAG_L1       0.968254   0.968826    accuracy        2.666231      19.786007    1.275856                 2.666231               19.786007           1.275856            1       True          2\n",
            "5  KNeighborsUnif_BAG_L1       0.968254   0.968826    accuracy        2.738241      19.547404    1.296821                 2.738241               19.547404           1.296821            1       True          1\n",
            "\t1\t = Optimal   num_stack_levels (Stacked Overfitting Occurred: False)\n",
            "\t939s\t = DyStack   runtime |\t2661s\t = Remaining runtime\n",
            "Starting main fit with num_stack_levels=1.\n",
            "\tFor future fit calls on this dataset, you can skip DyStack to save time: `predictor.fit(..., dynamic_stacking=False, num_stack_levels=1)`\n",
            "Beginning AutoGluon training ... Time limit = 2661s\n",
            "AutoGluon will save models to \"/content/drive/MyDrive/multitude_split/autogluon_models\"\n",
            "Train Data Rows:    44786\n",
            "Train Data Columns: 768\n",
            "Label Column:       label\n",
            "Problem Type:       binary\n",
            "Preprocessing data ...\n",
            "Selected class <--> label mapping:  class 1 = 1, class 0 = 0\n",
            "Using Feature Generators to preprocess the data ...\n",
            "Fitting AutoMLPipelineFeatureGenerator...\n",
            "\tAvailable Memory:                    47784.87 MB\n",
            "\tTrain Data (Original)  Memory Usage: 131.21 MB (0.3% of available memory)\n",
            "\tInferring data type of each feature based on column values. Set feature_metadata_in to manually specify special dtypes of the features.\n",
            "\tStage 1 Generators:\n",
            "\t\tFitting AsTypeFeatureGenerator...\n",
            "\tStage 2 Generators:\n",
            "\t\tFitting FillNaFeatureGenerator...\n",
            "\tStage 3 Generators:\n",
            "\t\tFitting IdentityFeatureGenerator...\n",
            "\tStage 4 Generators:\n",
            "\t\tFitting DropUniqueFeatureGenerator...\n",
            "\tStage 5 Generators:\n",
            "\t\tFitting DropDuplicatesFeatureGenerator...\n",
            "\tTypes of features in original data (raw dtype, special dtypes):\n",
            "\t\t('float', []) : 768 | ['0', '1', '2', '3', '4', ...]\n",
            "\tTypes of features in processed data (raw dtype, special dtypes):\n",
            "\t\t('float', []) : 768 | ['0', '1', '2', '3', '4', ...]\n",
            "\t3.6s = Fit runtime\n",
            "\t768 features in original data used to generate 768 features in processed data.\n",
            "\tTrain Data (Processed) Memory Usage: 131.21 MB (0.3% of available memory)\n",
            "Data preprocessing and feature engineering runtime = 3.92s ...\n",
            "AutoGluon will gauge predictive performance using evaluation metric: 'accuracy'\n",
            "\tTo change this, specify the eval_metric parameter of Predictor()\n",
            "Large model count detected (112 configs) ... Only displaying the first 3 models of each family. To see all, set `verbosity=3`.\n",
            "User-specified model hyperparameters to be fit:\n",
            "{\n",
            "\t'NN_TORCH': [{}, {'activation': 'elu', 'dropout_prob': 0.10077639529843717, 'hidden_size': 108, 'learning_rate': 0.002735937344002146, 'num_layers': 4, 'use_batchnorm': True, 'weight_decay': 1.356433327634438e-12, 'ag_args': {'name_suffix': '_r79', 'priority': -2}}, {'activation': 'elu', 'dropout_prob': 0.11897478034205347, 'hidden_size': 213, 'learning_rate': 0.0010474382260641949, 'num_layers': 4, 'use_batchnorm': False, 'weight_decay': 5.594471067786272e-10, 'ag_args': {'name_suffix': '_r22', 'priority': -7}}],\n",
            "\t'GBM': [{'extra_trees': True, 'ag_args': {'name_suffix': 'XT'}}, {}, 'GBMLarge'],\n",
            "\t'CAT': [{}, {'depth': 6, 'grow_policy': 'SymmetricTree', 'l2_leaf_reg': 2.1542798306067823, 'learning_rate': 0.06864209415792857, 'max_ctr_complexity': 4, 'one_hot_max_size': 10, 'ag_args': {'name_suffix': '_r177', 'priority': -1}}, {'depth': 8, 'grow_policy': 'Depthwise', 'l2_leaf_reg': 2.7997999596449104, 'learning_rate': 0.031375015734637225, 'max_ctr_complexity': 2, 'one_hot_max_size': 3, 'ag_args': {'name_suffix': '_r9', 'priority': -5}}],\n",
            "\t'XGB': [{}, {'colsample_bytree': 0.6917311125174739, 'enable_categorical': False, 'learning_rate': 0.018063876087523967, 'max_depth': 10, 'min_child_weight': 0.6028633586934382, 'ag_args': {'name_suffix': '_r33', 'priority': -8}}, {'colsample_bytree': 0.6628423832084077, 'enable_categorical': False, 'learning_rate': 0.08775715546881824, 'max_depth': 5, 'min_child_weight': 0.6294123374222513, 'ag_args': {'name_suffix': '_r89', 'priority': -16}}],\n",
            "\t'FASTAI': [{}, {'bs': 256, 'emb_drop': 0.5411770367537934, 'epochs': 43, 'layers': [800, 400], 'lr': 0.01519848858318159, 'ps': 0.23782946566604385, 'ag_args': {'name_suffix': '_r191', 'priority': -4}}, {'bs': 2048, 'emb_drop': 0.05070411322605811, 'epochs': 29, 'layers': [200, 100], 'lr': 0.08974235041576624, 'ps': 0.10393466140748028, 'ag_args': {'name_suffix': '_r102', 'priority': -11}}],\n",
            "\t'RF': [{'criterion': 'gini', 'ag_args': {'name_suffix': 'Gini', 'problem_types': ['binary', 'multiclass']}}, {'criterion': 'entropy', 'ag_args': {'name_suffix': 'Entr', 'problem_types': ['binary', 'multiclass']}}, {'criterion': 'squared_error', 'ag_args': {'name_suffix': 'MSE', 'problem_types': ['regression', 'quantile']}}],\n",
            "\t'XT': [{'criterion': 'gini', 'ag_args': {'name_suffix': 'Gini', 'problem_types': ['binary', 'multiclass']}}, {'criterion': 'entropy', 'ag_args': {'name_suffix': 'Entr', 'problem_types': ['binary', 'multiclass']}}, {'criterion': 'squared_error', 'ag_args': {'name_suffix': 'MSE', 'problem_types': ['regression', 'quantile']}}],\n",
            "\t'KNN': [{'weights': 'uniform', 'ag_args': {'name_suffix': 'Unif'}}, {'weights': 'distance', 'ag_args': {'name_suffix': 'Dist'}}],\n",
            "}\n",
            "AutoGluon will fit 2 stack levels (L1 to L2) ...\n",
            "Fitting 110 L1 models ...\n",
            "Fitting model: KNeighborsUnif_BAG_L1 ... Training model for up to 1770.65s of the 2656.61s of remaining time.\n",
            "\t0.9694\t = Validation score   (accuracy)\n",
            "\t1.52s\t = Training   runtime\n",
            "\t37.67s\t = Validation runtime\n",
            "Fitting model: KNeighborsDist_BAG_L1 ... Training model for up to 1729.29s of the 2615.25s of remaining time.\n",
            "\t0.9694\t = Validation score   (accuracy)\n",
            "\t1.53s\t = Training   runtime\n",
            "\t37.07s\t = Validation runtime\n",
            "Fitting model: LightGBMXT_BAG_L1 ... Training model for up to 1688.63s of the 2574.59s of remaining time.\n",
            "\tFitting 8 child models (S1F1 - S1F8) | Fitting with ParallelLocalFoldFittingStrategy (1.0 workers, per: cpus=1, gpus=1, memory=2.10%)\n",
            "\t0.9756\t = Validation score   (accuracy)\n",
            "\t457.33s\t = Training   runtime\n",
            "\t0.82s\t = Validation runtime\n",
            "Fitting model: LightGBM_BAG_L1 ... Training model for up to 1217.71s of the 2103.67s of remaining time.\n",
            "\tFitting 8 child models (S1F1 - S1F8) | Fitting with ParallelLocalFoldFittingStrategy (1.0 workers, per: cpus=1, gpus=1, memory=2.08%)\n",
            "\t0.9758\t = Validation score   (accuracy)\n",
            "\t611.01s\t = Training   runtime\n",
            "\t0.76s\t = Validation runtime\n",
            "Fitting model: RandomForestGini_BAG_L1 ... Training model for up to 572.72s of the 1458.69s of remaining time.\n",
            "\t0.9724\t = Validation score   (accuracy)\n",
            "\t95.17s\t = Training   runtime\n",
            "\t15.2s\t = Validation runtime\n",
            "Fitting model: RandomForestEntr_BAG_L1 ... Training model for up to 460.97s of the 1346.93s of remaining time.\n",
            "\t0.9728\t = Validation score   (accuracy)\n",
            "\t64.68s\t = Training   runtime\n",
            "\t15.12s\t = Validation runtime\n",
            "Fitting model: CatBoost_BAG_L1 ... Training model for up to 379.83s of the 1265.79s of remaining time.\n",
            "\tFitting 8 child models (S1F1 - S1F8) | Fitting with ParallelLocalFoldFittingStrategy (1.0 workers, per: cpus=1, gpus=1, memory=2.42%)\n",
            "\t0.9731\t = Validation score   (accuracy)\n",
            "\t103.43s\t = Training   runtime\n",
            "\t0.14s\t = Validation runtime\n",
            "Fitting model: ExtraTreesGini_BAG_L1 ... Training model for up to 263.93s of the 1149.9s of remaining time.\n",
            "\t0.9712\t = Validation score   (accuracy)\n",
            "\t7.96s\t = Training   runtime\n",
            "\t15.25s\t = Validation runtime\n",
            "Fitting model: ExtraTreesEntr_BAG_L1 ... Training model for up to 239.25s of the 1125.21s of remaining time.\n",
            "\t0.9714\t = Validation score   (accuracy)\n",
            "\t7.1s\t = Training   runtime\n",
            "\t15.43s\t = Validation runtime\n",
            "Fitting model: NeuralNetFastAI_BAG_L1 ... Training model for up to 215.25s of the 1101.22s of remaining time.\n",
            "\tFitting 8 child models (S1F1 - S1F8) | Fitting with ParallelLocalFoldFittingStrategy (1.0 workers, per: cpus=1, gpus=1, memory=2.98%)\n",
            "\t0.9775\t = Validation score   (accuracy)\n",
            "\t188.2s\t = Training   runtime\n",
            "\t0.93s\t = Validation runtime\n",
            "Fitting model: XGBoost_BAG_L1 ... Training model for up to 23.22s of the 909.19s of remaining time.\n",
            "\tFitting 8 child models (S1F1 - S1F8) | Fitting with ParallelLocalFoldFittingStrategy (1.0 workers, per: cpus=1, gpus=1, memory=2.90%)\n",
            "\t0.8938\t = Validation score   (accuracy)\n",
            "\t85.24s\t = Training   runtime\n",
            "\t1.96s\t = Validation runtime\n",
            "Fitting model: WeightedEnsemble_L2 ... Training model for up to 360.0s of the 818.96s of remaining time.\n",
            "\tEnsemble Weights: {'NeuralNetFastAI_BAG_L1': 0.667, 'LightGBMXT_BAG_L1': 0.125, 'ExtraTreesGini_BAG_L1': 0.125, 'CatBoost_BAG_L1': 0.042, 'ExtraTreesEntr_BAG_L1': 0.042}\n",
            "\t0.9778\t = Validation score   (accuracy)\n",
            "\t0.98s\t = Training   runtime\n",
            "\t0.0s\t = Validation runtime\n",
            "Fitting 108 L2 models ...\n",
            "Fitting model: LightGBMXT_BAG_L2 ... Training model for up to 817.93s of the 817.8s of remaining time.\n",
            "\tFitting 8 child models (S1F1 - S1F8) | Fitting with ParallelLocalFoldFittingStrategy (1.0 workers, per: cpus=1, gpus=1, memory=2.08%)\n",
            "\t0.9769\t = Validation score   (accuracy)\n",
            "\t330.05s\t = Training   runtime\n",
            "\t0.52s\t = Validation runtime\n",
            "Fitting model: LightGBM_BAG_L2 ... Training model for up to 484.18s of the 484.05s of remaining time.\n",
            "\tFitting 8 child models (S1F1 - S1F8) | Fitting with ParallelLocalFoldFittingStrategy (1.0 workers, per: cpus=1, gpus=1, memory=2.08%)\n",
            "\t0.9777\t = Validation score   (accuracy)\n",
            "\t324.97s\t = Training   runtime\n",
            "\t0.3s\t = Validation runtime\n",
            "Fitting model: RandomForestGini_BAG_L2 ... Training model for up to 155.54s of the 155.41s of remaining time.\n",
            "\t0.9761\t = Validation score   (accuracy)\n",
            "\t88.19s\t = Training   runtime\n",
            "\t15.24s\t = Validation runtime\n",
            "Fitting model: RandomForestEntr_BAG_L2 ... Training model for up to 50.71s of the 50.58s of remaining time.\n",
            "\t0.9754\t = Validation score   (accuracy)\n",
            "\t60.57s\t = Training   runtime\n",
            "\t15.2s\t = Validation runtime\n",
            "Fitting model: WeightedEnsemble_L3 ... Training model for up to 360.0s of the -29.69s of remaining time.\n",
            "\tEnsemble Weights: {'LightGBM_BAG_L2': 1.0}\n",
            "\t0.9777\t = Validation score   (accuracy)\n",
            "\t1.31s\t = Training   runtime\n",
            "\t0.0s\t = Validation runtime\n",
            "AutoGluon training complete, total runtime = 2691.96s ... Best model: WeightedEnsemble_L2 | Estimated inference throughput: 979.3 rows/s (5599 batch size)\n",
            "TabularPredictor saved. To load, use: predictor = TabularPredictor.load(\"/content/drive/MyDrive/multitude_split/autogluon_models\")\n"
          ]
        },
        {
          "data": {
            "text/plain": [
              "<autogluon.tabular.predictor.predictor.TabularPredictor at 0x78551ba9f370>"
            ]
          },
          "execution_count": 21,
          "metadata": {},
          "output_type": "execute_result"
        }
      ],
      "source": [
        "predictor.fit(train_data=train_embeddings_df, presets='best_quality', ag_args_fit={'num_gpus': 1})"
      ]
    },
    {
      "cell_type": "code",
      "execution_count": null,
      "metadata": {
        "colab": {
          "base_uri": "https://localhost:8080/"
        },
        "id": "Pfw261sHgyuq",
        "outputId": "8f5dbdc3-2366-46d7-e5a6-e691a183a9c8"
      },
      "outputs": [
        {
          "name": "stdout",
          "output_type": "stream",
          "text": [
            "Model performance on test data: {'accuracy': 0.9560334528076464, 'balanced_accuracy': 0.8850253982939067, 'mcc': 0.7748993802759003, 'roc_auc': 0.9795803176693604, 'f1': 0.9753086419753086, 'precision': 0.9744493392070485, 'recall': 0.9761694616063548}\n"
          ]
        }
      ],
      "source": [
        "# Evaluate and print the leaderboard\n",
        "performance = predictor.evaluate(test_embeddings_df, auxiliary_metrics=True)\n",
        "print(\"Model performance on test data:\", performance)"
      ]
    },
    {
      "cell_type": "code",
      "execution_count": null,
      "metadata": {
        "colab": {
          "base_uri": "https://localhost:8080/",
          "height": 602
        },
        "id": "JregNfCMzNAA",
        "outputId": "7d8f9d54-9359-41eb-b413-b16cdfda1207"
      },
      "outputs": [
        {
          "data": {
            "application/vnd.google.colaboratory.intrinsic+json": {
              "summary": "{\n  \"name\": \"leaderboard\",\n  \"rows\": 17,\n  \"fields\": [\n    {\n      \"column\": \"model\",\n      \"properties\": {\n        \"dtype\": \"string\",\n        \"num_unique_values\": 17,\n        \"samples\": [\n          \"RandomForestGini_BAG_L2\",\n          \"RandomForestEntr_BAG_L2\",\n          \"LightGBMXT_BAG_L1\"\n        ],\n        \"semantic_type\": \"\",\n        \"description\": \"\"\n      }\n    },\n    {\n      \"column\": \"score_test\",\n      \"properties\": {\n        \"dtype\": \"number\",\n        \"std\": 0.01632599072425002,\n        \"min\": 0.8895374637310122,\n        \"max\": 0.9597542242703533,\n        \"num_unique_values\": 14,\n        \"samples\": [\n          0.955521420037549,\n          0.9539170506912442,\n          0.9597542242703533\n        ],\n        \"semantic_type\": \"\",\n        \"description\": \"\"\n      }\n    },\n    {\n      \"column\": \"accuracy\",\n      \"properties\": {\n        \"dtype\": \"number\",\n        \"std\": 0.01632599072425002,\n        \"min\": 0.8895374637310122,\n        \"max\": 0.9597542242703533,\n        \"num_unique_values\": 14,\n        \"samples\": [\n          0.955521420037549,\n          0.9539170506912442,\n          0.9597542242703533\n        ],\n        \"semantic_type\": \"\",\n        \"description\": \"\"\n      }\n    },\n    {\n      \"column\": \"roc_auc\",\n      \"properties\": {\n        \"dtype\": \"number\",\n        \"std\": 0.013014604572213206,\n        \"min\": 0.9386958013552114,\n        \"max\": 0.9804250478767612,\n        \"num_unique_values\": 16,\n        \"samples\": [\n          0.9744982100853103,\n          0.9777182848505181,\n          0.9793606191540913\n        ],\n        \"semantic_type\": \"\",\n        \"description\": \"\"\n      }\n    },\n    {\n      \"column\": \"f1_macro\",\n      \"properties\": {\n        \"dtype\": \"number\",\n        \"std\": 0.10078628008724873,\n        \"min\": 0.4707699533909022,\n        \"max\": 0.8965536666238232,\n        \"num_unique_values\": 15,\n        \"samples\": [\n          0.8789066098433893,\n          0.8860402127165192,\n          0.8956353681324309\n        ],\n        \"semantic_type\": \"\",\n        \"description\": \"\"\n      }\n    },\n    {\n      \"column\": \"f1_weighted\",\n      \"properties\": {\n        \"dtype\": \"number\",\n        \"std\": 0.028734537265709546,\n        \"min\": 0.8375350206802199,\n        \"max\": 0.9594622664633058,\n        \"num_unique_values\": 15,\n        \"samples\": [\n          0.9539638410609965,\n          0.9552968771212985,\n          0.9593660820787685\n        ],\n        \"semantic_type\": \"\",\n        \"description\": \"\"\n      }\n    },\n    {\n      \"column\": \"score_val\",\n      \"properties\": {\n        \"dtype\": \"number\",\n        \"std\": 0.019755838833074472,\n        \"min\": 0.8938061001205734,\n        \"max\": 0.9778055642388246,\n        \"num_unique_values\": 15,\n        \"samples\": [\n          0.971352654847497,\n          0.9776715938016345,\n          0.9761309337739472\n        ],\n        \"semantic_type\": \"\",\n        \"description\": \"\"\n      }\n    },\n    {\n      \"column\": \"eval_metric\",\n      \"properties\": {\n        \"dtype\": \"category\",\n        \"num_unique_values\": 1,\n        \"samples\": [\n          \"accuracy\"\n        ],\n        \"semantic_type\": \"\",\n        \"description\": \"\"\n      }\n    },\n    {\n      \"column\": \"pred_time_test\",\n      \"properties\": {\n        \"dtype\": \"number\",\n        \"std\": 56.35928190236362,\n        \"min\": 2.339179277420044,\n        \"max\": 134.49047231674194,\n        \"num_unique_values\": 17,\n        \"samples\": [\n          128.89427971839905\n        ],\n        \"semantic_type\": \"\",\n        \"description\": \"\"\n      }\n    },\n    {\n      \"column\": \"pred_time_val\",\n      \"properties\": {\n        \"dtype\": \"number\",\n        \"std\": 63.39077713486974,\n        \"min\": 0.13774442672729492,\n        \"max\": 155.5914545059204,\n        \"num_unique_values\": 17,\n        \"samples\": [\n          155.5914545059204\n        ],\n        \"semantic_type\": \"\",\n        \"description\": \"\"\n      }\n    },\n    {\n      \"column\": \"fit_time\",\n      \"properties\": {\n        \"dtype\": \"number\",\n        \"std\": 808.040021616753,\n        \"min\": 1.5189158916473389,\n        \"max\": 1953.2048399448395,\n        \"num_unique_values\": 17,\n        \"samples\": [\n          1711.3491842746735\n        ],\n        \"semantic_type\": \"\",\n        \"description\": \"\"\n      }\n    },\n    {\n      \"column\": \"pred_time_test_marginal\",\n      \"properties\": {\n        \"dtype\": \"number\",\n        \"std\": 9.082778012468042,\n        \"min\": 0.7338752746582031,\n        \"max\": 27.358736515045166,\n        \"num_unique_values\": 17,\n        \"samples\": [\n          2.0085556507110596\n        ],\n        \"semantic_type\": \"\",\n        \"description\": \"\"\n      }\n    },\n    {\n      \"column\": \"pred_time_val_marginal\",\n      \"properties\": {\n        \"dtype\": \"number\",\n        \"std\": 12.401693259129267,\n        \"min\": 0.0038633346557617188,\n        \"max\": 37.66868543624878,\n        \"num_unique_values\": 17,\n        \"samples\": [\n          15.242831230163574\n        ],\n        \"semantic_type\": \"\",\n        \"description\": \"\"\n      }\n    },\n    {\n      \"column\": \"fit_time_marginal\",\n      \"properties\": {\n        \"dtype\": \"number\",\n        \"std\": 181.67221016035072,\n        \"min\": 0.9822573661804199,\n        \"max\": 611.0059406757355,\n        \"num_unique_values\": 17,\n        \"samples\": [\n          88.19006061553955\n        ],\n        \"semantic_type\": \"\",\n        \"description\": \"\"\n      }\n    },\n    {\n      \"column\": \"stack_level\",\n      \"properties\": {\n        \"dtype\": \"number\",\n        \"std\": 0,\n        \"min\": 1,\n        \"max\": 3,\n        \"num_unique_values\": 3,\n        \"samples\": [\n          2\n        ],\n        \"semantic_type\": \"\",\n        \"description\": \"\"\n      }\n    },\n    {\n      \"column\": \"can_infer\",\n      \"properties\": {\n        \"dtype\": \"boolean\",\n        \"num_unique_values\": 1,\n        \"samples\": [\n          true\n        ],\n        \"semantic_type\": \"\",\n        \"description\": \"\"\n      }\n    },\n    {\n      \"column\": \"fit_order\",\n      \"properties\": {\n        \"dtype\": \"number\",\n        \"std\": 5,\n        \"min\": 1,\n        \"max\": 17,\n        \"num_unique_values\": 17,\n        \"samples\": [\n          15\n        ],\n        \"semantic_type\": \"\",\n        \"description\": \"\"\n      }\n    }\n  ]\n}",
              "type": "dataframe",
              "variable_name": "leaderboard"
            },
            "text/html": [
              "\n",
              "  <div id=\"df-a831fbdd-9473-494f-bd19-fa6bf58cefaa\" class=\"colab-df-container\">\n",
              "    <div>\n",
              "<style scoped>\n",
              "    .dataframe tbody tr th:only-of-type {\n",
              "        vertical-align: middle;\n",
              "    }\n",
              "\n",
              "    .dataframe tbody tr th {\n",
              "        vertical-align: top;\n",
              "    }\n",
              "\n",
              "    .dataframe thead th {\n",
              "        text-align: right;\n",
              "    }\n",
              "</style>\n",
              "<table border=\"1\" class=\"dataframe\">\n",
              "  <thead>\n",
              "    <tr style=\"text-align: right;\">\n",
              "      <th></th>\n",
              "      <th>model</th>\n",
              "      <th>score_test</th>\n",
              "      <th>accuracy</th>\n",
              "      <th>roc_auc</th>\n",
              "      <th>f1_macro</th>\n",
              "      <th>f1_weighted</th>\n",
              "      <th>score_val</th>\n",
              "      <th>eval_metric</th>\n",
              "      <th>pred_time_test</th>\n",
              "      <th>pred_time_val</th>\n",
              "      <th>fit_time</th>\n",
              "      <th>pred_time_test_marginal</th>\n",
              "      <th>pred_time_val_marginal</th>\n",
              "      <th>fit_time_marginal</th>\n",
              "      <th>stack_level</th>\n",
              "      <th>can_infer</th>\n",
              "      <th>fit_order</th>\n",
              "    </tr>\n",
              "  </thead>\n",
              "  <tbody>\n",
              "    <tr>\n",
              "      <th>0</th>\n",
              "      <td>RandomForestGini_BAG_L2</td>\n",
              "      <td>0.959754</td>\n",
              "      <td>0.959754</td>\n",
              "      <td>0.974498</td>\n",
              "      <td>0.895635</td>\n",
              "      <td>0.959366</td>\n",
              "      <td>0.976131</td>\n",
              "      <td>accuracy</td>\n",
              "      <td>128.894280</td>\n",
              "      <td>155.591455</td>\n",
              "      <td>1711.349184</td>\n",
              "      <td>2.008556</td>\n",
              "      <td>15.242831</td>\n",
              "      <td>88.190061</td>\n",
              "      <td>2</td>\n",
              "      <td>True</td>\n",
              "      <td>15</td>\n",
              "    </tr>\n",
              "    <tr>\n",
              "      <th>1</th>\n",
              "      <td>RandomForestEntr_BAG_L2</td>\n",
              "      <td>0.959720</td>\n",
              "      <td>0.959720</td>\n",
              "      <td>0.977718</td>\n",
              "      <td>0.895503</td>\n",
              "      <td>0.959323</td>\n",
              "      <td>0.975394</td>\n",
              "      <td>accuracy</td>\n",
              "      <td>128.875114</td>\n",
              "      <td>155.550849</td>\n",
              "      <td>1683.730380</td>\n",
              "      <td>1.989390</td>\n",
              "      <td>15.202226</td>\n",
              "      <td>60.571256</td>\n",
              "      <td>2</td>\n",
              "      <td>True</td>\n",
              "      <td>16</td>\n",
              "    </tr>\n",
              "    <tr>\n",
              "      <th>2</th>\n",
              "      <td>LightGBMXT_BAG_L2</td>\n",
              "      <td>0.959584</td>\n",
              "      <td>0.959584</td>\n",
              "      <td>0.980425</td>\n",
              "      <td>0.896554</td>\n",
              "      <td>0.959462</td>\n",
              "      <td>0.976935</td>\n",
              "      <td>accuracy</td>\n",
              "      <td>134.490472</td>\n",
              "      <td>140.870115</td>\n",
              "      <td>1953.204840</td>\n",
              "      <td>7.604748</td>\n",
              "      <td>0.521492</td>\n",
              "      <td>330.045716</td>\n",
              "      <td>2</td>\n",
              "      <td>True</td>\n",
              "      <td>13</td>\n",
              "    </tr>\n",
              "    <tr>\n",
              "      <th>3</th>\n",
              "      <td>RandomForestGini_BAG_L1</td>\n",
              "      <td>0.957296</td>\n",
              "      <td>0.957296</td>\n",
              "      <td>0.972316</td>\n",
              "      <td>0.884757</td>\n",
              "      <td>0.955989</td>\n",
              "      <td>0.972402</td>\n",
              "      <td>accuracy</td>\n",
              "      <td>2.339179</td>\n",
              "      <td>15.202035</td>\n",
              "      <td>95.165010</td>\n",
              "      <td>2.339179</td>\n",
              "      <td>15.202035</td>\n",
              "      <td>95.165010</td>\n",
              "      <td>1</td>\n",
              "      <td>True</td>\n",
              "      <td>5</td>\n",
              "    </tr>\n",
              "    <tr>\n",
              "      <th>4</th>\n",
              "      <td>CatBoost_BAG_L1</td>\n",
              "      <td>0.956819</td>\n",
              "      <td>0.956819</td>\n",
              "      <td>0.976060</td>\n",
              "      <td>0.884043</td>\n",
              "      <td>0.955611</td>\n",
              "      <td>0.973117</td>\n",
              "      <td>accuracy</td>\n",
              "      <td>5.759835</td>\n",
              "      <td>0.137744</td>\n",
              "      <td>103.428735</td>\n",
              "      <td>5.759835</td>\n",
              "      <td>0.137744</td>\n",
              "      <td>103.428735</td>\n",
              "      <td>1</td>\n",
              "      <td>True</td>\n",
              "      <td>7</td>\n",
              "    </tr>\n",
              "    <tr>\n",
              "      <th>5</th>\n",
              "      <td>LightGBMXT_BAG_L1</td>\n",
              "      <td>0.956819</td>\n",
              "      <td>0.956819</td>\n",
              "      <td>0.979361</td>\n",
              "      <td>0.886636</td>\n",
              "      <td>0.956127</td>\n",
              "      <td>0.975550</td>\n",
              "      <td>accuracy</td>\n",
              "      <td>8.882820</td>\n",
              "      <td>0.817950</td>\n",
              "      <td>457.327945</td>\n",
              "      <td>8.882820</td>\n",
              "      <td>0.817950</td>\n",
              "      <td>457.327945</td>\n",
              "      <td>1</td>\n",
              "      <td>True</td>\n",
              "      <td>3</td>\n",
              "    </tr>\n",
              "    <tr>\n",
              "      <th>6</th>\n",
              "      <td>RandomForestEntr_BAG_L1</td>\n",
              "      <td>0.956614</td>\n",
              "      <td>0.956614</td>\n",
              "      <td>0.975986</td>\n",
              "      <td>0.883051</td>\n",
              "      <td>0.955312</td>\n",
              "      <td>0.972759</td>\n",
              "      <td>accuracy</td>\n",
              "      <td>2.794387</td>\n",
              "      <td>15.124907</td>\n",
              "      <td>64.676703</td>\n",
              "      <td>2.794387</td>\n",
              "      <td>15.124907</td>\n",
              "      <td>64.676703</td>\n",
              "      <td>1</td>\n",
              "      <td>True</td>\n",
              "      <td>6</td>\n",
              "    </tr>\n",
              "    <tr>\n",
              "      <th>7</th>\n",
              "      <td>LightGBM_BAG_L1</td>\n",
              "      <td>0.956341</td>\n",
              "      <td>0.956341</td>\n",
              "      <td>0.978739</td>\n",
              "      <td>0.884828</td>\n",
              "      <td>0.955532</td>\n",
              "      <td>0.975774</td>\n",
              "      <td>accuracy</td>\n",
              "      <td>7.108644</td>\n",
              "      <td>0.758393</td>\n",
              "      <td>611.005941</td>\n",
              "      <td>7.108644</td>\n",
              "      <td>0.758393</td>\n",
              "      <td>611.005941</td>\n",
              "      <td>1</td>\n",
              "      <td>True</td>\n",
              "      <td>4</td>\n",
              "    </tr>\n",
              "    <tr>\n",
              "      <th>8</th>\n",
              "      <td>WeightedEnsemble_L2</td>\n",
              "      <td>0.956033</td>\n",
              "      <td>0.956033</td>\n",
              "      <td>0.979580</td>\n",
              "      <td>0.887436</td>\n",
              "      <td>0.955895</td>\n",
              "      <td>0.977806</td>\n",
              "      <td>accuracy</td>\n",
              "      <td>42.234252</td>\n",
              "      <td>32.567504</td>\n",
              "      <td>765.001104</td>\n",
              "      <td>0.842262</td>\n",
              "      <td>0.004073</td>\n",
              "      <td>0.982257</td>\n",
              "      <td>2</td>\n",
              "      <td>True</td>\n",
              "      <td>12</td>\n",
              "    </tr>\n",
              "    <tr>\n",
              "      <th>9</th>\n",
              "      <td>ExtraTreesEntr_BAG_L1</td>\n",
              "      <td>0.955556</td>\n",
              "      <td>0.955556</td>\n",
              "      <td>0.975778</td>\n",
              "      <td>0.878907</td>\n",
              "      <td>0.953964</td>\n",
              "      <td>0.971353</td>\n",
              "      <td>accuracy</td>\n",
              "      <td>3.123726</td>\n",
              "      <td>15.433638</td>\n",
              "      <td>7.102408</td>\n",
              "      <td>3.123726</td>\n",
              "      <td>15.433638</td>\n",
              "      <td>7.102408</td>\n",
              "      <td>1</td>\n",
              "      <td>True</td>\n",
              "      <td>9</td>\n",
              "    </tr>\n",
              "    <tr>\n",
              "      <th>10</th>\n",
              "      <td>ExtraTreesGini_BAG_L1</td>\n",
              "      <td>0.955521</td>\n",
              "      <td>0.955521</td>\n",
              "      <td>0.974874</td>\n",
              "      <td>0.878652</td>\n",
              "      <td>0.953896</td>\n",
              "      <td>0.971174</td>\n",
              "      <td>accuracy</td>\n",
              "      <td>2.471496</td>\n",
              "      <td>15.248852</td>\n",
              "      <td>7.961813</td>\n",
              "      <td>2.471496</td>\n",
              "      <td>15.248852</td>\n",
              "      <td>7.961813</td>\n",
              "      <td>1</td>\n",
              "      <td>True</td>\n",
              "      <td>8</td>\n",
              "    </tr>\n",
              "    <tr>\n",
              "      <th>11</th>\n",
              "      <td>LightGBM_BAG_L2</td>\n",
              "      <td>0.955385</td>\n",
              "      <td>0.955385</td>\n",
              "      <td>0.979681</td>\n",
              "      <td>0.886040</td>\n",
              "      <td>0.955297</td>\n",
              "      <td>0.977672</td>\n",
              "      <td>accuracy</td>\n",
              "      <td>133.061981</td>\n",
              "      <td>140.644857</td>\n",
              "      <td>1948.130766</td>\n",
              "      <td>6.176257</td>\n",
              "      <td>0.296234</td>\n",
              "      <td>324.971642</td>\n",
              "      <td>2</td>\n",
              "      <td>True</td>\n",
              "      <td>14</td>\n",
              "    </tr>\n",
              "    <tr>\n",
              "      <th>12</th>\n",
              "      <td>WeightedEnsemble_L3</td>\n",
              "      <td>0.955385</td>\n",
              "      <td>0.955385</td>\n",
              "      <td>0.979681</td>\n",
              "      <td>0.886040</td>\n",
              "      <td>0.955297</td>\n",
              "      <td>0.977672</td>\n",
              "      <td>accuracy</td>\n",
              "      <td>133.795857</td>\n",
              "      <td>140.648721</td>\n",
              "      <td>1949.438122</td>\n",
              "      <td>0.733875</td>\n",
              "      <td>0.003863</td>\n",
              "      <td>1.307356</td>\n",
              "      <td>3</td>\n",
              "      <td>True</td>\n",
              "      <td>17</td>\n",
              "    </tr>\n",
              "    <tr>\n",
              "      <th>13</th>\n",
              "      <td>NeuralNetFastAI_BAG_L1</td>\n",
              "      <td>0.953917</td>\n",
              "      <td>0.953917</td>\n",
              "      <td>0.978214</td>\n",
              "      <td>0.884007</td>\n",
              "      <td>0.954163</td>\n",
              "      <td>0.977538</td>\n",
              "      <td>accuracy</td>\n",
              "      <td>21.154113</td>\n",
              "      <td>0.925246</td>\n",
              "      <td>188.197946</td>\n",
              "      <td>21.154113</td>\n",
              "      <td>0.925246</td>\n",
              "      <td>188.197946</td>\n",
              "      <td>1</td>\n",
              "      <td>True</td>\n",
              "      <td>10</td>\n",
              "    </tr>\n",
              "    <tr>\n",
              "      <th>14</th>\n",
              "      <td>KNeighborsDist_BAG_L1</td>\n",
              "      <td>0.953883</td>\n",
              "      <td>0.953883</td>\n",
              "      <td>0.938916</td>\n",
              "      <td>0.879337</td>\n",
              "      <td>0.953226</td>\n",
              "      <td>0.969410</td>\n",
              "      <td>accuracy</td>\n",
              "      <td>26.941594</td>\n",
              "      <td>37.068464</td>\n",
              "      <td>1.532338</td>\n",
              "      <td>26.941594</td>\n",
              "      <td>37.068464</td>\n",
              "      <td>1.532338</td>\n",
              "      <td>1</td>\n",
              "      <td>True</td>\n",
              "      <td>2</td>\n",
              "    </tr>\n",
              "    <tr>\n",
              "      <th>15</th>\n",
              "      <td>KNeighborsUnif_BAG_L1</td>\n",
              "      <td>0.953883</td>\n",
              "      <td>0.953883</td>\n",
              "      <td>0.938696</td>\n",
              "      <td>0.879337</td>\n",
              "      <td>0.953226</td>\n",
              "      <td>0.969410</td>\n",
              "      <td>accuracy</td>\n",
              "      <td>27.358737</td>\n",
              "      <td>37.668685</td>\n",
              "      <td>1.518916</td>\n",
              "      <td>27.358737</td>\n",
              "      <td>37.668685</td>\n",
              "      <td>1.518916</td>\n",
              "      <td>1</td>\n",
              "      <td>True</td>\n",
              "      <td>1</td>\n",
              "    </tr>\n",
              "    <tr>\n",
              "      <th>16</th>\n",
              "      <td>XGBoost_BAG_L1</td>\n",
              "      <td>0.889537</td>\n",
              "      <td>0.889537</td>\n",
              "      <td>0.966675</td>\n",
              "      <td>0.470770</td>\n",
              "      <td>0.837535</td>\n",
              "      <td>0.893806</td>\n",
              "      <td>accuracy</td>\n",
              "      <td>18.951192</td>\n",
              "      <td>1.962709</td>\n",
              "      <td>85.241371</td>\n",
              "      <td>18.951192</td>\n",
              "      <td>1.962709</td>\n",
              "      <td>85.241371</td>\n",
              "      <td>1</td>\n",
              "      <td>True</td>\n",
              "      <td>11</td>\n",
              "    </tr>\n",
              "  </tbody>\n",
              "</table>\n",
              "</div>\n",
              "    <div class=\"colab-df-buttons\">\n",
              "\n",
              "  <div class=\"colab-df-container\">\n",
              "    <button class=\"colab-df-convert\" onclick=\"convertToInteractive('df-a831fbdd-9473-494f-bd19-fa6bf58cefaa')\"\n",
              "            title=\"Convert this dataframe to an interactive table.\"\n",
              "            style=\"display:none;\">\n",
              "\n",
              "  <svg xmlns=\"http://www.w3.org/2000/svg\" height=\"24px\" viewBox=\"0 -960 960 960\">\n",
              "    <path d=\"M120-120v-720h720v720H120Zm60-500h600v-160H180v160Zm220 220h160v-160H400v160Zm0 220h160v-160H400v160ZM180-400h160v-160H180v160Zm440 0h160v-160H620v160ZM180-180h160v-160H180v160Zm440 0h160v-160H620v160Z\"/>\n",
              "  </svg>\n",
              "    </button>\n",
              "\n",
              "  <style>\n",
              "    .colab-df-container {\n",
              "      display:flex;\n",
              "      gap: 12px;\n",
              "    }\n",
              "\n",
              "    .colab-df-convert {\n",
              "      background-color: #E8F0FE;\n",
              "      border: none;\n",
              "      border-radius: 50%;\n",
              "      cursor: pointer;\n",
              "      display: none;\n",
              "      fill: #1967D2;\n",
              "      height: 32px;\n",
              "      padding: 0 0 0 0;\n",
              "      width: 32px;\n",
              "    }\n",
              "\n",
              "    .colab-df-convert:hover {\n",
              "      background-color: #E2EBFA;\n",
              "      box-shadow: 0px 1px 2px rgba(60, 64, 67, 0.3), 0px 1px 3px 1px rgba(60, 64, 67, 0.15);\n",
              "      fill: #174EA6;\n",
              "    }\n",
              "\n",
              "    .colab-df-buttons div {\n",
              "      margin-bottom: 4px;\n",
              "    }\n",
              "\n",
              "    [theme=dark] .colab-df-convert {\n",
              "      background-color: #3B4455;\n",
              "      fill: #D2E3FC;\n",
              "    }\n",
              "\n",
              "    [theme=dark] .colab-df-convert:hover {\n",
              "      background-color: #434B5C;\n",
              "      box-shadow: 0px 1px 3px 1px rgba(0, 0, 0, 0.15);\n",
              "      filter: drop-shadow(0px 1px 2px rgba(0, 0, 0, 0.3));\n",
              "      fill: #FFFFFF;\n",
              "    }\n",
              "  </style>\n",
              "\n",
              "    <script>\n",
              "      const buttonEl =\n",
              "        document.querySelector('#df-a831fbdd-9473-494f-bd19-fa6bf58cefaa button.colab-df-convert');\n",
              "      buttonEl.style.display =\n",
              "        google.colab.kernel.accessAllowed ? 'block' : 'none';\n",
              "\n",
              "      async function convertToInteractive(key) {\n",
              "        const element = document.querySelector('#df-a831fbdd-9473-494f-bd19-fa6bf58cefaa');\n",
              "        const dataTable =\n",
              "          await google.colab.kernel.invokeFunction('convertToInteractive',\n",
              "                                                    [key], {});\n",
              "        if (!dataTable) return;\n",
              "\n",
              "        const docLinkHtml = 'Like what you see? Visit the ' +\n",
              "          '<a target=\"_blank\" href=https://colab.research.google.com/notebooks/data_table.ipynb>data table notebook</a>'\n",
              "          + ' to learn more about interactive tables.';\n",
              "        element.innerHTML = '';\n",
              "        dataTable['output_type'] = 'display_data';\n",
              "        await google.colab.output.renderOutput(dataTable, element);\n",
              "        const docLink = document.createElement('div');\n",
              "        docLink.innerHTML = docLinkHtml;\n",
              "        element.appendChild(docLink);\n",
              "      }\n",
              "    </script>\n",
              "  </div>\n",
              "\n",
              "\n",
              "<div id=\"df-ede9d2fb-a93f-4c92-be23-8400bb3f374f\">\n",
              "  <button class=\"colab-df-quickchart\" onclick=\"quickchart('df-ede9d2fb-a93f-4c92-be23-8400bb3f374f')\"\n",
              "            title=\"Suggest charts\"\n",
              "            style=\"display:none;\">\n",
              "\n",
              "<svg xmlns=\"http://www.w3.org/2000/svg\" height=\"24px\"viewBox=\"0 0 24 24\"\n",
              "     width=\"24px\">\n",
              "    <g>\n",
              "        <path d=\"M19 3H5c-1.1 0-2 .9-2 2v14c0 1.1.9 2 2 2h14c1.1 0 2-.9 2-2V5c0-1.1-.9-2-2-2zM9 17H7v-7h2v7zm4 0h-2V7h2v10zm4 0h-2v-4h2v4z\"/>\n",
              "    </g>\n",
              "</svg>\n",
              "  </button>\n",
              "\n",
              "<style>\n",
              "  .colab-df-quickchart {\n",
              "      --bg-color: #E8F0FE;\n",
              "      --fill-color: #1967D2;\n",
              "      --hover-bg-color: #E2EBFA;\n",
              "      --hover-fill-color: #174EA6;\n",
              "      --disabled-fill-color: #AAA;\n",
              "      --disabled-bg-color: #DDD;\n",
              "  }\n",
              "\n",
              "  [theme=dark] .colab-df-quickchart {\n",
              "      --bg-color: #3B4455;\n",
              "      --fill-color: #D2E3FC;\n",
              "      --hover-bg-color: #434B5C;\n",
              "      --hover-fill-color: #FFFFFF;\n",
              "      --disabled-bg-color: #3B4455;\n",
              "      --disabled-fill-color: #666;\n",
              "  }\n",
              "\n",
              "  .colab-df-quickchart {\n",
              "    background-color: var(--bg-color);\n",
              "    border: none;\n",
              "    border-radius: 50%;\n",
              "    cursor: pointer;\n",
              "    display: none;\n",
              "    fill: var(--fill-color);\n",
              "    height: 32px;\n",
              "    padding: 0;\n",
              "    width: 32px;\n",
              "  }\n",
              "\n",
              "  .colab-df-quickchart:hover {\n",
              "    background-color: var(--hover-bg-color);\n",
              "    box-shadow: 0 1px 2px rgba(60, 64, 67, 0.3), 0 1px 3px 1px rgba(60, 64, 67, 0.15);\n",
              "    fill: var(--button-hover-fill-color);\n",
              "  }\n",
              "\n",
              "  .colab-df-quickchart-complete:disabled,\n",
              "  .colab-df-quickchart-complete:disabled:hover {\n",
              "    background-color: var(--disabled-bg-color);\n",
              "    fill: var(--disabled-fill-color);\n",
              "    box-shadow: none;\n",
              "  }\n",
              "\n",
              "  .colab-df-spinner {\n",
              "    border: 2px solid var(--fill-color);\n",
              "    border-color: transparent;\n",
              "    border-bottom-color: var(--fill-color);\n",
              "    animation:\n",
              "      spin 1s steps(1) infinite;\n",
              "  }\n",
              "\n",
              "  @keyframes spin {\n",
              "    0% {\n",
              "      border-color: transparent;\n",
              "      border-bottom-color: var(--fill-color);\n",
              "      border-left-color: var(--fill-color);\n",
              "    }\n",
              "    20% {\n",
              "      border-color: transparent;\n",
              "      border-left-color: var(--fill-color);\n",
              "      border-top-color: var(--fill-color);\n",
              "    }\n",
              "    30% {\n",
              "      border-color: transparent;\n",
              "      border-left-color: var(--fill-color);\n",
              "      border-top-color: var(--fill-color);\n",
              "      border-right-color: var(--fill-color);\n",
              "    }\n",
              "    40% {\n",
              "      border-color: transparent;\n",
              "      border-right-color: var(--fill-color);\n",
              "      border-top-color: var(--fill-color);\n",
              "    }\n",
              "    60% {\n",
              "      border-color: transparent;\n",
              "      border-right-color: var(--fill-color);\n",
              "    }\n",
              "    80% {\n",
              "      border-color: transparent;\n",
              "      border-right-color: var(--fill-color);\n",
              "      border-bottom-color: var(--fill-color);\n",
              "    }\n",
              "    90% {\n",
              "      border-color: transparent;\n",
              "      border-bottom-color: var(--fill-color);\n",
              "    }\n",
              "  }\n",
              "</style>\n",
              "\n",
              "  <script>\n",
              "    async function quickchart(key) {\n",
              "      const quickchartButtonEl =\n",
              "        document.querySelector('#' + key + ' button');\n",
              "      quickchartButtonEl.disabled = true;  // To prevent multiple clicks.\n",
              "      quickchartButtonEl.classList.add('colab-df-spinner');\n",
              "      try {\n",
              "        const charts = await google.colab.kernel.invokeFunction(\n",
              "            'suggestCharts', [key], {});\n",
              "      } catch (error) {\n",
              "        console.error('Error during call to suggestCharts:', error);\n",
              "      }\n",
              "      quickchartButtonEl.classList.remove('colab-df-spinner');\n",
              "      quickchartButtonEl.classList.add('colab-df-quickchart-complete');\n",
              "    }\n",
              "    (() => {\n",
              "      let quickchartButtonEl =\n",
              "        document.querySelector('#df-ede9d2fb-a93f-4c92-be23-8400bb3f374f button');\n",
              "      quickchartButtonEl.style.display =\n",
              "        google.colab.kernel.accessAllowed ? 'block' : 'none';\n",
              "    })();\n",
              "  </script>\n",
              "</div>\n",
              "\n",
              "  <div id=\"id_86ce3d2b-6d3e-461e-9f77-986254c9cecd\">\n",
              "    <style>\n",
              "      .colab-df-generate {\n",
              "        background-color: #E8F0FE;\n",
              "        border: none;\n",
              "        border-radius: 50%;\n",
              "        cursor: pointer;\n",
              "        display: none;\n",
              "        fill: #1967D2;\n",
              "        height: 32px;\n",
              "        padding: 0 0 0 0;\n",
              "        width: 32px;\n",
              "      }\n",
              "\n",
              "      .colab-df-generate:hover {\n",
              "        background-color: #E2EBFA;\n",
              "        box-shadow: 0px 1px 2px rgba(60, 64, 67, 0.3), 0px 1px 3px 1px rgba(60, 64, 67, 0.15);\n",
              "        fill: #174EA6;\n",
              "      }\n",
              "\n",
              "      [theme=dark] .colab-df-generate {\n",
              "        background-color: #3B4455;\n",
              "        fill: #D2E3FC;\n",
              "      }\n",
              "\n",
              "      [theme=dark] .colab-df-generate:hover {\n",
              "        background-color: #434B5C;\n",
              "        box-shadow: 0px 1px 3px 1px rgba(0, 0, 0, 0.15);\n",
              "        filter: drop-shadow(0px 1px 2px rgba(0, 0, 0, 0.3));\n",
              "        fill: #FFFFFF;\n",
              "      }\n",
              "    </style>\n",
              "    <button class=\"colab-df-generate\" onclick=\"generateWithVariable('leaderboard')\"\n",
              "            title=\"Generate code using this dataframe.\"\n",
              "            style=\"display:none;\">\n",
              "\n",
              "  <svg xmlns=\"http://www.w3.org/2000/svg\" height=\"24px\"viewBox=\"0 0 24 24\"\n",
              "       width=\"24px\">\n",
              "    <path d=\"M7,19H8.4L18.45,9,17,7.55,7,17.6ZM5,21V16.75L18.45,3.32a2,2,0,0,1,2.83,0l1.4,1.43a1.91,1.91,0,0,1,.58,1.4,1.91,1.91,0,0,1-.58,1.4L9.25,21ZM18.45,9,17,7.55Zm-12,3A5.31,5.31,0,0,0,4.9,8.1,5.31,5.31,0,0,0,1,6.5,5.31,5.31,0,0,0,4.9,4.9,5.31,5.31,0,0,0,6.5,1,5.31,5.31,0,0,0,8.1,4.9,5.31,5.31,0,0,0,12,6.5,5.46,5.46,0,0,0,6.5,12Z\"/>\n",
              "  </svg>\n",
              "    </button>\n",
              "    <script>\n",
              "      (() => {\n",
              "      const buttonEl =\n",
              "        document.querySelector('#id_86ce3d2b-6d3e-461e-9f77-986254c9cecd button.colab-df-generate');\n",
              "      buttonEl.style.display =\n",
              "        google.colab.kernel.accessAllowed ? 'block' : 'none';\n",
              "\n",
              "      buttonEl.onclick = () => {\n",
              "        google.colab.notebook.generateWithVariable('leaderboard');\n",
              "      }\n",
              "      })();\n",
              "    </script>\n",
              "  </div>\n",
              "\n",
              "    </div>\n",
              "  </div>\n"
            ],
            "text/plain": [
              "                      model  score_test  accuracy   roc_auc  f1_macro  \\\n",
              "0   RandomForestGini_BAG_L2    0.959754  0.959754  0.974498  0.895635   \n",
              "1   RandomForestEntr_BAG_L2    0.959720  0.959720  0.977718  0.895503   \n",
              "2         LightGBMXT_BAG_L2    0.959584  0.959584  0.980425  0.896554   \n",
              "3   RandomForestGini_BAG_L1    0.957296  0.957296  0.972316  0.884757   \n",
              "4           CatBoost_BAG_L1    0.956819  0.956819  0.976060  0.884043   \n",
              "5         LightGBMXT_BAG_L1    0.956819  0.956819  0.979361  0.886636   \n",
              "6   RandomForestEntr_BAG_L1    0.956614  0.956614  0.975986  0.883051   \n",
              "7           LightGBM_BAG_L1    0.956341  0.956341  0.978739  0.884828   \n",
              "8       WeightedEnsemble_L2    0.956033  0.956033  0.979580  0.887436   \n",
              "9     ExtraTreesEntr_BAG_L1    0.955556  0.955556  0.975778  0.878907   \n",
              "10    ExtraTreesGini_BAG_L1    0.955521  0.955521  0.974874  0.878652   \n",
              "11          LightGBM_BAG_L2    0.955385  0.955385  0.979681  0.886040   \n",
              "12      WeightedEnsemble_L3    0.955385  0.955385  0.979681  0.886040   \n",
              "13   NeuralNetFastAI_BAG_L1    0.953917  0.953917  0.978214  0.884007   \n",
              "14    KNeighborsDist_BAG_L1    0.953883  0.953883  0.938916  0.879337   \n",
              "15    KNeighborsUnif_BAG_L1    0.953883  0.953883  0.938696  0.879337   \n",
              "16           XGBoost_BAG_L1    0.889537  0.889537  0.966675  0.470770   \n",
              "\n",
              "    f1_weighted  score_val eval_metric  pred_time_test  pred_time_val  \\\n",
              "0      0.959366   0.976131    accuracy      128.894280     155.591455   \n",
              "1      0.959323   0.975394    accuracy      128.875114     155.550849   \n",
              "2      0.959462   0.976935    accuracy      134.490472     140.870115   \n",
              "3      0.955989   0.972402    accuracy        2.339179      15.202035   \n",
              "4      0.955611   0.973117    accuracy        5.759835       0.137744   \n",
              "5      0.956127   0.975550    accuracy        8.882820       0.817950   \n",
              "6      0.955312   0.972759    accuracy        2.794387      15.124907   \n",
              "7      0.955532   0.975774    accuracy        7.108644       0.758393   \n",
              "8      0.955895   0.977806    accuracy       42.234252      32.567504   \n",
              "9      0.953964   0.971353    accuracy        3.123726      15.433638   \n",
              "10     0.953896   0.971174    accuracy        2.471496      15.248852   \n",
              "11     0.955297   0.977672    accuracy      133.061981     140.644857   \n",
              "12     0.955297   0.977672    accuracy      133.795857     140.648721   \n",
              "13     0.954163   0.977538    accuracy       21.154113       0.925246   \n",
              "14     0.953226   0.969410    accuracy       26.941594      37.068464   \n",
              "15     0.953226   0.969410    accuracy       27.358737      37.668685   \n",
              "16     0.837535   0.893806    accuracy       18.951192       1.962709   \n",
              "\n",
              "       fit_time  pred_time_test_marginal  pred_time_val_marginal  \\\n",
              "0   1711.349184                 2.008556               15.242831   \n",
              "1   1683.730380                 1.989390               15.202226   \n",
              "2   1953.204840                 7.604748                0.521492   \n",
              "3     95.165010                 2.339179               15.202035   \n",
              "4    103.428735                 5.759835                0.137744   \n",
              "5    457.327945                 8.882820                0.817950   \n",
              "6     64.676703                 2.794387               15.124907   \n",
              "7    611.005941                 7.108644                0.758393   \n",
              "8    765.001104                 0.842262                0.004073   \n",
              "9      7.102408                 3.123726               15.433638   \n",
              "10     7.961813                 2.471496               15.248852   \n",
              "11  1948.130766                 6.176257                0.296234   \n",
              "12  1949.438122                 0.733875                0.003863   \n",
              "13   188.197946                21.154113                0.925246   \n",
              "14     1.532338                26.941594               37.068464   \n",
              "15     1.518916                27.358737               37.668685   \n",
              "16    85.241371                18.951192                1.962709   \n",
              "\n",
              "    fit_time_marginal  stack_level  can_infer  fit_order  \n",
              "0           88.190061            2       True         15  \n",
              "1           60.571256            2       True         16  \n",
              "2          330.045716            2       True         13  \n",
              "3           95.165010            1       True          5  \n",
              "4          103.428735            1       True          7  \n",
              "5          457.327945            1       True          3  \n",
              "6           64.676703            1       True          6  \n",
              "7          611.005941            1       True          4  \n",
              "8            0.982257            2       True         12  \n",
              "9            7.102408            1       True          9  \n",
              "10           7.961813            1       True          8  \n",
              "11         324.971642            2       True         14  \n",
              "12           1.307356            3       True         17  \n",
              "13         188.197946            1       True         10  \n",
              "14           1.532338            1       True          2  \n",
              "15           1.518916            1       True          1  \n",
              "16          85.241371            1       True         11  "
            ]
          },
          "execution_count": 13,
          "metadata": {},
          "output_type": "execute_result"
        }
      ],
      "source": [
        "# load tabular predictor\n",
        "predictor = TabularPredictor.load('/content/drive/MyDrive/multitude_split/autogluon_models')\n",
        "\n",
        "leaderboard = predictor.leaderboard(\n",
        "    test_embeddings_df,\n",
        "    silent=True,\n",
        "    extra_metrics=['accuracy', 'roc_auc', 'f1_macro', 'f1_weighted']\n",
        ")\n",
        "leaderboard"
      ]
    },
    {
      "cell_type": "code",
      "execution_count": null,
      "metadata": {
        "colab": {
          "base_uri": "https://localhost:8080/"
        },
        "id": "u98EJ-ZhzP0I",
        "outputId": "3be9ddf4-3481-4f64-d6bd-bad217d9910e"
      },
      "outputs": [
        {
          "name": "stderr",
          "output_type": "stream",
          "text": [
            "<ipython-input-14-a771593e68cf>:1: DeprecationWarning: `get_model_best` has been deprecated and will be removed in version 1.2. Please use `model_best` instead. This will raise an error in the future!\n",
            "  best_model = predictor.get_model_best()\n"
          ]
        }
      ],
      "source": [
        "best_model = predictor.get_model_best()\n"
      ]
    },
    {
      "cell_type": "code",
      "execution_count": null,
      "metadata": {
        "colab": {
          "base_uri": "https://localhost:8080/"
        },
        "id": "XyVDmf7XASO9",
        "outputId": "f057594b-7f15-4839-847f-d1570abe2689"
      },
      "outputs": [
        {
          "name": "stdout",
          "output_type": "stream",
          "text": [
            "Best model according to primary metric (default is accuracy): WeightedEnsemble_L2\n"
          ]
        }
      ],
      "source": [
        "print(\"Best model according to primary metric (default is accuracy):\", best_model)\n"
      ]
    },
    {
      "cell_type": "code",
      "execution_count": null,
      "metadata": {
        "id": "9Rt0oC-_dpRy"
      },
      "outputs": [],
      "source": []
    },
    {
      "cell_type": "code",
      "execution_count": null,
      "metadata": {
        "colab": {
          "base_uri": "https://localhost:8080/"
        },
        "id": "VVAwBi8zAYn3",
        "outputId": "981bcd31-06f7-4736-b42c-9bfac340047e"
      },
      "outputs": [
        {
          "name": "stdout",
          "output_type": "stream",
          "text": [
            "Selected model name: RandomForestGini_BAG_L2\n"
          ]
        }
      ],
      "source": [
        "model_name = leaderboard.iloc[0]['model']\n",
        "print(\"Selected model name:\", model_name)"
      ]
    },
    {
      "cell_type": "code",
      "execution_count": null,
      "metadata": {
        "id": "ALT8EQ2wA4p_"
      },
      "outputs": [],
      "source": [
        "predictions = predictor.predict(test_embeddings_df.drop(columns=['label']), model=model_name)\n",
        "predictions_prob = predictor.predict_proba(test_embeddings_df.drop(columns=['label']))"
      ]
    },
    {
      "cell_type": "code",
      "execution_count": null,
      "metadata": {
        "colab": {
          "base_uri": "https://localhost:8080/"
        },
        "id": "YkucPYP9iHk3",
        "outputId": "2902deec-7455-4334-cf7f-0e93b6615580"
      },
      "outputs": [
        {
          "data": {
            "text/plain": [
              "0        1\n",
              "1        1\n",
              "2        1\n",
              "3        1\n",
              "4        1\n",
              "        ..\n",
              "29290    1\n",
              "29291    1\n",
              "29292    0\n",
              "29293    1\n",
              "29294    1\n",
              "Name: label, Length: 29295, dtype: int64"
            ]
          },
          "execution_count": 21,
          "metadata": {},
          "output_type": "execute_result"
        }
      ],
      "source": [
        "predictions"
      ]
    },
    {
      "cell_type": "code",
      "execution_count": null,
      "metadata": {
        "id": "HCAG-LqYB308"
      },
      "outputs": [],
      "source": [
        "true_labels = test_embeddings_df['label']\n",
        "pred_prob = []\n",
        "for i in range(len(predictions_prob)):\n",
        "  pred_prob.append(predictions_prob[true_labels[i]][i])"
      ]
    },
    {
      "cell_type": "code",
      "execution_count": null,
      "metadata": {
        "colab": {
          "base_uri": "https://localhost:8080/"
        },
        "id": "7CgcectjiJn_",
        "outputId": "a15ea5a6-68ca-462c-e542-377e2f8e8b1e"
      },
      "outputs": [
        {
          "name": "stdout",
          "output_type": "stream",
          "text": [
            "[[ 2577   659]\n",
            " [  520 25539]]\n",
            "              precision    recall  f1-score   support\n",
            "\n",
            "           0     0.8321    0.7964    0.8138      3236\n",
            "           1     0.9748    0.9800    0.9774     26059\n",
            "\n",
            "    accuracy                         0.9598     29295\n",
            "   macro avg     0.9035    0.8882    0.8956     29295\n",
            "weighted avg     0.9591    0.9598    0.9594     29295\n",
            "\n",
            "FPR: 0.20364647713226205\n",
            "FNR: 0.019954718139606278\n",
            "ROC: 0.8881994023640658\n",
            "ROC_prob: 0.8728298093738128\n"
          ]
        }
      ],
      "source": [
        "from sklearn.metrics import roc_auc_score\n",
        "from sklearn.metrics import confusion_matrix\n",
        "from sklearn.metrics import classification_report\n",
        "true_labels = test_embeddings_df['label']\n",
        "cr = classification_report(true_labels, predictions, digits=4, zero_division=0)\n",
        "cm = confusion_matrix(true_labels, predictions)\n",
        "TN = cm[0][0]\n",
        "FN = cm[1][0]\n",
        "TP = cm[1][1]\n",
        "FP = cm[0][1]\n",
        "# Fall out or false positive rate\n",
        "FPR = FP/(FP+TN) if (FP+TN) > 0 else 0\n",
        "# False negative rate\n",
        "FNR = FN/(TP+FN) if (TP+FN) > 0 else 0\n",
        "\n",
        "roc = roc_auc_score(true_labels, predictions)\n",
        "roc_prob = roc_auc_score(true_labels, pred_prob)\n",
        "\n",
        "print(cm)\n",
        "print(cr)\n",
        "print(f\"FPR: {FPR}\")\n",
        "print(f\"FNR: {FNR}\")\n",
        "print(f\"ROC: {roc}\")\n",
        "print(f\"ROC_prob: {roc_prob}\")"
      ]
    },
    {
      "cell_type": "code",
      "execution_count": null,
      "metadata": {
        "colab": {
          "base_uri": "https://localhost:8080/",
          "height": 234
        },
        "id": "GJ-wWnTui2rT",
        "outputId": "87af23c5-0250-4bb6-db3d-cd8af0cf5414"
      },
      "outputs": [
        {
          "data": {
            "image/png": "[encoded data removed]",
            "text/plain": [
              "<IPython.core.display.Image object>"
            ]
          },
          "metadata": {},
          "output_type": "display_data"
        }
      ],
      "source": [
        "# plot the predictor\n",
        "path_to_png = predictor.plot_ensemble_model(model_name)\n",
        "from IPython.display import Image, display\n",
        "display(Image(filename=path_to_png))"
      ]
    },
    {
      "cell_type": "code",
      "execution_count": null,
      "metadata": {
        "colab": {
          "base_uri": "https://localhost:8080/"
        },
        "id": "CeOHLjqaA-qh",
        "outputId": "235d40ab-12f3-47b0-b013-1c19c40347a9"
      },
      "outputs": [
        {
          "name": "stdout",
          "output_type": "stream",
          "text": [
            "Classification Report:\n",
            "               precision    recall  f1-score   support\n",
            "\n",
            "           0       0.84      0.77      0.80      3236\n",
            "           1       0.97      0.98      0.98     26059\n",
            "\n",
            "    accuracy                           0.96     29295\n",
            "   macro avg       0.91      0.87      0.89     29295\n",
            "weighted avg       0.96      0.96      0.96     29295\n",
            "\n"
          ]
        }
      ],
      "source": [
        "from sklearn.metrics import classification_report\n",
        "\n",
        "# Ground truth labels\n",
        "true_labels = test_embeddings_df['label']\n",
        "\n",
        "# Generate the classification report\n",
        "report = classification_report(true_labels, predictions)  # Replace `your_target_names` with actual class names\n",
        "print(\"Classification Report:\\n\", report)"
      ]
    },
    {
      "cell_type": "code",
      "execution_count": null,
      "metadata": {
        "colab": {
          "base_uri": "https://localhost:8080/"
        },
        "id": "eDKGlwUvGKRB",
        "outputId": "9b008650-35d9-494d-80fe-216bf0a3cfd8"
      },
      "outputs": [
        {
          "name": "stdout",
          "output_type": "stream",
          "text": [
            "ROC AUC Score: 0.8746356738922434\n"
          ]
        }
      ],
      "source": [
        "# roc auc score\n",
        "from sklearn.metrics import roc_auc_score\n",
        "roc_auc = roc_auc_score(true_labels, predictions)\n",
        "print(\"ROC AUC Score:\", roc_auc)"
      ]
    },
    {
      "cell_type": "code",
      "execution_count": null,
      "metadata": {
        "colab": {
          "base_uri": "https://localhost:8080/"
        },
        "id": "Ij838T2iCrsC",
        "outputId": "eb410f66-757a-43f4-82dd-00485d418130"
      },
      "outputs": [
        {
          "name": "stdout",
          "output_type": "stream",
          "text": [
            "Model Details: {'name': 'RandomForestGini_BAG_L2', 'model_type': 'StackerEnsembleModel', 'problem_type': 'binary', 'eval_metric': 'accuracy', 'stopping_metric': 'accuracy', 'fit_time': 463.8261682987213, 'num_classes': 2, 'quantile_levels': None, 'predict_time': 14.032022714614868, 'val_score': 0.9941276291698299, 'hyperparameters': {'use_orig_features': True, 'max_base_models': 25, 'max_base_models_per_type': 5, 'save_bag_folds': True, 'use_child_oof': True}, 'hyperparameters_fit': {}, 'hyperparameters_nondefault': ['use_child_oof'], 'ag_args_fit': {'max_memory_usage_ratio': 1.0, 'max_time_limit_ratio': 1.0, 'max_time_limit': None, 'min_time_limit': 0, 'valid_raw_types': None, 'valid_special_types': None, 'ignored_type_group_special': None, 'ignored_type_group_raw': None, 'get_features_kwargs': None, 'get_features_kwargs_extra': None, 'predict_1_batch_size': None, 'temperature_scalar': None, 'drop_unique': False}, 'num_features': 774, 'features': ['387', '548', '262', '342', '348', '526', '104', '376', '637', '362', '734', '421', '359', '567', '176', '299', '88', '236', '356', '3', '344', '86', '709', '432', '679', '646', '179', '27', '455', '94', '402', '521', '214', '185', '151', '288', '92', '557', '549', '20', '187', '464', '87', '135', '273', '38', '265', '610', '90', '339', '550', '134', '527', '51', '65', '310', '398', '764', '309', '745', '256', '715', '291', '756', '147', '110', '416', '755', '437', '564', '0', '320', '427', '662', '431', '64', '453', '81', '616', '36', '268', '47', '656', '743', '649', '25', '57', '563', '629', '304', '80', '409', '525', '761', '85', '32', '477', '322', '97', '725', '8', '678', '498', '677', '61', '301', '639', '141', '327', '665', '365', '282', '218', '692', '739', '614', '377', '618', '248', '292', '102', '386', '318', '593', '306', '353', '503', '340', '233', '710', '484', '160', '7', '331', '657', '507', '43', '305', '240', '132', '661', '724', '269', '601', '40', '260', '285', '571', '604', '347', '630', '489', '84', '407', '696', '83', '10', '713', '183', '658', '380', '515', '740', '742', '419', '131', '615', '150', '532', '169', '722', '502', '565', '469', '50', '208', '611', '598', '621', '197', '634', '572', '190', '234', '714', '687', '349', '653', '303', '123', '389', '381', '651', '426', '177', '446', '533', '199', '472', '695', '506', '193', '44', '354', '156', '126', '235', '433', '458', '219', '334', '244', '500', '731', '719', '287', '163', '694', '276', '735', '511', '298', '200', '98', '211', '732', '479', '182', '277', '138', '478', '569', '122', '718', '528', '227', '34', '329', '341', '631', '316', '188', '355', '510', '690', '153', '499', '363', '467', '688', '675', '148', '388', '278', '752', '758', '215', '562', '570', '560', '175', '372', '78', '391', '759', '491', '261', '627', '71', '2', '396', '495', '733', '471', '263', '717', '251', '736', '747', '19', '125', '424', '159', '517', '332', '35', '369', '522', '6', '120', '358', '352', '204', '553', '17', '622', '655', '737', '284', '686', '121', '765', '574', '247', '168', '395', '483', '383', '238', '272', '127', '400', '103', '99', '435', '444', '4', '641', '69', '239', '166', '337', '584', '586', '22', '613', '410', '558', '191', '370', '367', '475', '225', '501', '552', '625', '361', '264', '436', '462', '669', '242', '368', '448', '364', '442', '708', '106', '473', '683', '523', '465', '385', '164', '617', '62', '129', '181', '33', '485', '1', '505', '583', '652', '461', '346', '423', '766', '411', '623', '513', '379', '474', 'KNeighborsDist_BAG_L1', '55', '403', '107', '628', '697', '439', '541', '196', '699', '186', '585', '313', '545', '591', '538', 'KNeighborsUnif_BAG_L1', '454', '46', '209', '13', '198', '701', '93', '77', '95', '684', '326', '210', '392', '559', '345', '137', '12', '226', '101', '648', '72', '267', '429', '49', '674', '324', '393', '624', '390', '640', '18', '667', 'RandomForestEntr_BAG_L1', '723', '520', '590', '561', '115', '42', '58', '328', '24', '470', '509', '638', '351', '139', '189', '729', '338', '698', '157', '450', '228', '680', '508', '417', '716', '203', '397', '504', '592', '161', '399', '222', '224', '619', '626', '741', '535', '456', '113', '165', '144', '445', '371', '670', '605', '28', '466', '300', '194', '184', '252', '270', '482', '420', '542', '726', '246', '63', '580', '154', '636', '155', '253', '180', '609', '672', '712', '112', '245', '53', '707', '152', '375', '145', '79', '529', '518', '588', '702', '650', '374', '581', '546', '116', '476', '333', '202', '89', '463', '37', '516', '632', '401', '167', '108', '96', '384', '418', '422', '31', '314', '404', '118', '205', '748', '452', '315', '595', '633', '82', '41', '705', '146', '91', '721', '255', '540', '162', '52', '317', '290', '744', '29', '105', '459', '554', '413', '220', '660', '664', '311', '158', '259', '438', '16', '577', '124', '171', '440', '173', '488', '594', '294', '575', '534', '312', '441', '753', '767', '26', '213', '762', '647', '243', '45', '229', '9', '691', '109', '378', '642', '681', '579', '602', '406', '76', '15', '308', '635', '750', '706', '237', '149', '539', '330', '480', '676', '576', '140', '336', 'LightGBM_BAG_L1', '738', '66', '373', '241', '249', '114', '212', '412', '335', '555', '39', '666', '493', '296', '59', '760', '207', '599', '133', '11', '671', '415', '271', '730', '668', '754', '266', '48', '75', '711', '293', '434', '547', '663', '749', '275', '223', '257', '425', '192', '689', '537', '54', '643', '746', '536', '119', '321', 'LightGBMXT_BAG_L1', '492', '727', '343', '607', '111', 'RandomForestGini_BAG_L1', '217', '530', '325', '578', '654', '685', '757', '319', '600', '659', '350', '582', '14', '21', '5', '568', '587', '30', '494', '281', '512', '366', '23', '295', '644', '673', '531', '447', '56', '201', '258', '100', '728', '496', '443', '703', '700', '551', '289', '544', '60', '307', '704', '519', '596', '457', '170', '414', '645', '556', '206', '230', '589', '430', '302', '142', '603', '693', '751', '608', '524', '297', '449', '612', '286', '216', '408', '68', '274', '232', '357', '460', '468', '573', '70', '254', '323', '763', '174', '128', '382', '283', '360', '720', '221', '497', '490', '481', '682', '487', '514', '566', '451', '74', '543', '130', '620', '73', '178', '231', '136', '279', '195', '117', '67', '394', '143', '250', '606', '597', '405', '280', '428', '172', '486'], 'feature_metadata': <autogluon.common.features.feature_metadata.FeatureMetadata object at 0x78baff6a1b70>, 'memory_size': 17123, 'compile_time': None, 'is_initialized': True, 'is_fit': True, 'is_valid': True, 'can_infer': True, 'bagged_info': {'child_model_type': 'RFModel', 'num_child_models': 1, 'child_model_names': ['S1F1'], '_n_repeats': 1, '_k_per_n_repeat': [1], '_random_state': 2, 'low_memory': True, 'bagged_mode': False, 'max_memory_size': 9525193, 'min_memory_size': 9525193, 'child_hyperparameters': {'n_estimators': 300, 'max_leaf_nodes': 15000, 'n_jobs': -1, 'random_state': 0, 'bootstrap': True, 'criterion': 'gini'}, 'child_hyperparameters_fit': {'n_estimators': 300}, 'child_ag_args_fit': {'max_memory_usage_ratio': 1.0, 'max_time_limit_ratio': 1.0, 'max_time_limit': None, 'min_time_limit': 0, 'valid_raw_types': ['bool', 'int', 'float', 'category'], 'valid_special_types': None, 'ignored_type_group_special': None, 'ignored_type_group_raw': None, 'get_features_kwargs': None, 'get_features_kwargs_extra': None, 'predict_1_batch_size': None, 'temperature_scalar': None}}, 'stacker_info': {'num_base_models': 6, 'base_model_names': ['KNeighborsUnif_BAG_L1', 'KNeighborsDist_BAG_L1', 'LightGBMXT_BAG_L1', 'LightGBM_BAG_L1', 'RandomForestGini_BAG_L1', 'RandomForestEntr_BAG_L1']}, 'children_info': {'S1F1': {'name': 'S1F1', 'model_type': 'RFModel', 'problem_type': 'binary', 'eval_metric': 'accuracy', 'stopping_metric': 'accuracy', 'fit_time': 463.8261682987213, 'num_classes': 2, 'quantile_levels': None, 'predict_time': 14.032022714614868, 'val_score': 0.9941276291698299, 'hyperparameters': {'n_estimators': 300, 'max_leaf_nodes': 15000, 'n_jobs': -1, 'random_state': 0, 'bootstrap': True, 'criterion': 'gini'}, 'hyperparameters_fit': {'n_estimators': 300}, 'hyperparameters_nondefault': ['criterion'], 'ag_args_fit': {'max_memory_usage_ratio': 1.0, 'max_time_limit_ratio': 1.0, 'max_time_limit': None, 'min_time_limit': 0, 'valid_raw_types': ['bool', 'int', 'float', 'category'], 'valid_special_types': None, 'ignored_type_group_special': None, 'ignored_type_group_raw': None, 'get_features_kwargs': None, 'get_features_kwargs_extra': None, 'predict_1_batch_size': None, 'temperature_scalar': None}, 'num_features': 774, 'features': ['KNeighborsUnif_BAG_L1', 'KNeighborsDist_BAG_L1', 'LightGBMXT_BAG_L1', 'LightGBM_BAG_L1', 'RandomForestGini_BAG_L1', 'RandomForestEntr_BAG_L1', '0', '1', '2', '3', '4', '5', '6', '7', '8', '9', '10', '11', '12', '13', '14', '15', '16', '17', '18', '19', '20', '21', '22', '23', '24', '25', '26', '27', '28', '29', '30', '31', '32', '33', '34', '35', '36', '37', '38', '39', '40', '41', '42', '43', '44', '45', '46', '47', '48', '49', '50', '51', '52', '53', '54', '55', '56', '57', '58', '59', '60', '61', '62', '63', '64', '65', '66', '67', '68', '69', '70', '71', '72', '73', '74', '75', '76', '77', '78', '79', '80', '81', '82', '83', '84', '85', '86', '87', '88', '89', '90', '91', '92', '93', '94', '95', '96', '97', '98', '99', '100', '101', '102', '103', '104', '105', '106', '107', '108', '109', '110', '111', '112', '113', '114', '115', '116', '117', '118', '119', '120', '121', '122', '123', '124', '125', '126', '127', '128', '129', '130', '131', '132', '133', '134', '135', '136', '137', '138', '139', '140', '141', '142', '143', '144', '145', '146', '147', '148', '149', '150', '151', '152', '153', '154', '155', '156', '157', '158', '159', '160', '161', '162', '163', '164', '165', '166', '167', '168', '169', '170', '171', '172', '173', '174', '175', '176', '177', '178', '179', '180', '181', '182', '183', '184', '185', '186', '187', '188', '189', '190', '191', '192', '193', '194', '195', '196', '197', '198', '199', '200', '201', '202', '203', '204', '205', '206', '207', '208', '209', '210', '211', '212', '213', '214', '215', '216', '217', '218', '219', '220', '221', '222', '223', '224', '225', '226', '227', '228', '229', '230', '231', '232', '233', '234', '235', '236', '237', '238', '239', '240', '241', '242', '243', '244', '245', '246', '247', '248', '249', '250', '251', '252', '253', '254', '255', '256', '257', '258', '259', '260', '261', '262', '263', '264', '265', '266', '267', '268', '269', '270', '271', '272', '273', '274', '275', '276', '277', '278', '279', '280', '281', '282', '283', '284', '285', '286', '287', '288', '289', '290', '291', '292', '293', '294', '295', '296', '297', '298', '299', '300', '301', '302', '303', '304', '305', '306', '307', '308', '309', '310', '311', '312', '313', '314', '315', '316', '317', '318', '319', '320', '321', '322', '323', '324', '325', '326', '327', '328', '329', '330', '331', '332', '333', '334', '335', '336', '337', '338', '339', '340', '341', '342', '343', '344', '345', '346', '347', '348', '349', '350', '351', '352', '353', '354', '355', '356', '357', '358', '359', '360', '361', '362', '363', '364', '365', '366', '367', '368', '369', '370', '371', '372', '373', '374', '375', '376', '377', '378', '379', '380', '381', '382', '383', '384', '385', '386', '387', '388', '389', '390', '391', '392', '393', '394', '395', '396', '397', '398', '399', '400', '401', '402', '403', '404', '405', '406', '407', '408', '409', '410', '411', '412', '413', '414', '415', '416', '417', '418', '419', '420', '421', '422', '423', '424', '425', '426', '427', '428', '429', '430', '431', '432', '433', '434', '435', '436', '437', '438', '439', '440', '441', '442', '443', '444', '445', '446', '447', '448', '449', '450', '451', '452', '453', '454', '455', '456', '457', '458', '459', '460', '461', '462', '463', '464', '465', '466', '467', '468', '469', '470', '471', '472', '473', '474', '475', '476', '477', '478', '479', '480', '481', '482', '483', '484', '485', '486', '487', '488', '489', '490', '491', '492', '493', '494', '495', '496', '497', '498', '499', '500', '501', '502', '503', '504', '505', '506', '507', '508', '509', '510', '511', '512', '513', '514', '515', '516', '517', '518', '519', '520', '521', '522', '523', '524', '525', '526', '527', '528', '529', '530', '531', '532', '533', '534', '535', '536', '537', '538', '539', '540', '541', '542', '543', '544', '545', '546', '547', '548', '549', '550', '551', '552', '553', '554', '555', '556', '557', '558', '559', '560', '561', '562', '563', '564', '565', '566', '567', '568', '569', '570', '571', '572', '573', '574', '575', '576', '577', '578', '579', '580', '581', '582', '583', '584', '585', '586', '587', '588', '589', '590', '591', '592', '593', '594', '595', '596', '597', '598', '599', '600', '601', '602', '603', '604', '605', '606', '607', '608', '609', '610', '611', '612', '613', '614', '615', '616', '617', '618', '619', '620', '621', '622', '623', '624', '625', '626', '627', '628', '629', '630', '631', '632', '633', '634', '635', '636', '637', '638', '639', '640', '641', '642', '643', '644', '645', '646', '647', '648', '649', '650', '651', '652', '653', '654', '655', '656', '657', '658', '659', '660', '661', '662', '663', '664', '665', '666', '667', '668', '669', '670', '671', '672', '673', '674', '675', '676', '677', '678', '679', '680', '681', '682', '683', '684', '685', '686', '687', '688', '689', '690', '691', '692', '693', '694', '695', '696', '697', '698', '699', '700', '701', '702', '703', '704', '705', '706', '707', '708', '709', '710', '711', '712', '713', '714', '715', '716', '717', '718', '719', '720', '721', '722', '723', '724', '725', '726', '727', '728', '729', '730', '731', '732', '733', '734', '735', '736', '737', '738', '739', '740', '741', '742', '743', '744', '745', '746', '747', '748', '749', '750', '751', '752', '753', '754', '755', '756', '757', '758', '759', '760', '761', '762', '763', '764', '765', '766', '767'], 'feature_metadata': <autogluon.common.features.feature_metadata.FeatureMetadata object at 0x78bd1d39cd30>, 'memory_size': 9508070, 'compile_time': None, 'is_initialized': True, 'is_fit': True, 'is_valid': True, 'can_infer': True}}}\n",
            "Hyperparameters of the model: {'use_orig_features': True, 'max_base_models': 25, 'max_base_models_per_type': 5, 'save_bag_folds': True, 'use_child_oof': True}\n"
          ]
        }
      ],
      "source": [
        "# Get all information available for the predictor\n",
        "info = predictor.info()\n",
        "\n",
        "# Retrieve detailed model information\n",
        "model_details = info['model_info'][model_name]\n",
        "\n",
        "# Print detailed model info and hyperparameters\n",
        "print(\"Model Details:\", model_details)\n",
        "print(\"Hyperparameters of the model:\", model_details['hyperparameters'])"
      ]
    },
    {
      "cell_type": "markdown",
      "metadata": {},
      "source": [
        "Using Autokeras for best neural network based on the embeddings"
      ]
    },
    {
      "cell_type": "code",
      "execution_count": null,
      "metadata": {
        "id": "7NpivcmaDSTc"
      },
      "outputs": [],
      "source": [
        "import autokeras as ak\n"
      ]
    },
    {
      "cell_type": "code",
      "execution_count": null,
      "metadata": {
        "id": "9eC93X1BnOK_"
      },
      "outputs": [],
      "source": [
        "X_train = train_embeddings_df.drop(columns=['label'])\n",
        "y_train = train_embeddings_df['label']\n",
        "X_test = test_embeddings_df.drop(columns=['label'])\n",
        "y_test = test_embeddings_df['label']"
      ]
    },
    {
      "cell_type": "code",
      "execution_count": null,
      "metadata": {
        "colab": {
          "base_uri": "https://localhost:8080/",
          "height": 36
        },
        "id": "zIb2TkPmpxHj",
        "outputId": "7e6ab271-d22f-42c5-de92-32a5b5717728"
      },
      "outputs": [
        {
          "data": {
            "application/vnd.google.colaboratory.intrinsic+json": {
              "type": "string"
            },
            "text/plain": [
              "'2.16.2'"
            ]
          },
          "execution_count": 2,
          "metadata": {},
          "output_type": "execute_result"
        }
      ],
      "source": [
        "import tensorflow as tf\n",
        "tf.__version__"
      ]
    },
    {
      "cell_type": "code",
      "execution_count": null,
      "metadata": {
        "id": "7vWqX4S8uUIA"
      },
      "outputs": [],
      "source": [
        "# convert X_train to nd array\n",
        "X_train = X_train.to_numpy()\n",
        "y_train = y_train.to_numpy()"
      ]
    },
    {
      "cell_type": "code",
      "execution_count": null,
      "metadata": {
        "colab": {
          "base_uri": "https://localhost:8080/"
        },
        "id": "BHAwOEwOtE8C",
        "outputId": "548d78ed-3aa2-437b-d97f-9a76922078c7"
      },
      "outputs": [
        {
          "name": "stdout",
          "output_type": "stream",
          "text": [
            "Trial 50 Complete [00h 01m 06s]\n",
            "val_loss: 0.059678759425878525\n",
            "\n",
            "Best val_loss So Far: 0.05788005515933037\n",
            "Total elapsed time: 00h 51m 31s\n",
            "Epoch 1/30\n",
            "\u001b[1m1400/1400\u001b[0m \u001b[32m━━━━━━━━━━━━━━━━━━━━\u001b[0m\u001b[37m\u001b[0m \u001b[1m5s\u001b[0m 2ms/step - accuracy: 0.9526 - loss: 0.1479\n",
            "Epoch 2/30\n",
            "\u001b[1m1400/1400\u001b[0m \u001b[32m━━━━━━━━━━━━━━━━━━━━\u001b[0m\u001b[37m\u001b[0m \u001b[1m2s\u001b[0m 1ms/step - accuracy: 0.9687 - loss: 0.0844\n",
            "Epoch 3/30\n",
            "\u001b[1m1400/1400\u001b[0m \u001b[32m━━━━━━━━━━━━━━━━━━━━\u001b[0m\u001b[37m\u001b[0m \u001b[1m2s\u001b[0m 1ms/step - accuracy: 0.9710 - loss: 0.0786\n",
            "Epoch 4/30\n",
            "\u001b[1m1400/1400\u001b[0m \u001b[32m━━━━━━━━━━━━━━━━━━━━\u001b[0m\u001b[37m\u001b[0m \u001b[1m2s\u001b[0m 1ms/step - accuracy: 0.9726 - loss: 0.0749\n",
            "Epoch 5/30\n",
            "\u001b[1m1400/1400\u001b[0m \u001b[32m━━━━━━━━━━━━━━━━━━━━\u001b[0m\u001b[37m\u001b[0m \u001b[1m2s\u001b[0m 1ms/step - accuracy: 0.9733 - loss: 0.0726\n",
            "Epoch 6/30\n",
            "\u001b[1m1400/1400\u001b[0m \u001b[32m━━━━━━━━━━━━━━━━━━━━\u001b[0m\u001b[37m\u001b[0m \u001b[1m2s\u001b[0m 1ms/step - accuracy: 0.9734 - loss: 0.0709\n",
            "Epoch 7/30\n",
            "\u001b[1m1400/1400\u001b[0m \u001b[32m━━━━━━━━━━━━━━━━━━━━\u001b[0m\u001b[37m\u001b[0m \u001b[1m2s\u001b[0m 1ms/step - accuracy: 0.9744 - loss: 0.0686\n",
            "Epoch 8/30\n",
            "\u001b[1m1400/1400\u001b[0m \u001b[32m━━━━━━━━━━━━━━━━━━━━\u001b[0m\u001b[37m\u001b[0m \u001b[1m2s\u001b[0m 1ms/step - accuracy: 0.9752 - loss: 0.0662\n",
            "Epoch 9/30\n",
            "\u001b[1m1400/1400\u001b[0m \u001b[32m━━━━━━━━━━━━━━━━━━━━\u001b[0m\u001b[37m\u001b[0m \u001b[1m2s\u001b[0m 1ms/step - accuracy: 0.9751 - loss: 0.0648\n",
            "Epoch 10/30\n",
            "\u001b[1m1400/1400\u001b[0m \u001b[32m━━━━━━━━━━━━━━━━━━━━\u001b[0m\u001b[37m\u001b[0m \u001b[1m2s\u001b[0m 1ms/step - accuracy: 0.9760 - loss: 0.0642\n",
            "Epoch 11/30\n",
            "\u001b[1m1400/1400\u001b[0m \u001b[32m━━━━━━━━━━━━━━━━━━━━\u001b[0m\u001b[37m\u001b[0m \u001b[1m2s\u001b[0m 1ms/step - accuracy: 0.9763 - loss: 0.0623\n",
            "Epoch 12/30\n",
            "\u001b[1m1400/1400\u001b[0m \u001b[32m━━━━━━━━━━━━━━━━━━━━\u001b[0m\u001b[37m\u001b[0m \u001b[1m2s\u001b[0m 1ms/step - accuracy: 0.9772 - loss: 0.0609\n",
            "Epoch 13/30\n",
            "\u001b[1m1400/1400\u001b[0m \u001b[32m━━━━━━━━━━━━━━━━━━━━\u001b[0m\u001b[37m\u001b[0m \u001b[1m2s\u001b[0m 1ms/step - accuracy: 0.9781 - loss: 0.0593\n",
            "Epoch 14/30\n",
            "\u001b[1m1400/1400\u001b[0m \u001b[32m━━━━━━━━━━━━━━━━━━━━\u001b[0m\u001b[37m\u001b[0m \u001b[1m2s\u001b[0m 1ms/step - accuracy: 0.9778 - loss: 0.0586\n",
            "Epoch 15/30\n",
            "\u001b[1m1400/1400\u001b[0m \u001b[32m━━━━━━━━━━━━━━━━━━━━\u001b[0m\u001b[37m\u001b[0m \u001b[1m2s\u001b[0m 1ms/step - accuracy: 0.9789 - loss: 0.0574\n",
            "Epoch 16/30\n",
            "\u001b[1m1400/1400\u001b[0m \u001b[32m━━━━━━━━━━━━━━━━━━━━\u001b[0m\u001b[37m\u001b[0m \u001b[1m2s\u001b[0m 1ms/step - accuracy: 0.9789 - loss: 0.0563\n",
            "Epoch 17/30\n",
            "\u001b[1m1400/1400\u001b[0m \u001b[32m━━━━━━━━━━━━━━━━━━━━\u001b[0m\u001b[37m\u001b[0m \u001b[1m2s\u001b[0m 1ms/step - accuracy: 0.9791 - loss: 0.0552\n",
            "Epoch 18/30\n",
            "\u001b[1m1400/1400\u001b[0m \u001b[32m━━━━━━━━━━━━━━━━━━━━\u001b[0m\u001b[37m\u001b[0m \u001b[1m2s\u001b[0m 1ms/step - accuracy: 0.9797 - loss: 0.0543\n",
            "Epoch 19/30\n",
            "\u001b[1m1400/1400\u001b[0m \u001b[32m━━━━━━━━━━━━━━━━━━━━\u001b[0m\u001b[37m\u001b[0m \u001b[1m2s\u001b[0m 1ms/step - accuracy: 0.9805 - loss: 0.0532\n",
            "Epoch 20/30\n",
            "\u001b[1m1400/1400\u001b[0m \u001b[32m━━━━━━━━━━━━━━━━━━━━\u001b[0m\u001b[37m\u001b[0m \u001b[1m2s\u001b[0m 1ms/step - accuracy: 0.9805 - loss: 0.0522\n",
            "Epoch 21/30\n",
            "\u001b[1m1400/1400\u001b[0m \u001b[32m━━━━━━━━━━━━━━━━━━━━\u001b[0m\u001b[37m\u001b[0m \u001b[1m2s\u001b[0m 1ms/step - accuracy: 0.9809 - loss: 0.0515\n",
            "Epoch 22/30\n",
            "\u001b[1m1400/1400\u001b[0m \u001b[32m━━━━━━━━━━━━━━━━━━━━\u001b[0m\u001b[37m\u001b[0m \u001b[1m2s\u001b[0m 1ms/step - accuracy: 0.9808 - loss: 0.0508\n",
            "Epoch 23/30\n",
            "\u001b[1m1400/1400\u001b[0m \u001b[32m━━━━━━━━━━━━━━━━━━━━\u001b[0m\u001b[37m\u001b[0m \u001b[1m2s\u001b[0m 1ms/step - accuracy: 0.9815 - loss: 0.0499\n",
            "Epoch 24/30\n",
            "\u001b[1m1400/1400\u001b[0m \u001b[32m━━━━━━━━━━━━━━━━━━━━\u001b[0m\u001b[37m\u001b[0m \u001b[1m2s\u001b[0m 1ms/step - accuracy: 0.9814 - loss: 0.0491\n",
            "Epoch 25/30\n",
            "\u001b[1m1400/1400\u001b[0m \u001b[32m━━━━━━━━━━━━━━━━━━━━\u001b[0m\u001b[37m\u001b[0m \u001b[1m2s\u001b[0m 1ms/step - accuracy: 0.9820 - loss: 0.0484\n",
            "Epoch 26/30\n",
            "\u001b[1m1400/1400\u001b[0m \u001b[32m━━━━━━━━━━━━━━━━━━━━\u001b[0m\u001b[37m\u001b[0m \u001b[1m2s\u001b[0m 1ms/step - accuracy: 0.9819 - loss: 0.0477\n",
            "Epoch 27/30\n",
            "\u001b[1m1400/1400\u001b[0m \u001b[32m━━━━━━━━━━━━━━━━━━━━\u001b[0m\u001b[37m\u001b[0m \u001b[1m2s\u001b[0m 1ms/step - accuracy: 0.9821 - loss: 0.0470\n",
            "Epoch 28/30\n",
            "\u001b[1m1400/1400\u001b[0m \u001b[32m━━━━━━━━━━━━━━━━━━━━\u001b[0m\u001b[37m\u001b[0m \u001b[1m2s\u001b[0m 1ms/step - accuracy: 0.9825 - loss: 0.0465\n",
            "Epoch 29/30\n",
            "\u001b[1m1400/1400\u001b[0m \u001b[32m━━━━━━━━━━━━━━━━━━━━\u001b[0m\u001b[37m\u001b[0m \u001b[1m2s\u001b[0m 1ms/step - accuracy: 0.9830 - loss: 0.0459\n",
            "Epoch 30/30\n",
            "\u001b[1m1400/1400\u001b[0m \u001b[32m━━━━━━━━━━━━━━━━━━━━\u001b[0m\u001b[37m\u001b[0m \u001b[1m2s\u001b[0m 1ms/step - accuracy: 0.9832 - loss: 0.0453\n"
          ]
        },
        {
          "data": {
            "text/plain": [
              "<keras.src.callbacks.history.History at 0x7c0beef85480>"
            ]
          },
          "execution_count": 18,
          "metadata": {},
          "output_type": "execute_result"
        }
      ],
      "source": [
        "clf = ak.AutoModel(\n",
        "    ak.Input(shape=(X_train.shape[1],)),\n",
        "    outputs=ak.ClassificationHead(num_classes=2),\n",
        "    overwrite=True,\n",
        "    max_trials=50\n",
        ")\n",
        "\n",
        "clf.fit(X_train, y_train, epochs=30)"
      ]
    },
    {
      "cell_type": "code",
      "execution_count": null,
      "metadata": {
        "id": "3hLtCzppJJoE"
      },
      "outputs": [],
      "source": [
        "X_test = X_test.to_numpy()\n",
        "y_test = y_test.to_numpy()"
      ]
    },
    {
      "cell_type": "code",
      "execution_count": null,
      "metadata": {
        "colab": {
          "base_uri": "https://localhost:8080/"
        },
        "id": "ipLnO5pDIwjV",
        "outputId": "e8018759-6fff-4756-8a3b-640872785827"
      },
      "outputs": [
        {
          "name": "stderr",
          "output_type": "stream",
          "text": [
            "/usr/local/lib/python3.10/dist-packages/keras/src/saving/saving_lib.py:576: UserWarning: Skipping variable loading for optimizer 'adamw', because it has 1 variables whereas the saved optimizer has 13 variables. \n",
            "  saveable.load_own_variables(weights_store.get(inner_path))\n"
          ]
        },
        {
          "name": "stdout",
          "output_type": "stream",
          "text": [
            "\u001b[1m916/916\u001b[0m \u001b[32m━━━━━━━━━━━━━━━━━━━━\u001b[0m\u001b[37m\u001b[0m \u001b[1m1s\u001b[0m 1ms/step\n",
            "\u001b[1m916/916\u001b[0m \u001b[32m━━━━━━━━━━━━━━━━━━━━\u001b[0m\u001b[37m\u001b[0m \u001b[1m1s\u001b[0m 1ms/step\n"
          ]
        }
      ],
      "source": [
        "predictions_prob = clf.predict(X_test)\n",
        "predictions = (predictions_prob > 0.5).astype(int)"
      ]
    },
    {
      "cell_type": "code",
      "execution_count": null,
      "metadata": {
        "colab": {
          "base_uri": "https://localhost:8080/"
        },
        "id": "hmiou9P_JTfh",
        "outputId": "ba648fea-1b63-4716-9ef9-f68f366c0738"
      },
      "outputs": [
        {
          "name": "stdout",
          "output_type": "stream",
          "text": [
            "[[ 2656   580]\n",
            " [  787 25272]]\n",
            "              precision    recall  f1-score   support\n",
            "\n",
            "           0     0.7714    0.8208    0.7953      3236\n",
            "           1     0.9776    0.9698    0.9737     26059\n",
            "\n",
            "    accuracy                         0.9533     29295\n",
            "   macro avg     0.8745    0.8953    0.8845     29295\n",
            "weighted avg     0.9548    0.9533    0.9540     29295\n",
            "\n",
            "FPR: 0.1792336217552534\n",
            "FNR: 0.030200698415134886\n",
            "ROC: 0.8952828399148058\n",
            "ROC_prob: 0.8952828399148058\n"
          ]
        }
      ],
      "source": [
        "from sklearn.metrics import roc_auc_score\n",
        "from sklearn.metrics import confusion_matrix\n",
        "from sklearn.metrics import classification_report\n",
        "true_labels = y_test\n",
        "cr = classification_report(true_labels, predictions, digits=4, zero_division=0)\n",
        "cm = confusion_matrix(true_labels, predictions)\n",
        "TN = cm[0][0]\n",
        "FN = cm[1][0]\n",
        "TP = cm[1][1]\n",
        "FP = cm[0][1]\n",
        "# Fall out or false positive rate\n",
        "FPR = FP/(FP+TN) if (FP+TN) > 0 else 0\n",
        "# False negative rate\n",
        "FNR = FN/(TP+FN) if (TP+FN) > 0 else 0\n",
        "\n",
        "roc = roc_auc_score(true_labels, predictions)\n",
        "roc_prob = roc_auc_score(true_labels, predictions_prob)\n",
        "\n",
        "print(cm)\n",
        "print(cr)\n",
        "print(f\"FPR: {FPR}\")\n",
        "print(f\"FNR: {FNR}\")\n",
        "print(f\"ROC: {roc}\")\n",
        "print(f\"ROC_prob: {roc_prob}\")"
      ]
    },
    {
      "cell_type": "code",
      "execution_count": null,
      "metadata": {
        "id": "1QQA4JIynYvC"
      },
      "outputs": [],
      "source": []
    }
  ],
  "metadata": {
    "accelerator": "GPU",
    "colab": {
      "gpuType": "T4",
      "machine_shape": "hm",
      "provenance": []
    },
    "kernelspec": {
      "display_name": "Python 3",
      "name": "python3"
    },
    "language_info": {
      "name": "python"
    }
  },
  "nbformat": 4,
  "nbformat_minor": 0
}
